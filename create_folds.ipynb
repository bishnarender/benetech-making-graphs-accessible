{
 "cells": [
  {
   "cell_type": "code",
   "execution_count": 3,
   "id": "c2e3542c",
   "metadata": {},
   "outputs": [],
   "source": [
    "import argparse\n",
    "import glob\n",
    "import json\n",
    "import os\n",
    "from itertools import chain\n",
    "\n",
    "import pandas as pd\n",
    "from joblib import Parallel, delayed\n",
    "from omegaconf import OmegaConf\n",
    "from sklearn.model_selection import StratifiedKFold\n"
   ]
  },
  {
   "cell_type": "code",
   "execution_count": 4,
   "id": "1799b309",
   "metadata": {},
   "outputs": [],
   "source": [
    "# ---\n",
    "def print_line():\n",
    "    prefix, unit, suffix = \"#\", \"--\", \"#\"\n",
    "    print(prefix + unit*50 + suffix)\n"
   ]
  },
  {
   "cell_type": "code",
   "execution_count": 17,
   "id": "fe9150d6",
   "metadata": {},
   "outputs": [],
   "source": [
    "def _process_json(fp):\n",
    "    \"\"\"process JSON files with annotations\n",
    "\n",
    "    :param fp: file path\n",
    "    :type fp: str\n",
    "    :return: parsed annotation\n",
    "    :rtype: dict\n",
    "    \"\"\"\n",
    "\n",
    "    # read annotations ---\n",
    "    with open(fp, \"r\") as f:\n",
    "        anno = json.load(f)\n",
    "\n",
    "    # store necessary data for labels ---\n",
    "    chart_id = fp.split(\"/\")[-1].split(\".\")[0]\n",
    "    chart_source = anno[\"source\"]\n",
    "    chart_type = anno['chart-type']\n",
    "\n",
    "    labels = []\n",
    "\n",
    "    labels.append(\n",
    "        {\n",
    "            \"id\": chart_id,\n",
    "            \"source\": chart_source,\n",
    "            \"chart_type\": chart_type,\n",
    "        }\n",
    "    )\n",
    "\n",
    "    # labels => [{'id': '8941f843bb04', 'source': 'generated', 'chart_type': 'dot'}]\n",
    "    \n",
    "    return labels\n"
   ]
  },
  {
   "cell_type": "code",
   "execution_count": 34,
   "id": "05d58e04",
   "metadata": {},
   "outputs": [],
   "source": [
    "def process_annotations(cfg, num_jobs=8):\n",
    "    data_dir = cfg.competition_dataset.data_dir.rstrip(\"/\")\n",
    "    anno_paths = glob.glob(f\"{data_dir}/train/annotations/*.json\")\n",
    "    annotations = Parallel(n_jobs=num_jobs, verbose=1)(delayed(_process_json)(file_path) for file_path in anno_paths)\n",
    "    \n",
    "    # annotations[0:5] => [[{'id': '8941f843bb04', 'source': 'generated', 'chart_type': 'dot'}], [{'id': '7dbdb91fa4a7', 'source': 'generated', 'chart_type': 'scatter'}], [{'id': '956c946a123d', 'source': 'generated', 'chart_type': 'line'}], [{'id': '5fe5636e61d3', 'source': 'generated', 'chart_type': 'dot'}], [{'id': 'e3f11968d040', 'source': 'generated', 'chart_type': 'line'}]]\n",
    "    \n",
    "    # *annotations[0:5] => [{'id': '8941f843bb04', 'source': 'generated', 'chart_type': 'dot'}] [{'id': '7dbdb91fa4a7', 'source': 'generated', 'chart_type': 'scatter'}] [{'id': '956c946a123d', 'source': 'generated', 'chart_type': 'line'}] [{'id': '5fe5636e61d3', 'source': 'generated', 'chart_type': 'dot'}] [{'id': 'e3f11968d040', 'source': 'generated', 'chart_type': 'line'}]        \n",
    "    \n",
    "    # list(chain(*annotations))[0:5] =>\n",
    "    # [{'id': '8941f843bb04', 'source': 'generated', 'chart_type': 'dot'}, {'id': '7dbdb91fa4a7', 'source': 'generated', 'chart_type': 'scatter'}, {'id': '956c946a123d', 'source': 'generated', 'chart_type': 'line'}, {'id': '5fe5636e61d3', 'source': 'generated', 'chart_type': 'dot'}, {'id': 'e3f11968d040', 'source': 'generated', 'chart_type': 'line'}]\n",
    "    labels_df = pd.DataFrame(list(chain(*annotations)))\n",
    "    \n",
    "    # labels_df.head(3)\n",
    "    #                  id     source chart_type\n",
    "    # 0  8941f843bb04  generated        dot\n",
    "    # 1  7dbdb91fa4a7  generated    scatter\n",
    "    # 2  956c946a123d  generated       line\n",
    "    \n",
    "    return labels_df\n"
   ]
  },
  {
   "cell_type": "code",
   "execution_count": null,
   "id": "b95b6285",
   "metadata": {},
   "outputs": [],
   "source": []
  },
  {
   "cell_type": "code",
   "execution_count": null,
   "id": "4cb8f52b",
   "metadata": {},
   "outputs": [],
   "source": []
  },
  {
   "cell_type": "code",
   "execution_count": 37,
   "id": "d1e58c96",
   "metadata": {},
   "outputs": [],
   "source": [
    "def create_cv_folds(cfg):\n",
    "    \"\"\"Create Folds for the MGA task\n",
    "\n",
    "    :param args: config file\n",
    "    :type args: dict\n",
    "    \"\"\"\n",
    "    print_line()\n",
    "    print(\"creating folds ...\")\n",
    "    \n",
    "    fold_df = process_annotations(cfg)\n",
    "    fold_df = fold_df[[\"id\", \"source\", \"chart_type\"]].copy()\n",
    "    fold_df = fold_df.drop_duplicates()\n",
    "    fold_df = fold_df.reset_index(drop=True)\n",
    "    \n",
    "    print(cfg.fold_metadata.n_folds)\n",
    "    # ------\n",
    "    skf = StratifiedKFold(\n",
    "        n_splits=cfg.fold_metadata.n_folds,\n",
    "        shuffle=True,\n",
    "        random_state=cfg.fold_metadata.seed\n",
    "    )\n",
    "\n",
    "    for f, (t_, v_) in enumerate(skf.split(fold_df, fold_df[\"chart_type\"].values)):\n",
    "        fold_df.loc[v_, \"kfold\"] = f\n",
    "        \n",
    "    fold_df[\"kfold\"] = fold_df[\"kfold\"].astype(int)\n",
    "\n",
    "    # allocate fold 99 to synthetic data\n",
    "    fold_df[\"kfold\"] = fold_df[[\"kfold\", \"source\"]].apply(\n",
    "        lambda x: x[0] if x[1] == \"extracted\" else 99, axis=1,\n",
    "    )\n",
    "\n",
    "    # fold_df.kfold.unique() => array([99,  0,  1])\n",
    "    \n",
    "    print(fold_df[\"kfold\"].value_counts())\n",
    "\n",
    "    # save fold split ---\n",
    "    save_dir = cfg.fold_metadata.fold_dir\n",
    "    os.makedirs(save_dir, exist_ok=True)\n",
    "\n",
    "    save_path = os.path.join(save_dir, f\"cv_map_{cfg.fold_metadata.n_folds}_folds.parquet\")\n",
    "    fold_df = fold_df[[\"id\", \"kfold\"]].copy()\n",
    "    fold_df = fold_df.reset_index(drop=True)\n",
    "    fold_df.to_parquet(save_path)\n",
    "    print(\"done!\")\n",
    "    print_line()\n",
    "    # ---\n",
    "    # fold_df.head(3) =>\n",
    "    #               id  kfold\n",
    "    # 0  8941f843bb04     99\n",
    "    # 1  7dbdb91fa4a7     99\n",
    "    # 2  956c946a123d     99\n"
   ]
  },
  {
   "cell_type": "code",
   "execution_count": 38,
   "id": "4415f34e",
   "metadata": {},
   "outputs": [
    {
     "name": "stdout",
     "output_type": "stream",
     "text": [
      "#----------------------------------------------------------------------------------------------------#\n",
      "creating folds ...\n"
     ]
    },
    {
     "name": "stderr",
     "output_type": "stream",
     "text": [
      "[Parallel(n_jobs=8)]: Using backend LokyBackend with 8 concurrent workers.\n",
      "[Parallel(n_jobs=8)]: Done  56 tasks      | elapsed:    0.0s\n",
      "[Parallel(n_jobs=8)]: Done 37706 tasks      | elapsed:    0.9s\n",
      "[Parallel(n_jobs=8)]: Done 60578 out of 60578 | elapsed:    1.2s finished\n"
     ]
    },
    {
     "name": "stdout",
     "output_type": "stream",
     "text": [
      "2\n",
      "kfold\n",
      "99    59460\n",
      "0       564\n",
      "1       554\n",
      "Name: count, dtype: int64\n",
      "done!\n",
      "#----------------------------------------------------------------------------------------------------#\n"
     ]
    }
   ],
   "source": [
    "if __name__ == \"__main__\":\n",
    "    ap = argparse.ArgumentParser()\n",
    "    ap.add_argument(\"--config_path\", default='./conf/tools/conf_folds.yaml', type=str, )# required=True\n",
    "    args, unknown = ap.parse_known_args()\n",
    "\n",
    "    cfg = OmegaConf.load(args.config_path)\n",
    "    create_cv_folds(cfg)\n"
   ]
  },
  {
   "cell_type": "code",
   "execution_count": null,
   "id": "7b45037b",
   "metadata": {},
   "outputs": [],
   "source": []
  },
  {
   "cell_type": "code",
   "execution_count": null,
   "id": "eaa248f9",
   "metadata": {},
   "outputs": [],
   "source": []
  }
 ],
 "metadata": {
  "kernelspec": {
   "display_name": "Python 3 (ipykernel)",
   "language": "python",
   "name": "python3"
  },
  "language_info": {
   "codemirror_mode": {
    "name": "ipython",
    "version": 3
   },
   "file_extension": ".py",
   "mimetype": "text/x-python",
   "name": "python",
   "nbconvert_exporter": "python",
   "pygments_lexer": "ipython3",
   "version": "3.8.17"
  }
 },
 "nbformat": 4,
 "nbformat_minor": 5
}
