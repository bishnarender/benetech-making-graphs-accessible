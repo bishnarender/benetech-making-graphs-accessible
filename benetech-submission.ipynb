{
 "cells": [
  {
   "cell_type": "code",
   "execution_count": 1,
   "id": "1ed14e42",
   "metadata": {
    "execution": {
     "iopub.execute_input": "2023-07-21T10:39:15.593930Z",
     "iopub.status.busy": "2023-07-21T10:39:15.593506Z",
     "iopub.status.idle": "2023-07-21T10:39:15.598513Z",
     "shell.execute_reply": "2023-07-21T10:39:15.597643Z"
    },
    "papermill": {
     "duration": 0.021161,
     "end_time": "2023-07-21T10:39:15.602326",
     "exception": false,
     "start_time": "2023-07-21T10:39:15.581165",
     "status": "completed"
    },
    "tags": []
   },
   "outputs": [],
   "source": [
    "# This file is modified version of original:\n",
    "# https://www.kaggle.com/code/conjuring92/a05-mga-split-pipe/notebook"
   ]
  },
  {
   "cell_type": "markdown",
   "id": "96396386",
   "metadata": {
    "papermill": {
     "duration": 0.010159,
     "end_time": "2023-07-21T10:39:15.623015",
     "exception": false,
     "start_time": "2023-07-21T10:39:15.612856",
     "status": "completed"
    },
    "tags": []
   },
   "source": [
    "### Imports"
   ]
  },
  {
   "cell_type": "code",
   "execution_count": 2,
   "id": "006d5cae",
   "metadata": {
    "execution": {
     "iopub.execute_input": "2023-07-21T10:39:15.644979Z",
     "iopub.status.busy": "2023-07-21T10:39:15.644464Z",
     "iopub.status.idle": "2023-07-21T10:39:19.124733Z",
     "shell.execute_reply": "2023-07-21T10:39:19.123802Z"
    },
    "papermill": {
     "duration": 3.494163,
     "end_time": "2023-07-21T10:39:19.127457",
     "exception": false,
     "start_time": "2023-07-21T10:39:15.633294",
     "status": "completed"
    },
    "tags": []
   },
   "outputs": [],
   "source": [
    "import os\n",
    "import sys\n",
    "import json \n",
    "import glob\n",
    "import gc\n",
    "import torch\n",
    "\n",
    "import pandas as pd\n",
    "import numpy as np\n",
    "\n",
    "from PIL import Image\n",
    "from pathlib import Path"
   ]
  },
  {
   "cell_type": "code",
   "execution_count": 3,
   "id": "cd449ea3",
   "metadata": {
    "execution": {
     "iopub.execute_input": "2023-07-21T10:39:19.149800Z",
     "iopub.status.busy": "2023-07-21T10:39:19.149301Z",
     "iopub.status.idle": "2023-07-21T10:39:19.263505Z",
     "shell.execute_reply": "2023-07-21T10:39:19.262617Z"
    },
    "papermill": {
     "duration": 0.128098,
     "end_time": "2023-07-21T10:39:19.266108",
     "exception": false,
     "start_time": "2023-07-21T10:39:19.138010",
     "status": "completed"
    },
    "tags": []
   },
   "outputs": [],
   "source": [
    "sys.path.insert(0, '/kaggle/input/benetech-weights/omegaconf')\n",
    "from omegaconf import OmegaConf"
   ]
  },
  {
   "cell_type": "code",
   "execution_count": 4,
   "id": "c142878c",
   "metadata": {
    "execution": {
     "iopub.execute_input": "2023-07-21T10:39:19.289186Z",
     "iopub.status.busy": "2023-07-21T10:39:19.288233Z",
     "iopub.status.idle": "2023-07-21T10:39:27.172533Z",
     "shell.execute_reply": "2023-07-21T10:39:27.171570Z"
    },
    "papermill": {
     "duration": 7.898376,
     "end_time": "2023-07-21T10:39:27.175148",
     "exception": false,
     "start_time": "2023-07-21T10:39:19.276772",
     "status": "completed"
    },
    "tags": []
   },
   "outputs": [
    {
     "name": "stderr",
     "output_type": "stream",
     "text": [
      "/opt/conda/lib/python3.10/site-packages/scipy/__init__.py:146: UserWarning: A NumPy version >=1.16.5 and <1.23.0 is required for this version of SciPy (detected version 1.23.5\n",
      "  warnings.warn(f\"A NumPy version >={np_minversion} and <{np_maxversion}\"\n"
     ]
    }
   ],
   "source": [
    "from torch.utils.data import DataLoader\n",
    "from accelerate import Accelerator\n",
    "from transformers import GenerationConfig\n",
    "from tqdm.auto import tqdm"
   ]
  },
  {
   "cell_type": "markdown",
   "id": "ff31abec",
   "metadata": {
    "papermill": {
     "duration": 0.01016,
     "end_time": "2023-07-21T10:39:27.195890",
     "exception": false,
     "start_time": "2023-07-21T10:39:27.185730",
     "status": "completed"
    },
    "tags": []
   },
   "source": [
    "# Config"
   ]
  },
  {
   "cell_type": "code",
   "execution_count": 5,
   "id": "63d99a6d",
   "metadata": {
    "execution": {
     "iopub.execute_input": "2023-07-21T10:39:27.217915Z",
     "iopub.status.busy": "2023-07-21T10:39:27.217555Z",
     "iopub.status.idle": "2023-07-21T10:39:27.223910Z",
     "shell.execute_reply": "2023-07-21T10:39:27.223039Z"
    },
    "papermill": {
     "duration": 0.019917,
     "end_time": "2023-07-21T10:39:27.226025",
     "exception": false,
     "start_time": "2023-07-21T10:39:27.206108",
     "status": "completed"
    },
    "tags": []
   },
   "outputs": [
    {
     "name": "stdout",
     "output_type": "stream",
     "text": [
      "Writing mga_cfg_deplot.yaml\n"
     ]
    }
   ],
   "source": [
    "%%writefile mga_cfg_deplot.yaml\n",
    "model:\n",
    "    backbone_path: /kaggle/input/matcha-base/matcha-base\n",
    "    max_length: 8\n",
    "    max_patches: 3072\n",
    "    patch_size: 16\n",
    "    len_tokenizer: ???\n",
    "    pad_token_id: ???\n",
    "    decoder_start_token_id: ???\n",
    "    bos_token_id: ???\n",
    "        \n",
    "predict_params:\n",
    "    bs: 1\n",
    "    checkpoint_path: /kaggle/input/benetech-weights/models/final_model_fold_0.pth.tar\n",
    "\n",
    "competition_dataset:\n",
    "    data_dir: /kaggle/input/benetech-making-graphs-accessible"
   ]
  },
  {
   "cell_type": "code",
   "execution_count": 6,
   "id": "82116b51",
   "metadata": {
    "execution": {
     "iopub.execute_input": "2023-07-21T10:39:27.248399Z",
     "iopub.status.busy": "2023-07-21T10:39:27.247545Z",
     "iopub.status.idle": "2023-07-21T10:39:27.261937Z",
     "shell.execute_reply": "2023-07-21T10:39:27.261072Z"
    },
    "papermill": {
     "duration": 0.027516,
     "end_time": "2023-07-21T10:39:27.263840",
     "exception": false,
     "start_time": "2023-07-21T10:39:27.236324",
     "status": "completed"
    },
    "tags": []
   },
   "outputs": [
    {
     "data": {
      "text/plain": [
       "{'model': {'backbone_path': '/kaggle/input/matcha-base/matcha-base', 'max_length': 8, 'max_patches': 3072, 'patch_size': 16, 'len_tokenizer': '???', 'pad_token_id': '???', 'decoder_start_token_id': '???', 'bos_token_id': '???'}, 'predict_params': {'bs': 1, 'checkpoint_path': '/kaggle/input/benetech-weights/models/final_model_fold_0.pth.tar'}, 'competition_dataset': {'data_dir': '/kaggle/input/benetech-making-graphs-accessible'}}"
      ]
     },
     "execution_count": 6,
     "metadata": {},
     "output_type": "execute_result"
    }
   ],
   "source": [
    "cfg = OmegaConf.load('mga_cfg_deplot.yaml')\n",
    "cfg"
   ]
  },
  {
   "cell_type": "markdown",
   "id": "9f2038fc",
   "metadata": {
    "papermill": {
     "duration": 0.010364,
     "end_time": "2023-07-21T10:39:27.284644",
     "exception": false,
     "start_time": "2023-07-21T10:39:27.274280",
     "status": "completed"
    },
    "tags": []
   },
   "source": [
    "# Dataset"
   ]
  },
  {
   "cell_type": "code",
   "execution_count": 7,
   "id": "69347aac",
   "metadata": {
    "execution": {
     "iopub.execute_input": "2023-07-21T10:39:27.308144Z",
     "iopub.status.busy": "2023-07-21T10:39:27.307242Z",
     "iopub.status.idle": "2023-07-21T10:39:27.701548Z",
     "shell.execute_reply": "2023-07-21T10:39:27.700523Z"
    },
    "papermill": {
     "duration": 0.408539,
     "end_time": "2023-07-21T10:39:27.704105",
     "exception": false,
     "start_time": "2023-07-21T10:39:27.295566",
     "status": "completed"
    },
    "tags": []
   },
   "outputs": [],
   "source": [
    "# Reference: https://www.kaggle.com/code/nbroad/donut-train-benetech\n",
    "\n",
    "import json\n",
    "import os\n",
    "import pdb\n",
    "from copy import deepcopy\n",
    "\n",
    "import torch\n",
    "from PIL import Image\n",
    "from tokenizers import AddedToken\n",
    "from torch.utils.data import Dataset\n",
    "from transformers import Pix2StructProcessor\n",
    "\n",
    "# -- token map --#\n",
    "TOKEN_MAP = {\n",
    "    \"line\": \"[<lines>]\",\n",
    "    \"vertical_bar\": \"[<vertical_bar>]\",\n",
    "    \"scatter\": \"[<scatter>]\",\n",
    "    \"dot\": \"[<dot>]\",\n",
    "    \"horizontal_bar\": \"[<horizontal_bar>]\",\n",
    "    \"histogram\": \"[<histogram>]\",\n",
    "\n",
    "    \"c_start\": \"[<c_start>]\",\n",
    "    \"c_end\": \"[<c_end>]\",\n",
    "    \"x_start\": \"[<x_start>]\",\n",
    "    \"x_end\": \"[<x_end>]\",\n",
    "    \"y_start\": \"[<y_start>]\",\n",
    "    \"y_end\": \"[<y_end>]\",\n",
    "\n",
    "    \"p_start\": \"[<p_start>]\",\n",
    "    \"p_end\": \"[<p_end>]\",\n",
    "\n",
    "    \"bos_token\": \"[<mga>]\",\n",
    "}\n",
    "\n",
    "\n",
    "# -----\n",
    "\n",
    "def is_nan(val):\n",
    "    return val != val\n",
    "\n",
    "\n",
    "def get_processor(cfg):\n",
    "    \"\"\"\n",
    "    load the processor\n",
    "    \"\"\"\n",
    "    processor_path = cfg.model.backbone_path\n",
    "    print(f\"loading processor from {processor_path}\")\n",
    "    processor = Pix2StructProcessor.from_pretrained(processor_path)\n",
    "    processor.image_processor.is_vqa = False\n",
    "    processor.image_processor.patch_size = {\n",
    "        \"height\": cfg.model.patch_size,\n",
    "        \"width\": cfg.model.patch_size\n",
    "    }\n",
    "\n",
    "    # NEW TOKENS\n",
    "    print(\"adding new tokens...\")\n",
    "    new_tokens = []\n",
    "    for _, this_tok in TOKEN_MAP.items():\n",
    "        new_tokens.append(this_tok)\n",
    "    new_tokens = sorted(new_tokens)\n",
    "\n",
    "    tokens_to_add = []\n",
    "    for this_tok in new_tokens:\n",
    "        tokens_to_add.append(AddedToken(this_tok, lstrip=False, rstrip=False))\n",
    "\n",
    "    processor.tokenizer.add_tokens(tokens_to_add)\n",
    "\n",
    "    return processor\n",
    "\n",
    "\n",
    "class MGADataset(Dataset):\n",
    "    \"\"\"Dataset class for MGA dataset\n",
    "    \"\"\"\n",
    "\n",
    "    def __init__(self, cfg, graph_ids, transform=None):\n",
    "\n",
    "        self.cfg = cfg\n",
    "        self.data_dir = cfg.competition_dataset.data_dir.rstrip(\"/\")\n",
    "        self.image_dir = os.path.join(self.data_dir, \"test\", \"images\")\n",
    "\n",
    "        self.graph_ids = deepcopy(graph_ids)\n",
    "        self.transform = transform\n",
    "\n",
    "        # load processor\n",
    "        self.load_processor()\n",
    "\n",
    "    def load_processor(self):\n",
    "        self.processor = get_processor(self.cfg)\n",
    "\n",
    "    def load_image(self, graph_id):\n",
    "        image_path = os.path.join(self.image_dir, f\"{graph_id}.jpg\")\n",
    "        image = Image.open(image_path)\n",
    "        if image.mode != 'RGB':\n",
    "            image = image.convert('RGB')\n",
    "\n",
    "        return image\n",
    "\n",
    "    def __len__(self):\n",
    "        return len(self.graph_ids)\n",
    "\n",
    "    def __getitem__(self, index):\n",
    "        graph_id = self.graph_ids[index]\n",
    "        image = self.load_image(graph_id)\n",
    "\n",
    "        p_img = self.processor(\n",
    "            images=image,\n",
    "            max_patches=self.cfg.model.max_patches,\n",
    "            add_special_tokens=True,\n",
    "        )\n",
    "\n",
    "        r = {}\n",
    "        r['id'] = graph_id\n",
    "        r['image'] = image\n",
    "        r['flattened_patches'] = p_img['flattened_patches']\n",
    "        r['attention_mask'] = p_img['attention_mask']\n",
    "\n",
    "        return r"
   ]
  },
  {
   "cell_type": "markdown",
   "id": "82c021f8",
   "metadata": {
    "papermill": {
     "duration": 0.010818,
     "end_time": "2023-07-21T10:39:27.725919",
     "exception": false,
     "start_time": "2023-07-21T10:39:27.715101",
     "status": "completed"
    },
    "tags": []
   },
   "source": [
    "# Data Loader"
   ]
  },
  {
   "cell_type": "code",
   "execution_count": 8,
   "id": "a9ccb37b",
   "metadata": {
    "execution": {
     "iopub.execute_input": "2023-07-21T10:39:27.750155Z",
     "iopub.status.busy": "2023-07-21T10:39:27.748588Z",
     "iopub.status.idle": "2023-07-21T10:39:28.453905Z",
     "shell.execute_reply": "2023-07-21T10:39:28.452956Z"
    },
    "papermill": {
     "duration": 0.71983,
     "end_time": "2023-07-21T10:39:28.456499",
     "exception": false,
     "start_time": "2023-07-21T10:39:27.736669",
     "status": "completed"
    },
    "tags": []
   },
   "outputs": [],
   "source": [
    "import pdb\n",
    "from copy import deepcopy\n",
    "from dataclasses import dataclass\n",
    "\n",
    "import numpy as np\n",
    "import torch\n",
    "from transformers import DataCollatorWithPadding\n",
    "\n",
    "\n",
    "@dataclass\n",
    "class MGACollator(DataCollatorWithPadding):\n",
    "    \"\"\"\n",
    "    data collector for mga task\n",
    "    \"\"\"\n",
    "\n",
    "    tokenizer = None\n",
    "    padding = True\n",
    "    max_length = None\n",
    "    pad_to_multiple_of = None\n",
    "    return_tensors = \"pt\"\n",
    "\n",
    "    def __call__(self, features):\n",
    "        batch = dict()\n",
    "\n",
    "        # graph ids\n",
    "        batch[\"id\"] = [feature[\"id\"] for feature in features]\n",
    "        batch[\"images\"] = [feature[\"image\"] for feature in features]\n",
    "\n",
    "        # image features ---\n",
    "        flattened_patches = [feature[\"flattened_patches\"] for feature in features]\n",
    "        attention_mask = [feature[\"attention_mask\"] for feature in features]\n",
    "\n",
    "        flattened_patches = np.concatenate(flattened_patches, axis=0)\n",
    "        attention_mask = np.concatenate(attention_mask, axis=0)\n",
    "\n",
    "        batch[\"flattened_patches\"] = flattened_patches\n",
    "        batch[\"attention_mask\"] = attention_mask\n",
    "\n",
    "        # casting ---\n",
    "        tensor_keys = [\"flattened_patches\", \"attention_mask\"]\n",
    "        \n",
    "        for key in tensor_keys:\n",
    "            if key != \"flattened_patches\":\n",
    "                batch[key] = torch.tensor(batch[key], dtype=torch.int64)\n",
    "            else:\n",
    "                batch[key] = torch.tensor(batch[key], dtype=torch.float32)\n",
    "\n",
    "        return batch\n"
   ]
  },
  {
   "cell_type": "markdown",
   "id": "6bb673d3",
   "metadata": {
    "papermill": {
     "duration": 0.010559,
     "end_time": "2023-07-21T10:39:28.478262",
     "exception": false,
     "start_time": "2023-07-21T10:39:28.467703",
     "status": "completed"
    },
    "tags": []
   },
   "source": [
    "# Model"
   ]
  },
  {
   "cell_type": "code",
   "execution_count": 9,
   "id": "e508d07d",
   "metadata": {
    "execution": {
     "iopub.execute_input": "2023-07-21T10:39:28.501064Z",
     "iopub.status.busy": "2023-07-21T10:39:28.500756Z",
     "iopub.status.idle": "2023-07-21T10:39:28.578253Z",
     "shell.execute_reply": "2023-07-21T10:39:28.577241Z"
    },
    "papermill": {
     "duration": 0.091509,
     "end_time": "2023-07-21T10:39:28.580537",
     "exception": false,
     "start_time": "2023-07-21T10:39:28.489028",
     "status": "completed"
    },
    "tags": []
   },
   "outputs": [],
   "source": [
    "import sys\n",
    "from pathlib import Path\n",
    "\n",
    "import numpy as np\n",
    "import torch\n",
    "import torch.nn as nn\n",
    "import torch.nn.functional as F\n",
    "import torch.utils.checkpoint\n",
    "from transformers import (AutoConfig, AutoModel, Pix2StructConfig,\n",
    "                          Pix2StructForConditionalGeneration)\n",
    "\n",
    "\n",
    "def get_model(cfg):\n",
    "    model = Pix2StructForConditionalGeneration.from_pretrained(cfg.model.backbone_path)\n",
    "    return model\n",
    "\n",
    "\n",
    "class MGAModel(nn.Module):\n",
    "    \"\"\"\n",
    "    The MGA model\n",
    "    \"\"\"\n",
    "\n",
    "    def __init__(self, cfg):\n",
    "        print(\"initializing the MGA model...\")\n",
    "\n",
    "        super(MGAModel, self).__init__()\n",
    "        self.cfg = cfg\n",
    "\n",
    "        backbone_config = Pix2StructConfig.from_pretrained(cfg.model.backbone_path)\n",
    "        backbone_config.text_config.max_length = cfg.model.max_length\n",
    "        backbone_config.text_config.is_decoder = True\n",
    "\n",
    "        backbone_config.text_config.pad_token_id = cfg.model.pad_token_id\n",
    "        backbone_config.text_config.decoder_start_token_id = cfg.model.decoder_start_token_id\n",
    "        backbone_config.text_config.bos_token_id = cfg.model.bos_token_id\n",
    "\n",
    "        # backbone_config.decoder.max_length = cfg.model.max_length\n",
    "\n",
    "        self.backbone = Pix2StructForConditionalGeneration.from_pretrained(\n",
    "            cfg.model.backbone_path,\n",
    "            config=backbone_config,\n",
    "        )\n",
    "\n",
    "        # resize model embeddings\n",
    "        print(\"resizing model embeddings...\")\n",
    "        print(f\"tokenizer length = {cfg.model.len_tokenizer}\")\n",
    "        self.backbone.decoder.resize_token_embeddings(cfg.model.len_tokenizer)\n",
    "\n",
    "        self.loss_fn = nn.CrossEntropyLoss(\n",
    "            ignore_index=-100,\n",
    "            reduction=\"mean\",\n",
    "        )\n",
    "\n",
    "    def forward(\n",
    "            self,\n",
    "            flattened_patches,\n",
    "            attention_mask,\n",
    "            labels,\n",
    "    ):\n",
    "\n",
    "        outputs = self.backbone(\n",
    "            flattened_patches=flattened_patches,\n",
    "            attention_mask=attention_mask,\n",
    "            labels=labels,\n",
    "        )\n",
    "\n",
    "        loss_main = outputs.loss\n",
    "\n",
    "        # logits = outputs.logits  # [:, 0]  # (bs, vocab)\n",
    "        # labels_cls = labels[:, 0]  # (bs, )\n",
    "        # loss = self.loss_fn(logits, labels)\n",
    "\n",
    "        # logits_num = outputs.logits[:, 1]  # (bs, vocab)\n",
    "        # labels_num = labels[:, 1]  # (bs, )\n",
    "        # loss_num = self.loss_fn(logits_num, labels_num)\n",
    "\n",
    "        loss = loss_main  # + 0.10 * loss_cls\n",
    "\n",
    "        loss_dict = {\n",
    "            \"loss_main\": loss_main,\n",
    "            \"loss_cls\": loss,\n",
    "        }\n",
    "\n",
    "        return loss, loss_dict\n"
   ]
  },
  {
   "cell_type": "markdown",
   "id": "346a2ae8",
   "metadata": {
    "papermill": {
     "duration": 0.010309,
     "end_time": "2023-07-21T10:39:28.601600",
     "exception": false,
     "start_time": "2023-07-21T10:39:28.591291",
     "status": "completed"
    },
    "tags": []
   },
   "source": [
    "# Inference"
   ]
  },
  {
   "cell_type": "code",
   "execution_count": 10,
   "id": "faf4c616",
   "metadata": {
    "execution": {
     "iopub.execute_input": "2023-07-21T10:39:28.625465Z",
     "iopub.status.busy": "2023-07-21T10:39:28.625123Z",
     "iopub.status.idle": "2023-07-21T10:39:28.634720Z",
     "shell.execute_reply": "2023-07-21T10:39:28.633799Z"
    },
    "papermill": {
     "duration": 0.023997,
     "end_time": "2023-07-21T10:39:28.636688",
     "exception": false,
     "start_time": "2023-07-21T10:39:28.612691",
     "status": "completed"
    },
    "tags": []
   },
   "outputs": [],
   "source": [
    "def post_process(pred_string, token_map, delimiter=\"|\"):\n",
    "    # get chart type ---\n",
    "    chart_options = [\n",
    "        \"horizontal_bar\",\n",
    "        \"dot\",\n",
    "        \"scatter\",\n",
    "        \"vertical_bar\",\n",
    "        \"line\",\n",
    "        \"histogram\",\n",
    "    ]\n",
    "\n",
    "    chart_type = \"line\"  # default type\n",
    "\n",
    "    for ct in chart_options:\n",
    "        if token_map[ct] in pred_string:\n",
    "            chart_type = ct\n",
    "            break\n",
    "\n",
    "    if chart_type == \"histogram\":\n",
    "        chart_type = \"vertical_bar\"\n",
    "\n",
    "    # get x series ---\n",
    "    x_start_tok = token_map[\"x_start\"]\n",
    "    x_end_tok = token_map[\"x_end\"]\n",
    "\n",
    "    try:\n",
    "        x = pred_string.split(x_start_tok)[1].split(x_end_tok)[0].split(delimiter)\n",
    "        x = [elem.strip() for elem in x if len(elem.strip()) > 0]\n",
    "    except IndexError:\n",
    "        x = []\n",
    "\n",
    "    # get y series ---\n",
    "    y_start_tok = token_map[\"y_start\"]\n",
    "    y_end_tok = token_map[\"y_end\"]\n",
    "\n",
    "    try:\n",
    "        y = pred_string.split(y_start_tok)[1].split(y_end_tok)[0].split(delimiter)\n",
    "        y = [elem.strip() for elem in y if len(elem.strip()) > 0]\n",
    "    except IndexError:\n",
    "        y = []\n",
    "\n",
    "    return chart_type, x, y\n"
   ]
  },
  {
   "cell_type": "code",
   "execution_count": 11,
   "id": "834cd818",
   "metadata": {
    "execution": {
     "iopub.execute_input": "2023-07-21T10:39:28.660284Z",
     "iopub.status.busy": "2023-07-21T10:39:28.659341Z",
     "iopub.status.idle": "2023-07-21T10:39:28.669830Z",
     "shell.execute_reply": "2023-07-21T10:39:28.669013Z"
    },
    "papermill": {
     "duration": 0.024038,
     "end_time": "2023-07-21T10:39:28.671809",
     "exception": false,
     "start_time": "2023-07-21T10:39:28.647771",
     "status": "completed"
    },
    "tags": []
   },
   "outputs": [],
   "source": [
    "def run_evaluation(model, infer_dl, tokenizer, token_map, max_len):\n",
    "\n",
    "    # # config for text generation ---\n",
    "    conf_g = {\n",
    "        \"max_new_tokens\": max_len, # 1024, # 512,\n",
    "        \"do_sample\": False,\n",
    "        \"top_k\": 1,\n",
    "        \"use_cache\": True,\n",
    "    }\n",
    "\n",
    "    generation_config = GenerationConfig(**conf_g)\n",
    "\n",
    "    # put model in eval mode ---\n",
    "    model.eval()\n",
    "\n",
    "    all_ids = []\n",
    "    all_texts = []\n",
    "\n",
    "    progress_bar = tqdm(range(len(infer_dl)))\n",
    "    for batch in infer_dl:\n",
    "        with torch.no_grad():\n",
    "            batch_ids = batch[\"id\"]\n",
    "            generated_ids = model.backbone.generate(\n",
    "                flattened_patches=batch['flattened_patches'],\n",
    "                attention_mask=batch['attention_mask'],\n",
    "                generation_config=generation_config,\n",
    "            )\n",
    "            generated_texts = tokenizer.batch_decode(generated_ids, skip_special_tokens=True)\n",
    "\n",
    "            all_ids.extend(batch_ids)\n",
    "            all_texts.extend(generated_texts)\n",
    "\n",
    "        progress_bar.update(1)\n",
    "    progress_bar.close()\n",
    "\n",
    "    # prepare output dataframe ---\n",
    "    preds = []\n",
    "    extended_preds = []\n",
    "    for this_id, this_text in zip(all_ids, all_texts):\n",
    "        id_x = f\"{this_id}_x\"\n",
    "        id_y = f\"{this_id}_y\"\n",
    "        pred_chart, pred_x, pred_y = post_process(this_text, token_map)\n",
    "\n",
    "        preds.append([id_x, pred_x, pred_chart])\n",
    "        preds.append([id_y, pred_y, pred_chart])\n",
    "\n",
    "        extended_preds.append([id_x, pred_x, pred_chart, this_text])\n",
    "        extended_preds.append([id_y, pred_y, pred_chart, this_text])\n",
    "\n",
    "    pred_df = pd.DataFrame(preds)\n",
    "    pred_df.columns = [\"id\", \"data_series\", \"chart_type\"]\n",
    "\n",
    "    return pred_df"
   ]
  },
  {
   "cell_type": "markdown",
   "id": "eac3322d",
   "metadata": {
    "papermill": {
     "duration": 0.010499,
     "end_time": "2023-07-21T10:39:28.692688",
     "exception": false,
     "start_time": "2023-07-21T10:39:28.682189",
     "status": "completed"
    },
    "tags": []
   },
   "source": [
    "### Inference"
   ]
  },
  {
   "cell_type": "code",
   "execution_count": 12,
   "id": "bfea944f",
   "metadata": {
    "execution": {
     "iopub.execute_input": "2023-07-21T10:39:28.715402Z",
     "iopub.status.busy": "2023-07-21T10:39:28.714649Z",
     "iopub.status.idle": "2023-07-21T10:40:00.094194Z",
     "shell.execute_reply": "2023-07-21T10:40:00.093315Z"
    },
    "papermill": {
     "duration": 31.392847,
     "end_time": "2023-07-21T10:40:00.096131",
     "exception": false,
     "start_time": "2023-07-21T10:39:28.703284",
     "status": "completed"
    },
    "tags": []
   },
   "outputs": [
    {
     "name": "stdout",
     "output_type": "stream",
     "text": [
      "['000b92c3b098', '01b45b831589', '00f5404753cf', '00dcf883a459', '007a18eb4e09']\n",
      "loading processor from /kaggle/input/matcha-base/matcha-base\n",
      "adding new tokens...\n",
      "initializing the MGA model...\n",
      "resizing model embeddings...\n",
      "tokenizer length = 50359\n",
      "====================================================================================================\n",
      "loading model from checkpoint: /kaggle/input/benetech-weights/models/final_model_fold_0.pth.tar\n",
      "loaded!\n",
      "accelerator setup...\n",
      "model is in eval mode\n",
      "====================================================================================================\n"
     ]
    },
    {
     "data": {
      "application/vnd.jupyter.widget-view+json": {
       "model_id": "e8a8cd0dcb364ae18902588838ffcdfe",
       "version_major": 2,
       "version_minor": 0
      },
      "text/plain": [
       "  0%|          | 0/5 [00:00<?, ?it/s]"
      ]
     },
     "metadata": {},
     "output_type": "display_data"
    },
    {
     "data": {
      "text/html": [
       "<div>\n",
       "<style scoped>\n",
       "    .dataframe tbody tr th:only-of-type {\n",
       "        vertical-align: middle;\n",
       "    }\n",
       "\n",
       "    .dataframe tbody tr th {\n",
       "        vertical-align: top;\n",
       "    }\n",
       "\n",
       "    .dataframe thead th {\n",
       "        text-align: right;\n",
       "    }\n",
       "</style>\n",
       "<table border=\"1\" class=\"dataframe\">\n",
       "  <thead>\n",
       "    <tr style=\"text-align: right;\">\n",
       "      <th></th>\n",
       "      <th>id</th>\n",
       "      <th>data_series</th>\n",
       "      <th>chart_type</th>\n",
       "    </tr>\n",
       "  </thead>\n",
       "  <tbody>\n",
       "    <tr>\n",
       "      <th>0</th>\n",
       "      <td>000b92c3b098_x</td>\n",
       "      <td></td>\n",
       "      <td>line</td>\n",
       "    </tr>\n",
       "    <tr>\n",
       "      <th>1</th>\n",
       "      <td>000b92c3b098_y</td>\n",
       "      <td></td>\n",
       "      <td>line</td>\n",
       "    </tr>\n",
       "    <tr>\n",
       "      <th>2</th>\n",
       "      <td>01b45b831589_x</td>\n",
       "      <td></td>\n",
       "      <td>vertical_bar</td>\n",
       "    </tr>\n",
       "    <tr>\n",
       "      <th>3</th>\n",
       "      <td>01b45b831589_y</td>\n",
       "      <td></td>\n",
       "      <td>vertical_bar</td>\n",
       "    </tr>\n",
       "    <tr>\n",
       "      <th>4</th>\n",
       "      <td>00f5404753cf_x</td>\n",
       "      <td></td>\n",
       "      <td>scatter</td>\n",
       "    </tr>\n",
       "  </tbody>\n",
       "</table>\n",
       "</div>"
      ],
      "text/plain": [
       "               id data_series    chart_type\n",
       "0  000b92c3b098_x                      line\n",
       "1  000b92c3b098_y                      line\n",
       "2  01b45b831589_x              vertical_bar\n",
       "3  01b45b831589_y              vertical_bar\n",
       "4  00f5404753cf_x                   scatter"
      ]
     },
     "execution_count": 12,
     "metadata": {},
     "output_type": "execute_result"
    }
   ],
   "source": [
    "image_dir = Path('/kaggle/input/benetech-making-graphs-accessible/test/images')\n",
    "image_paths = list(image_dir.glob(\"*.jpg\"))\n",
    "image_ids = [str(pth).split(\"/\")[-1].split(\".jpg\")[0] for pth in image_paths]\n",
    "print(image_ids[:5])\n",
    "\n",
    "infer_ds = MGADataset(cfg, image_ids)\n",
    "\n",
    "tokenizer = infer_ds.processor.tokenizer\n",
    "cfg.model.len_tokenizer = len(tokenizer)\n",
    "\n",
    "cfg.model.pad_token_id = tokenizer.pad_token_id\n",
    "BOS_TOKEN = TOKEN_MAP[\"bos_token\"]\n",
    "\n",
    "cfg.model.decoder_start_token_id = tokenizer.convert_tokens_to_ids([BOS_TOKEN])[0]\n",
    "cfg.model.bos_token_id = tokenizer.convert_tokens_to_ids([BOS_TOKEN])[0]\n",
    "\n",
    "collate_fn = MGACollator(tokenizer=tokenizer)\n",
    "\n",
    "infer_dl = DataLoader(\n",
    "    infer_ds,\n",
    "    batch_size=cfg.predict_params.bs,\n",
    "    collate_fn=collate_fn,\n",
    "    shuffle=False,\n",
    ")\n",
    "\n",
    "cfg_dict = OmegaConf.to_container(cfg, resolve=True)\n",
    "\n",
    "model = MGAModel(cfg)\n",
    "\n",
    "print(\"==\"*50)\n",
    "checkpoint_path = cfg.predict_params.checkpoint_path\n",
    "print(f\"loading model from checkpoint: {checkpoint_path}\")\n",
    "ckpt = torch.load(checkpoint_path)\n",
    "model.load_state_dict(ckpt['state_dict'])\n",
    "del ckpt\n",
    "gc.collect()\n",
    "print(\"loaded!\")\n",
    "\n",
    "print(\"accelerator setup...\")\n",
    "accelerator = Accelerator()  # cpu = True\n",
    "\n",
    "model, infer_dl = accelerator.prepare(model, infer_dl)\n",
    "\n",
    "model.eval()\n",
    "print(\"model is in eval mode\")\n",
    "print(\"==\"*50)\n",
    "\n",
    "pred_df = run_evaluation(model, infer_dl, tokenizer, TOKEN_MAP,  max_len=cfg.model.max_length)\n",
    "\n",
    "pred_df[\"data_series\"] = pred_df[\"data_series\"].apply(lambda x: \";\".join(x))\n",
    "pred_df.head()"
   ]
  },
  {
   "cell_type": "code",
   "execution_count": 13,
   "id": "ab7ed077",
   "metadata": {
    "execution": {
     "iopub.execute_input": "2023-07-21T10:40:00.121077Z",
     "iopub.status.busy": "2023-07-21T10:40:00.120769Z",
     "iopub.status.idle": "2023-07-21T10:40:00.422244Z",
     "shell.execute_reply": "2023-07-21T10:40:00.421235Z"
    },
    "papermill": {
     "duration": 0.315893,
     "end_time": "2023-07-21T10:40:00.424173",
     "exception": false,
     "start_time": "2023-07-21T10:40:00.108280",
     "status": "completed"
    },
    "tags": []
   },
   "outputs": [],
   "source": [
    "del model\n",
    "gc.collect()\n",
    "torch.cuda.empty_cache()"
   ]
  },
  {
   "cell_type": "markdown",
   "id": "61c4bc57",
   "metadata": {
    "papermill": {
     "duration": 0.011311,
     "end_time": "2023-07-21T10:40:00.446932",
     "exception": false,
     "start_time": "2023-07-21T10:40:00.435621",
     "status": "completed"
    },
    "tags": []
   },
   "source": [
    "# SPLIT"
   ]
  },
  {
   "cell_type": "code",
   "execution_count": 14,
   "id": "1b34152f",
   "metadata": {
    "execution": {
     "iopub.execute_input": "2023-07-21T10:40:00.471428Z",
     "iopub.status.busy": "2023-07-21T10:40:00.470467Z",
     "iopub.status.idle": "2023-07-21T10:40:00.481090Z",
     "shell.execute_reply": "2023-07-21T10:40:00.480067Z"
    },
    "papermill": {
     "duration": 0.025142,
     "end_time": "2023-07-21T10:40:00.483165",
     "exception": false,
     "start_time": "2023-07-21T10:40:00.458023",
     "status": "completed"
    },
    "tags": []
   },
   "outputs": [],
   "source": [
    "scatter_ids = pred_df[pred_df['chart_type'] == 'scatter']['id'].values.tolist()\n",
    "scatter_ids = [this_id.split('_x')[0].split('_y')[0] for this_id in scatter_ids]\n",
    "scatter_ids = list(set(scatter_ids))\n",
    "\n",
    "other_ids = pred_df[pred_df['chart_type'] != 'scatter']['id'].values.tolist()\n",
    "other_ids = [this_id.split('_x')[0].split('_y')[0] for this_id in other_ids]\n",
    "other_ids = list(set(other_ids))"
   ]
  },
  {
   "cell_type": "code",
   "execution_count": 15,
   "id": "e732ac92",
   "metadata": {
    "execution": {
     "iopub.execute_input": "2023-07-21T10:40:00.507268Z",
     "iopub.status.busy": "2023-07-21T10:40:00.506732Z",
     "iopub.status.idle": "2023-07-21T10:40:00.511352Z",
     "shell.execute_reply": "2023-07-21T10:40:00.510314Z"
    },
    "papermill": {
     "duration": 0.018918,
     "end_time": "2023-07-21T10:40:00.513337",
     "exception": false,
     "start_time": "2023-07-21T10:40:00.494419",
     "status": "completed"
    },
    "tags": []
   },
   "outputs": [],
   "source": [
    "pred_df_v0 = deepcopy(pred_df)"
   ]
  },
  {
   "cell_type": "markdown",
   "id": "fd83e07d",
   "metadata": {
    "execution": {
     "iopub.execute_input": "2023-05-10T02:48:45.53304Z",
     "iopub.status.busy": "2023-05-10T02:48:45.530364Z",
     "iopub.status.idle": "2023-05-10T02:49:03.11857Z",
     "shell.execute_reply": "2023-05-10T02:49:03.117603Z",
     "shell.execute_reply.started": "2023-05-10T02:48:45.533006Z"
    },
    "papermill": {
     "duration": 0.011241,
     "end_time": "2023-07-21T10:40:00.535723",
     "exception": false,
     "start_time": "2023-07-21T10:40:00.524482",
     "status": "completed"
    },
    "tags": []
   },
   "source": [
    "# Pass 2 - Other"
   ]
  },
  {
   "cell_type": "code",
   "execution_count": 16,
   "id": "8006e05f",
   "metadata": {
    "execution": {
     "iopub.execute_input": "2023-07-21T10:40:00.560351Z",
     "iopub.status.busy": "2023-07-21T10:40:00.559996Z",
     "iopub.status.idle": "2023-07-21T10:40:00.566013Z",
     "shell.execute_reply": "2023-07-21T10:40:00.565113Z"
    },
    "papermill": {
     "duration": 0.020851,
     "end_time": "2023-07-21T10:40:00.568391",
     "exception": false,
     "start_time": "2023-07-21T10:40:00.547540",
     "status": "completed"
    },
    "tags": []
   },
   "outputs": [
    {
     "name": "stdout",
     "output_type": "stream",
     "text": [
      "Overwriting mga_cfg_deplot.yaml\n"
     ]
    }
   ],
   "source": [
    "%%writefile mga_cfg_deplot.yaml\n",
    "model:\n",
    "    backbone_path: /kaggle/input/matcha-base/matcha-base\n",
    "    max_length: 1024\n",
    "    max_patches: 4096\n",
    "    patch_size: 16\n",
    "    len_tokenizer: ???\n",
    "    pad_token_id: ???\n",
    "    decoder_start_token_id: ???\n",
    "    bos_token_id: ???\n",
    "        \n",
    "predict_params:\n",
    "    bs: 1\n",
    "    checkpoint_path: /kaggle/input/benetech-weights/models/rest_model_fold_0.pth.tar\n",
    "\n",
    "competition_dataset:\n",
    "    data_dir: /kaggle/input/benetech-making-graphs-accessible"
   ]
  },
  {
   "cell_type": "code",
   "execution_count": 17,
   "id": "50b085e6",
   "metadata": {
    "execution": {
     "iopub.execute_input": "2023-07-21T10:40:00.592887Z",
     "iopub.status.busy": "2023-07-21T10:40:00.592028Z",
     "iopub.status.idle": "2023-07-21T10:40:00.604169Z",
     "shell.execute_reply": "2023-07-21T10:40:00.603236Z"
    },
    "papermill": {
     "duration": 0.026342,
     "end_time": "2023-07-21T10:40:00.606137",
     "exception": false,
     "start_time": "2023-07-21T10:40:00.579795",
     "status": "completed"
    },
    "tags": []
   },
   "outputs": [
    {
     "data": {
      "text/plain": [
       "{'model': {'backbone_path': '/kaggle/input/matcha-base/matcha-base', 'max_length': 1024, 'max_patches': 4096, 'patch_size': 16, 'len_tokenizer': '???', 'pad_token_id': '???', 'decoder_start_token_id': '???', 'bos_token_id': '???'}, 'predict_params': {'bs': 1, 'checkpoint_path': '/kaggle/input/benetech-weights/models/rest_model_fold_0.pth.tar'}, 'competition_dataset': {'data_dir': '/kaggle/input/benetech-making-graphs-accessible'}}"
      ]
     },
     "execution_count": 17,
     "metadata": {},
     "output_type": "execute_result"
    }
   ],
   "source": [
    "cfg = OmegaConf.load('mga_cfg_deplot.yaml')\n",
    "cfg"
   ]
  },
  {
   "cell_type": "code",
   "execution_count": 18,
   "id": "640eff76",
   "metadata": {
    "execution": {
     "iopub.execute_input": "2023-07-21T10:40:00.630583Z",
     "iopub.status.busy": "2023-07-21T10:40:00.629796Z",
     "iopub.status.idle": "2023-07-21T10:40:24.820176Z",
     "shell.execute_reply": "2023-07-21T10:40:24.818916Z"
    },
    "papermill": {
     "duration": 24.20622,
     "end_time": "2023-07-21T10:40:24.823601",
     "exception": false,
     "start_time": "2023-07-21T10:40:00.617381",
     "status": "completed"
    },
    "tags": []
   },
   "outputs": [
    {
     "name": "stdout",
     "output_type": "stream",
     "text": [
      "loading processor from /kaggle/input/matcha-base/matcha-base\n",
      "adding new tokens...\n",
      "initializing the MGA model...\n",
      "resizing model embeddings...\n",
      "tokenizer length = 50359\n",
      "====================================================================================================\n",
      "loading model from checkpoint: /kaggle/input/benetech-weights/models/rest_model_fold_0.pth.tar\n",
      "loaded!\n",
      "accelerator setup...\n",
      "model is in eval mode\n",
      "====================================================================================================\n"
     ]
    },
    {
     "data": {
      "application/vnd.jupyter.widget-view+json": {
       "model_id": "97dc3113648e4362b7a82b773ad3a798",
       "version_major": 2,
       "version_minor": 0
      },
      "text/plain": [
       "  0%|          | 0/4 [00:00<?, ?it/s]"
      ]
     },
     "metadata": {},
     "output_type": "display_data"
    },
    {
     "data": {
      "text/html": [
       "<div>\n",
       "<style scoped>\n",
       "    .dataframe tbody tr th:only-of-type {\n",
       "        vertical-align: middle;\n",
       "    }\n",
       "\n",
       "    .dataframe tbody tr th {\n",
       "        vertical-align: top;\n",
       "    }\n",
       "\n",
       "    .dataframe thead th {\n",
       "        text-align: right;\n",
       "    }\n",
       "</style>\n",
       "<table border=\"1\" class=\"dataframe\">\n",
       "  <thead>\n",
       "    <tr style=\"text-align: right;\">\n",
       "      <th></th>\n",
       "      <th>id</th>\n",
       "      <th>data_series</th>\n",
       "      <th>chart_type</th>\n",
       "    </tr>\n",
       "  </thead>\n",
       "  <tbody>\n",
       "    <tr>\n",
       "      <th>0</th>\n",
       "      <td>01b45b831589_x</td>\n",
       "      <td>21-Feb;22-Feb;23-Feb;24-Feb;25-Feb;26-Feb;27-F...</td>\n",
       "      <td>vertical_bar</td>\n",
       "    </tr>\n",
       "    <tr>\n",
       "      <th>1</th>\n",
       "      <td>01b45b831589_y</td>\n",
       "      <td>8.83e+04;1.50e+05;1.70e+05;1.75e+05;1.37e+05;9...</td>\n",
       "      <td>vertical_bar</td>\n",
       "    </tr>\n",
       "    <tr>\n",
       "      <th>2</th>\n",
       "      <td>000b92c3b098_x</td>\n",
       "      <td>0;6;12;18;24</td>\n",
       "      <td>line</td>\n",
       "    </tr>\n",
       "    <tr>\n",
       "      <th>3</th>\n",
       "      <td>000b92c3b098_y</td>\n",
       "      <td>1.00e-02;-6.90e-01;-1.39e+00;-2.07e+00;-2.74e+00</td>\n",
       "      <td>line</td>\n",
       "    </tr>\n",
       "    <tr>\n",
       "      <th>4</th>\n",
       "      <td>007a18eb4e09_x</td>\n",
       "      <td>0.0;0.4;0.8;1.2;1.6;2.0;2.4</td>\n",
       "      <td>line</td>\n",
       "    </tr>\n",
       "  </tbody>\n",
       "</table>\n",
       "</div>"
      ],
      "text/plain": [
       "               id                                        data_series  \\\n",
       "0  01b45b831589_x  21-Feb;22-Feb;23-Feb;24-Feb;25-Feb;26-Feb;27-F...   \n",
       "1  01b45b831589_y  8.83e+04;1.50e+05;1.70e+05;1.75e+05;1.37e+05;9...   \n",
       "2  000b92c3b098_x                                       0;6;12;18;24   \n",
       "3  000b92c3b098_y   1.00e-02;-6.90e-01;-1.39e+00;-2.07e+00;-2.74e+00   \n",
       "4  007a18eb4e09_x                        0.0;0.4;0.8;1.2;1.6;2.0;2.4   \n",
       "\n",
       "     chart_type  \n",
       "0  vertical_bar  \n",
       "1  vertical_bar  \n",
       "2          line  \n",
       "3          line  \n",
       "4          line  "
      ]
     },
     "execution_count": 18,
     "metadata": {},
     "output_type": "execute_result"
    }
   ],
   "source": [
    "image_ids = deepcopy(other_ids)\n",
    "infer_ds = MGADataset(cfg, image_ids)\n",
    "\n",
    "tokenizer = infer_ds.processor.tokenizer\n",
    "cfg.model.len_tokenizer = len(tokenizer)\n",
    "\n",
    "cfg.model.pad_token_id = tokenizer.pad_token_id\n",
    "BOS_TOKEN = TOKEN_MAP[\"bos_token\"]\n",
    "\n",
    "cfg.model.decoder_start_token_id = tokenizer.convert_tokens_to_ids([BOS_TOKEN])[0]\n",
    "cfg.model.bos_token_id = tokenizer.convert_tokens_to_ids([BOS_TOKEN])[0]\n",
    "\n",
    "collate_fn = MGACollator(tokenizer=tokenizer)\n",
    "\n",
    "infer_dl = DataLoader(\n",
    "    infer_ds,\n",
    "    batch_size=cfg.predict_params.bs,\n",
    "    collate_fn=collate_fn,\n",
    "    shuffle=False,\n",
    ")\n",
    "\n",
    "cfg_dict = OmegaConf.to_container(cfg, resolve=True)\n",
    "\n",
    "model = MGAModel(cfg)\n",
    "\n",
    "print(\"==\"*50)\n",
    "checkpoint_path = cfg.predict_params.checkpoint_path\n",
    "print(f\"loading model from checkpoint: {checkpoint_path}\")\n",
    "ckpt = torch.load(checkpoint_path)\n",
    "model.load_state_dict(ckpt['state_dict'])\n",
    "del ckpt\n",
    "gc.collect()\n",
    "print(\"loaded!\")\n",
    "\n",
    "print(\"accelerator setup...\")\n",
    "accelerator = Accelerator()  # cpu = True\n",
    "\n",
    "model, infer_dl = accelerator.prepare(model, infer_dl)\n",
    "\n",
    "model.eval()\n",
    "print(\"model is in eval mode\")\n",
    "print(\"==\"*50)\n",
    "\n",
    "pred_df = run_evaluation(model, infer_dl, tokenizer, TOKEN_MAP,  max_len=cfg.model.max_length)\n",
    "\n",
    "pred_df[\"data_series\"] = pred_df[\"data_series\"].apply(lambda x: \";\".join(x))\n",
    "pred_df.head()"
   ]
  },
  {
   "cell_type": "code",
   "execution_count": 19,
   "id": "a5f81362",
   "metadata": {
    "execution": {
     "iopub.execute_input": "2023-07-21T10:40:24.853239Z",
     "iopub.status.busy": "2023-07-21T10:40:24.852433Z",
     "iopub.status.idle": "2023-07-21T10:40:24.857905Z",
     "shell.execute_reply": "2023-07-21T10:40:24.857068Z"
    },
    "papermill": {
     "duration": 0.022388,
     "end_time": "2023-07-21T10:40:24.860233",
     "exception": false,
     "start_time": "2023-07-21T10:40:24.837845",
     "status": "completed"
    },
    "tags": []
   },
   "outputs": [],
   "source": [
    "pred_df_v1_p1 = deepcopy(pred_df)"
   ]
  },
  {
   "cell_type": "code",
   "execution_count": 20,
   "id": "b01e3cc5",
   "metadata": {
    "execution": {
     "iopub.execute_input": "2023-07-21T10:40:24.888617Z",
     "iopub.status.busy": "2023-07-21T10:40:24.887937Z",
     "iopub.status.idle": "2023-07-21T10:40:25.330916Z",
     "shell.execute_reply": "2023-07-21T10:40:25.329883Z"
    },
    "papermill": {
     "duration": 0.460588,
     "end_time": "2023-07-21T10:40:25.333858",
     "exception": false,
     "start_time": "2023-07-21T10:40:24.873270",
     "status": "completed"
    },
    "tags": []
   },
   "outputs": [],
   "source": [
    "del model\n",
    "gc.collect()\n",
    "torch.cuda.empty_cache()"
   ]
  },
  {
   "cell_type": "markdown",
   "id": "137b771b",
   "metadata": {
    "papermill": {
     "duration": 0.012646,
     "end_time": "2023-07-21T10:40:25.360247",
     "exception": false,
     "start_time": "2023-07-21T10:40:25.347601",
     "status": "completed"
    },
    "tags": []
   },
   "source": [
    "# Pass 2 - Scatter"
   ]
  },
  {
   "cell_type": "code",
   "execution_count": 21,
   "id": "550df230",
   "metadata": {
    "execution": {
     "iopub.execute_input": "2023-07-21T10:40:25.390848Z",
     "iopub.status.busy": "2023-07-21T10:40:25.390483Z",
     "iopub.status.idle": "2023-07-21T10:40:25.397449Z",
     "shell.execute_reply": "2023-07-21T10:40:25.396454Z"
    },
    "papermill": {
     "duration": 0.023336,
     "end_time": "2023-07-21T10:40:25.399618",
     "exception": false,
     "start_time": "2023-07-21T10:40:25.376282",
     "status": "completed"
    },
    "tags": []
   },
   "outputs": [
    {
     "name": "stdout",
     "output_type": "stream",
     "text": [
      "Overwriting mga_cfg_deplot.yaml\n"
     ]
    }
   ],
   "source": [
    "%%writefile mga_cfg_deplot.yaml\n",
    "model:\n",
    "    backbone_path: /kaggle/input/matcha-base/matcha-base\n",
    "    max_length: 1280\n",
    "    max_patches: 3072\n",
    "    patch_size: 16\n",
    "    len_tokenizer: ???\n",
    "    pad_token_id: ???\n",
    "    decoder_start_token_id: ???\n",
    "    bos_token_id: ???\n",
    "        \n",
    "predict_params:\n",
    "    bs: 1\n",
    "    checkpoint_path: /kaggle/input/benetech-weights/models/scatter_model_fold_0.pth.tar\n",
    "\n",
    "competition_dataset:\n",
    "    data_dir: /kaggle/input/benetech-making-graphs-accessible"
   ]
  },
  {
   "cell_type": "code",
   "execution_count": 22,
   "id": "30ac4b67",
   "metadata": {
    "execution": {
     "iopub.execute_input": "2023-07-21T10:40:25.428165Z",
     "iopub.status.busy": "2023-07-21T10:40:25.427140Z",
     "iopub.status.idle": "2023-07-21T10:40:25.440168Z",
     "shell.execute_reply": "2023-07-21T10:40:25.439043Z"
    },
    "papermill": {
     "duration": 0.029968,
     "end_time": "2023-07-21T10:40:25.442543",
     "exception": false,
     "start_time": "2023-07-21T10:40:25.412575",
     "status": "completed"
    },
    "tags": []
   },
   "outputs": [
    {
     "data": {
      "text/plain": [
       "{'model': {'backbone_path': '/kaggle/input/matcha-base/matcha-base', 'max_length': 1280, 'max_patches': 3072, 'patch_size': 16, 'len_tokenizer': '???', 'pad_token_id': '???', 'decoder_start_token_id': '???', 'bos_token_id': '???'}, 'predict_params': {'bs': 1, 'checkpoint_path': '/kaggle/input/benetech-weights/models/scatter_model_fold_0.pth.tar'}, 'competition_dataset': {'data_dir': '/kaggle/input/benetech-making-graphs-accessible'}}"
      ]
     },
     "execution_count": 22,
     "metadata": {},
     "output_type": "execute_result"
    }
   ],
   "source": [
    "cfg = OmegaConf.load('mga_cfg_deplot.yaml')\n",
    "cfg"
   ]
  },
  {
   "cell_type": "code",
   "execution_count": 23,
   "id": "7bd5af12",
   "metadata": {
    "execution": {
     "iopub.execute_input": "2023-07-21T10:40:25.470966Z",
     "iopub.status.busy": "2023-07-21T10:40:25.469992Z",
     "iopub.status.idle": "2023-07-21T10:40:50.962433Z",
     "shell.execute_reply": "2023-07-21T10:40:50.961467Z"
    },
    "papermill": {
     "duration": 25.509704,
     "end_time": "2023-07-21T10:40:50.965228",
     "exception": false,
     "start_time": "2023-07-21T10:40:25.455524",
     "status": "completed"
    },
    "tags": []
   },
   "outputs": [
    {
     "name": "stdout",
     "output_type": "stream",
     "text": [
      "loading processor from /kaggle/input/matcha-base/matcha-base\n",
      "adding new tokens...\n",
      "initializing the MGA model...\n",
      "resizing model embeddings...\n",
      "tokenizer length = 50359\n",
      "====================================================================================================\n",
      "loading model from checkpoint: /kaggle/input/benetech-weights/models/scatter_model_fold_0.pth.tar\n",
      "loaded!\n",
      "accelerator setup...\n",
      "model is in eval mode\n",
      "====================================================================================================\n"
     ]
    },
    {
     "data": {
      "application/vnd.jupyter.widget-view+json": {
       "model_id": "a4b8b9665d8e4e98b0c1bbfa32fffcbf",
       "version_major": 2,
       "version_minor": 0
      },
      "text/plain": [
       "  0%|          | 0/1 [00:00<?, ?it/s]"
      ]
     },
     "metadata": {},
     "output_type": "display_data"
    },
    {
     "data": {
      "text/html": [
       "<div>\n",
       "<style scoped>\n",
       "    .dataframe tbody tr th:only-of-type {\n",
       "        vertical-align: middle;\n",
       "    }\n",
       "\n",
       "    .dataframe tbody tr th {\n",
       "        vertical-align: top;\n",
       "    }\n",
       "\n",
       "    .dataframe thead th {\n",
       "        text-align: right;\n",
       "    }\n",
       "</style>\n",
       "<table border=\"1\" class=\"dataframe\">\n",
       "  <thead>\n",
       "    <tr style=\"text-align: right;\">\n",
       "      <th></th>\n",
       "      <th>id</th>\n",
       "      <th>data_series</th>\n",
       "      <th>chart_type</th>\n",
       "    </tr>\n",
       "  </thead>\n",
       "  <tbody>\n",
       "    <tr>\n",
       "      <th>0</th>\n",
       "      <td>00f5404753cf_x</td>\n",
       "      <td>5.00e+00;5.00e+00;5.00e+00;6.00e+00;6.00e+00;6...</td>\n",
       "      <td>scatter</td>\n",
       "    </tr>\n",
       "    <tr>\n",
       "      <th>1</th>\n",
       "      <td>00f5404753cf_y</td>\n",
       "      <td>1.10e+01;1.20e+01;1.40e+01;1.20e+01;1.30e+01;1...</td>\n",
       "      <td>scatter</td>\n",
       "    </tr>\n",
       "  </tbody>\n",
       "</table>\n",
       "</div>"
      ],
      "text/plain": [
       "               id                                        data_series  \\\n",
       "0  00f5404753cf_x  5.00e+00;5.00e+00;5.00e+00;6.00e+00;6.00e+00;6...   \n",
       "1  00f5404753cf_y  1.10e+01;1.20e+01;1.40e+01;1.20e+01;1.30e+01;1...   \n",
       "\n",
       "  chart_type  \n",
       "0    scatter  \n",
       "1    scatter  "
      ]
     },
     "execution_count": 23,
     "metadata": {},
     "output_type": "execute_result"
    }
   ],
   "source": [
    "image_ids = deepcopy(scatter_ids)\n",
    "infer_ds = MGADataset(cfg, image_ids)\n",
    "\n",
    "tokenizer = infer_ds.processor.tokenizer\n",
    "cfg.model.len_tokenizer = len(tokenizer)\n",
    "\n",
    "cfg.model.pad_token_id = tokenizer.pad_token_id\n",
    "BOS_TOKEN = TOKEN_MAP[\"bos_token\"]\n",
    "\n",
    "cfg.model.decoder_start_token_id = tokenizer.convert_tokens_to_ids([BOS_TOKEN])[0]\n",
    "cfg.model.bos_token_id = tokenizer.convert_tokens_to_ids([BOS_TOKEN])[0]\n",
    "\n",
    "collate_fn = MGACollator(tokenizer=tokenizer)\n",
    "\n",
    "infer_dl = DataLoader(\n",
    "    infer_ds,\n",
    "    batch_size=cfg.predict_params.bs,\n",
    "    collate_fn=collate_fn,\n",
    "    shuffle=False,\n",
    ")\n",
    "\n",
    "cfg_dict = OmegaConf.to_container(cfg, resolve=True)\n",
    "\n",
    "model = MGAModel(cfg)\n",
    "\n",
    "print(\"==\"*50)\n",
    "checkpoint_path = cfg.predict_params.checkpoint_path\n",
    "print(f\"loading model from checkpoint: {checkpoint_path}\")\n",
    "ckpt = torch.load(checkpoint_path)\n",
    "model.load_state_dict(ckpt['state_dict'])\n",
    "del ckpt\n",
    "gc.collect()\n",
    "print(\"loaded!\")\n",
    "\n",
    "print(\"accelerator setup...\")\n",
    "accelerator = Accelerator()  # cpu = True\n",
    "\n",
    "model, infer_dl = accelerator.prepare(model, infer_dl)\n",
    "\n",
    "model.eval()\n",
    "print(\"model is in eval mode\")\n",
    "print(\"==\"*50)\n",
    "\n",
    "pred_df = run_evaluation(model, infer_dl, tokenizer, TOKEN_MAP,  max_len=cfg.model.max_length)\n",
    "\n",
    "pred_df[\"data_series\"] = pred_df[\"data_series\"].apply(lambda x: \";\".join(x))\n",
    "pred_df.head()"
   ]
  },
  {
   "cell_type": "code",
   "execution_count": 24,
   "id": "274f3303",
   "metadata": {
    "execution": {
     "iopub.execute_input": "2023-07-21T10:40:50.994917Z",
     "iopub.status.busy": "2023-07-21T10:40:50.993719Z",
     "iopub.status.idle": "2023-07-21T10:40:50.999231Z",
     "shell.execute_reply": "2023-07-21T10:40:50.998302Z"
    },
    "papermill": {
     "duration": 0.021819,
     "end_time": "2023-07-21T10:40:51.001369",
     "exception": false,
     "start_time": "2023-07-21T10:40:50.979550",
     "status": "completed"
    },
    "tags": []
   },
   "outputs": [],
   "source": [
    "pred_df_v1_p2 = deepcopy(pred_df)"
   ]
  },
  {
   "cell_type": "markdown",
   "id": "b136359a",
   "metadata": {
    "papermill": {
     "duration": 0.013224,
     "end_time": "2023-07-21T10:40:51.028661",
     "exception": false,
     "start_time": "2023-07-21T10:40:51.015437",
     "status": "completed"
    },
    "tags": []
   },
   "source": [
    "# Merge"
   ]
  },
  {
   "cell_type": "code",
   "execution_count": 25,
   "id": "99b5f047",
   "metadata": {
    "execution": {
     "iopub.execute_input": "2023-07-21T10:40:51.057942Z",
     "iopub.status.busy": "2023-07-21T10:40:51.057608Z",
     "iopub.status.idle": "2023-07-21T10:40:51.068564Z",
     "shell.execute_reply": "2023-07-21T10:40:51.067711Z"
    },
    "papermill": {
     "duration": 0.02879,
     "end_time": "2023-07-21T10:40:51.070651",
     "exception": false,
     "start_time": "2023-07-21T10:40:51.041861",
     "status": "completed"
    },
    "tags": []
   },
   "outputs": [
    {
     "data": {
      "text/html": [
       "<div>\n",
       "<style scoped>\n",
       "    .dataframe tbody tr th:only-of-type {\n",
       "        vertical-align: middle;\n",
       "    }\n",
       "\n",
       "    .dataframe tbody tr th {\n",
       "        vertical-align: top;\n",
       "    }\n",
       "\n",
       "    .dataframe thead th {\n",
       "        text-align: right;\n",
       "    }\n",
       "</style>\n",
       "<table border=\"1\" class=\"dataframe\">\n",
       "  <thead>\n",
       "    <tr style=\"text-align: right;\">\n",
       "      <th></th>\n",
       "      <th>id</th>\n",
       "      <th>data_series</th>\n",
       "      <th>chart_type</th>\n",
       "    </tr>\n",
       "  </thead>\n",
       "  <tbody>\n",
       "    <tr>\n",
       "      <th>0</th>\n",
       "      <td>01b45b831589_x</td>\n",
       "      <td>21-Feb;22-Feb;23-Feb;24-Feb;25-Feb;26-Feb;27-F...</td>\n",
       "      <td>vertical_bar</td>\n",
       "    </tr>\n",
       "    <tr>\n",
       "      <th>1</th>\n",
       "      <td>01b45b831589_y</td>\n",
       "      <td>8.83e+04;1.50e+05;1.70e+05;1.75e+05;1.37e+05;9...</td>\n",
       "      <td>vertical_bar</td>\n",
       "    </tr>\n",
       "    <tr>\n",
       "      <th>2</th>\n",
       "      <td>000b92c3b098_x</td>\n",
       "      <td>0;6;12;18;24</td>\n",
       "      <td>line</td>\n",
       "    </tr>\n",
       "    <tr>\n",
       "      <th>3</th>\n",
       "      <td>000b92c3b098_y</td>\n",
       "      <td>1.00e-02;-6.90e-01;-1.39e+00;-2.07e+00;-2.74e+00</td>\n",
       "      <td>line</td>\n",
       "    </tr>\n",
       "    <tr>\n",
       "      <th>4</th>\n",
       "      <td>007a18eb4e09_x</td>\n",
       "      <td>0.0;0.4;0.8;1.2;1.6;2.0;2.4</td>\n",
       "      <td>line</td>\n",
       "    </tr>\n",
       "  </tbody>\n",
       "</table>\n",
       "</div>"
      ],
      "text/plain": [
       "               id                                        data_series  \\\n",
       "0  01b45b831589_x  21-Feb;22-Feb;23-Feb;24-Feb;25-Feb;26-Feb;27-F...   \n",
       "1  01b45b831589_y  8.83e+04;1.50e+05;1.70e+05;1.75e+05;1.37e+05;9...   \n",
       "2  000b92c3b098_x                                       0;6;12;18;24   \n",
       "3  000b92c3b098_y   1.00e-02;-6.90e-01;-1.39e+00;-2.07e+00;-2.74e+00   \n",
       "4  007a18eb4e09_x                        0.0;0.4;0.8;1.2;1.6;2.0;2.4   \n",
       "\n",
       "     chart_type  \n",
       "0  vertical_bar  \n",
       "1  vertical_bar  \n",
       "2          line  \n",
       "3          line  \n",
       "4          line  "
      ]
     },
     "execution_count": 25,
     "metadata": {},
     "output_type": "execute_result"
    }
   ],
   "source": [
    "pred_df = pd.concat([pred_df_v1_p1, pred_df_v1_p2])\n",
    "pred_df = pred_df.reset_index(drop=True)\n",
    "pred_df.head()"
   ]
  },
  {
   "cell_type": "code",
   "execution_count": 26,
   "id": "38fd3e46",
   "metadata": {
    "execution": {
     "iopub.execute_input": "2023-07-21T10:40:51.098941Z",
     "iopub.status.busy": "2023-07-21T10:40:51.098422Z",
     "iopub.status.idle": "2023-07-21T10:40:51.113947Z",
     "shell.execute_reply": "2023-07-21T10:40:51.112941Z"
    },
    "papermill": {
     "duration": 0.032289,
     "end_time": "2023-07-21T10:40:51.116207",
     "exception": false,
     "start_time": "2023-07-21T10:40:51.083918",
     "status": "completed"
    },
    "tags": []
   },
   "outputs": [],
   "source": [
    "pred_df_final = pd.merge(pred_df_v0[['id', 'chart_type']], pred_df[['id', 'data_series']], on='id', how='left')\n",
    "pred_df_final['data_series'] = pred_df_final['data_series'].fillna('')"
   ]
  },
  {
   "cell_type": "code",
   "execution_count": 27,
   "id": "21c1ad59",
   "metadata": {
    "execution": {
     "iopub.execute_input": "2023-07-21T10:40:51.145043Z",
     "iopub.status.busy": "2023-07-21T10:40:51.144729Z",
     "iopub.status.idle": "2023-07-21T10:40:51.150411Z",
     "shell.execute_reply": "2023-07-21T10:40:51.149561Z"
    },
    "papermill": {
     "duration": 0.022469,
     "end_time": "2023-07-21T10:40:51.152381",
     "exception": false,
     "start_time": "2023-07-21T10:40:51.129912",
     "status": "completed"
    },
    "tags": []
   },
   "outputs": [],
   "source": [
    "pred_df_final = pred_df_final[[\"id\", \"data_series\", \"chart_type\"]].copy()\n",
    "pred_df_final = pred_df_final.reset_index(drop=True)"
   ]
  },
  {
   "cell_type": "code",
   "execution_count": 28,
   "id": "4dfeb674",
   "metadata": {
    "execution": {
     "iopub.execute_input": "2023-07-21T10:40:51.192999Z",
     "iopub.status.busy": "2023-07-21T10:40:51.192454Z",
     "iopub.status.idle": "2023-07-21T10:40:51.202952Z",
     "shell.execute_reply": "2023-07-21T10:40:51.201539Z"
    },
    "papermill": {
     "duration": 0.038983,
     "end_time": "2023-07-21T10:40:51.206380",
     "exception": false,
     "start_time": "2023-07-21T10:40:51.167397",
     "status": "completed"
    },
    "tags": []
   },
   "outputs": [],
   "source": [
    "pred_df_final.to_csv(\"submission.csv\", index=False)"
   ]
  },
  {
   "cell_type": "code",
   "execution_count": 29,
   "id": "6316bdf4",
   "metadata": {
    "execution": {
     "iopub.execute_input": "2023-07-21T10:40:51.265547Z",
     "iopub.status.busy": "2023-07-21T10:40:51.263977Z",
     "iopub.status.idle": "2023-07-21T10:40:51.277387Z",
     "shell.execute_reply": "2023-07-21T10:40:51.276515Z"
    },
    "papermill": {
     "duration": 0.042512,
     "end_time": "2023-07-21T10:40:51.279437",
     "exception": false,
     "start_time": "2023-07-21T10:40:51.236925",
     "status": "completed"
    },
    "tags": []
   },
   "outputs": [
    {
     "data": {
      "text/html": [
       "<div>\n",
       "<style scoped>\n",
       "    .dataframe tbody tr th:only-of-type {\n",
       "        vertical-align: middle;\n",
       "    }\n",
       "\n",
       "    .dataframe tbody tr th {\n",
       "        vertical-align: top;\n",
       "    }\n",
       "\n",
       "    .dataframe thead th {\n",
       "        text-align: right;\n",
       "    }\n",
       "</style>\n",
       "<table border=\"1\" class=\"dataframe\">\n",
       "  <thead>\n",
       "    <tr style=\"text-align: right;\">\n",
       "      <th></th>\n",
       "      <th>id</th>\n",
       "      <th>data_series</th>\n",
       "      <th>chart_type</th>\n",
       "    </tr>\n",
       "  </thead>\n",
       "  <tbody>\n",
       "    <tr>\n",
       "      <th>0</th>\n",
       "      <td>000b92c3b098_x</td>\n",
       "      <td>0;6;12;18;24</td>\n",
       "      <td>line</td>\n",
       "    </tr>\n",
       "    <tr>\n",
       "      <th>1</th>\n",
       "      <td>000b92c3b098_y</td>\n",
       "      <td>1.00e-02;-6.90e-01;-1.39e+00;-2.07e+00;-2.74e+00</td>\n",
       "      <td>line</td>\n",
       "    </tr>\n",
       "    <tr>\n",
       "      <th>2</th>\n",
       "      <td>01b45b831589_x</td>\n",
       "      <td>21-Feb;22-Feb;23-Feb;24-Feb;25-Feb;26-Feb;27-F...</td>\n",
       "      <td>vertical_bar</td>\n",
       "    </tr>\n",
       "    <tr>\n",
       "      <th>3</th>\n",
       "      <td>01b45b831589_y</td>\n",
       "      <td>8.83e+04;1.50e+05;1.70e+05;1.75e+05;1.37e+05;9...</td>\n",
       "      <td>vertical_bar</td>\n",
       "    </tr>\n",
       "    <tr>\n",
       "      <th>4</th>\n",
       "      <td>00f5404753cf_x</td>\n",
       "      <td>5.00e+00;5.00e+00;5.00e+00;6.00e+00;6.00e+00;6...</td>\n",
       "      <td>scatter</td>\n",
       "    </tr>\n",
       "    <tr>\n",
       "      <th>5</th>\n",
       "      <td>00f5404753cf_y</td>\n",
       "      <td>1.10e+01;1.20e+01;1.40e+01;1.20e+01;1.30e+01;1...</td>\n",
       "      <td>scatter</td>\n",
       "    </tr>\n",
       "    <tr>\n",
       "      <th>6</th>\n",
       "      <td>00dcf883a459_x</td>\n",
       "      <td>Group 1;Group 2</td>\n",
       "      <td>vertical_bar</td>\n",
       "    </tr>\n",
       "    <tr>\n",
       "      <th>7</th>\n",
       "      <td>00dcf883a459_y</td>\n",
       "      <td>3.60e+00;8.40e+00</td>\n",
       "      <td>vertical_bar</td>\n",
       "    </tr>\n",
       "    <tr>\n",
       "      <th>8</th>\n",
       "      <td>007a18eb4e09_x</td>\n",
       "      <td>0.0;0.4;0.8;1.2;1.6;2.0;2.4</td>\n",
       "      <td>line</td>\n",
       "    </tr>\n",
       "    <tr>\n",
       "      <th>9</th>\n",
       "      <td>007a18eb4e09_y</td>\n",
       "      <td>1.33e-02;1.33e-02;1.33e-02;1.33e-02;1.33e-02;1...</td>\n",
       "      <td>line</td>\n",
       "    </tr>\n",
       "  </tbody>\n",
       "</table>\n",
       "</div>"
      ],
      "text/plain": [
       "               id                                        data_series  \\\n",
       "0  000b92c3b098_x                                       0;6;12;18;24   \n",
       "1  000b92c3b098_y   1.00e-02;-6.90e-01;-1.39e+00;-2.07e+00;-2.74e+00   \n",
       "2  01b45b831589_x  21-Feb;22-Feb;23-Feb;24-Feb;25-Feb;26-Feb;27-F...   \n",
       "3  01b45b831589_y  8.83e+04;1.50e+05;1.70e+05;1.75e+05;1.37e+05;9...   \n",
       "4  00f5404753cf_x  5.00e+00;5.00e+00;5.00e+00;6.00e+00;6.00e+00;6...   \n",
       "5  00f5404753cf_y  1.10e+01;1.20e+01;1.40e+01;1.20e+01;1.30e+01;1...   \n",
       "6  00dcf883a459_x                                    Group 1;Group 2   \n",
       "7  00dcf883a459_y                                  3.60e+00;8.40e+00   \n",
       "8  007a18eb4e09_x                        0.0;0.4;0.8;1.2;1.6;2.0;2.4   \n",
       "9  007a18eb4e09_y  1.33e-02;1.33e-02;1.33e-02;1.33e-02;1.33e-02;1...   \n",
       "\n",
       "     chart_type  \n",
       "0          line  \n",
       "1          line  \n",
       "2  vertical_bar  \n",
       "3  vertical_bar  \n",
       "4       scatter  \n",
       "5       scatter  \n",
       "6  vertical_bar  \n",
       "7  vertical_bar  \n",
       "8          line  \n",
       "9          line  "
      ]
     },
     "execution_count": 29,
     "metadata": {},
     "output_type": "execute_result"
    }
   ],
   "source": [
    "pred_df_final.head(10)"
   ]
  },
  {
   "cell_type": "code",
   "execution_count": null,
   "id": "bbada058",
   "metadata": {
    "papermill": {
     "duration": 0.013742,
     "end_time": "2023-07-21T10:40:51.307961",
     "exception": false,
     "start_time": "2023-07-21T10:40:51.294219",
     "status": "completed"
    },
    "tags": []
   },
   "outputs": [],
   "source": []
  },
  {
   "cell_type": "code",
   "execution_count": null,
   "id": "b6e70e89",
   "metadata": {
    "papermill": {
     "duration": 0.014586,
     "end_time": "2023-07-21T10:40:51.336430",
     "exception": false,
     "start_time": "2023-07-21T10:40:51.321844",
     "status": "completed"
    },
    "tags": []
   },
   "outputs": [],
   "source": []
  }
 ],
 "metadata": {
  "kernelspec": {
   "display_name": "Python 3",
   "language": "python",
   "name": "python3"
  },
  "language_info": {
   "codemirror_mode": {
    "name": "ipython",
    "version": 3
   },
   "file_extension": ".py",
   "mimetype": "text/x-python",
   "name": "python",
   "nbconvert_exporter": "python",
   "pygments_lexer": "ipython3",
   "version": "3.10.10"
  },
  "papermill": {
   "default_parameters": {},
   "duration": 110.249922,
   "end_time": "2023-07-21T10:40:54.442626",
   "environment_variables": {},
   "exception": null,
   "input_path": "__notebook__.ipynb",
   "output_path": "__notebook__.ipynb",
   "parameters": {},
   "start_time": "2023-07-21T10:39:04.192704",
   "version": "2.4.0"
  },
  "widgets": {
   "application/vnd.jupyter.widget-state+json": {
    "state": {
     "043c1a9021394fa9aa90ae7a2ecdb3ea": {
      "model_module": "@jupyter-widgets/controls",
      "model_module_version": "1.5.0",
      "model_name": "HTMLModel",
      "state": {
       "_dom_classes": [],
       "_model_module": "@jupyter-widgets/controls",
       "_model_module_version": "1.5.0",
       "_model_name": "HTMLModel",
       "_view_count": null,
       "_view_module": "@jupyter-widgets/controls",
       "_view_module_version": "1.5.0",
       "_view_name": "HTMLView",
       "description": "",
       "description_tooltip": null,
       "layout": "IPY_MODEL_8e5b373142714484a4bc3d0cb66b65ff",
       "placeholder": "​",
       "style": "IPY_MODEL_904a561bdd9f40ec897a631245e76a25",
       "value": "100%"
      }
     },
     "0ce8a2ec187a4ee8b67971080c44de66": {
      "model_module": "@jupyter-widgets/controls",
      "model_module_version": "1.5.0",
      "model_name": "DescriptionStyleModel",
      "state": {
       "_model_module": "@jupyter-widgets/controls",
       "_model_module_version": "1.5.0",
       "_model_name": "DescriptionStyleModel",
       "_view_count": null,
       "_view_module": "@jupyter-widgets/base",
       "_view_module_version": "1.2.0",
       "_view_name": "StyleView",
       "description_width": ""
      }
     },
     "17edcb9a1bcb4f7c8bd9a749311e7596": {
      "model_module": "@jupyter-widgets/base",
      "model_module_version": "1.2.0",
      "model_name": "LayoutModel",
      "state": {
       "_model_module": "@jupyter-widgets/base",
       "_model_module_version": "1.2.0",
       "_model_name": "LayoutModel",
       "_view_count": null,
       "_view_module": "@jupyter-widgets/base",
       "_view_module_version": "1.2.0",
       "_view_name": "LayoutView",
       "align_content": null,
       "align_items": null,
       "align_self": null,
       "border": null,
       "bottom": null,
       "display": null,
       "flex": null,
       "flex_flow": null,
       "grid_area": null,
       "grid_auto_columns": null,
       "grid_auto_flow": null,
       "grid_auto_rows": null,
       "grid_column": null,
       "grid_gap": null,
       "grid_row": null,
       "grid_template_areas": null,
       "grid_template_columns": null,
       "grid_template_rows": null,
       "height": null,
       "justify_content": null,
       "justify_items": null,
       "left": null,
       "margin": null,
       "max_height": null,
       "max_width": null,
       "min_height": null,
       "min_width": null,
       "object_fit": null,
       "object_position": null,
       "order": null,
       "overflow": null,
       "overflow_x": null,
       "overflow_y": null,
       "padding": null,
       "right": null,
       "top": null,
       "visibility": null,
       "width": null
      }
     },
     "19cbdc8edef84ff8a8279f336e8871c9": {
      "model_module": "@jupyter-widgets/controls",
      "model_module_version": "1.5.0",
      "model_name": "DescriptionStyleModel",
      "state": {
       "_model_module": "@jupyter-widgets/controls",
       "_model_module_version": "1.5.0",
       "_model_name": "DescriptionStyleModel",
       "_view_count": null,
       "_view_module": "@jupyter-widgets/base",
       "_view_module_version": "1.2.0",
       "_view_name": "StyleView",
       "description_width": ""
      }
     },
     "1d1829c59063465a86a5b70d9f48a4b8": {
      "model_module": "@jupyter-widgets/base",
      "model_module_version": "1.2.0",
      "model_name": "LayoutModel",
      "state": {
       "_model_module": "@jupyter-widgets/base",
       "_model_module_version": "1.2.0",
       "_model_name": "LayoutModel",
       "_view_count": null,
       "_view_module": "@jupyter-widgets/base",
       "_view_module_version": "1.2.0",
       "_view_name": "LayoutView",
       "align_content": null,
       "align_items": null,
       "align_self": null,
       "border": null,
       "bottom": null,
       "display": null,
       "flex": null,
       "flex_flow": null,
       "grid_area": null,
       "grid_auto_columns": null,
       "grid_auto_flow": null,
       "grid_auto_rows": null,
       "grid_column": null,
       "grid_gap": null,
       "grid_row": null,
       "grid_template_areas": null,
       "grid_template_columns": null,
       "grid_template_rows": null,
       "height": null,
       "justify_content": null,
       "justify_items": null,
       "left": null,
       "margin": null,
       "max_height": null,
       "max_width": null,
       "min_height": null,
       "min_width": null,
       "object_fit": null,
       "object_position": null,
       "order": null,
       "overflow": null,
       "overflow_x": null,
       "overflow_y": null,
       "padding": null,
       "right": null,
       "top": null,
       "visibility": null,
       "width": null
      }
     },
     "1d95bbd6f98c470cb2c420cc75851a91": {
      "model_module": "@jupyter-widgets/base",
      "model_module_version": "1.2.0",
      "model_name": "LayoutModel",
      "state": {
       "_model_module": "@jupyter-widgets/base",
       "_model_module_version": "1.2.0",
       "_model_name": "LayoutModel",
       "_view_count": null,
       "_view_module": "@jupyter-widgets/base",
       "_view_module_version": "1.2.0",
       "_view_name": "LayoutView",
       "align_content": null,
       "align_items": null,
       "align_self": null,
       "border": null,
       "bottom": null,
       "display": null,
       "flex": null,
       "flex_flow": null,
       "grid_area": null,
       "grid_auto_columns": null,
       "grid_auto_flow": null,
       "grid_auto_rows": null,
       "grid_column": null,
       "grid_gap": null,
       "grid_row": null,
       "grid_template_areas": null,
       "grid_template_columns": null,
       "grid_template_rows": null,
       "height": null,
       "justify_content": null,
       "justify_items": null,
       "left": null,
       "margin": null,
       "max_height": null,
       "max_width": null,
       "min_height": null,
       "min_width": null,
       "object_fit": null,
       "object_position": null,
       "order": null,
       "overflow": null,
       "overflow_x": null,
       "overflow_y": null,
       "padding": null,
       "right": null,
       "top": null,
       "visibility": null,
       "width": null
      }
     },
     "258682c4f8254e8da107bbf7678ebed9": {
      "model_module": "@jupyter-widgets/base",
      "model_module_version": "1.2.0",
      "model_name": "LayoutModel",
      "state": {
       "_model_module": "@jupyter-widgets/base",
       "_model_module_version": "1.2.0",
       "_model_name": "LayoutModel",
       "_view_count": null,
       "_view_module": "@jupyter-widgets/base",
       "_view_module_version": "1.2.0",
       "_view_name": "LayoutView",
       "align_content": null,
       "align_items": null,
       "align_self": null,
       "border": null,
       "bottom": null,
       "display": null,
       "flex": null,
       "flex_flow": null,
       "grid_area": null,
       "grid_auto_columns": null,
       "grid_auto_flow": null,
       "grid_auto_rows": null,
       "grid_column": null,
       "grid_gap": null,
       "grid_row": null,
       "grid_template_areas": null,
       "grid_template_columns": null,
       "grid_template_rows": null,
       "height": null,
       "justify_content": null,
       "justify_items": null,
       "left": null,
       "margin": null,
       "max_height": null,
       "max_width": null,
       "min_height": null,
       "min_width": null,
       "object_fit": null,
       "object_position": null,
       "order": null,
       "overflow": null,
       "overflow_x": null,
       "overflow_y": null,
       "padding": null,
       "right": null,
       "top": null,
       "visibility": null,
       "width": null
      }
     },
     "26f4044a8a4641848271f9b1a01e1f58": {
      "model_module": "@jupyter-widgets/controls",
      "model_module_version": "1.5.0",
      "model_name": "HTMLModel",
      "state": {
       "_dom_classes": [],
       "_model_module": "@jupyter-widgets/controls",
       "_model_module_version": "1.5.0",
       "_model_name": "HTMLModel",
       "_view_count": null,
       "_view_module": "@jupyter-widgets/controls",
       "_view_module_version": "1.5.0",
       "_view_name": "HTMLView",
       "description": "",
       "description_tooltip": null,
       "layout": "IPY_MODEL_61e9f5a9e9a5432e8086770841541e2e",
       "placeholder": "​",
       "style": "IPY_MODEL_0ce8a2ec187a4ee8b67971080c44de66",
       "value": "100%"
      }
     },
     "29d8daac85734e5c94e167026e373ef4": {
      "model_module": "@jupyter-widgets/controls",
      "model_module_version": "1.5.0",
      "model_name": "FloatProgressModel",
      "state": {
       "_dom_classes": [],
       "_model_module": "@jupyter-widgets/controls",
       "_model_module_version": "1.5.0",
       "_model_name": "FloatProgressModel",
       "_view_count": null,
       "_view_module": "@jupyter-widgets/controls",
       "_view_module_version": "1.5.0",
       "_view_name": "ProgressView",
       "bar_style": "success",
       "description": "",
       "description_tooltip": null,
       "layout": "IPY_MODEL_34d0750937d64578bb607a3343d6649b",
       "max": 5.0,
       "min": 0.0,
       "orientation": "horizontal",
       "style": "IPY_MODEL_f0ff936280af47439337ac7dd035915e",
       "value": 5.0
      }
     },
     "2db1f6a0f9964abeac4cef845703f2db": {
      "model_module": "@jupyter-widgets/controls",
      "model_module_version": "1.5.0",
      "model_name": "ProgressStyleModel",
      "state": {
       "_model_module": "@jupyter-widgets/controls",
       "_model_module_version": "1.5.0",
       "_model_name": "ProgressStyleModel",
       "_view_count": null,
       "_view_module": "@jupyter-widgets/base",
       "_view_module_version": "1.2.0",
       "_view_name": "StyleView",
       "bar_color": null,
       "description_width": ""
      }
     },
     "34d0750937d64578bb607a3343d6649b": {
      "model_module": "@jupyter-widgets/base",
      "model_module_version": "1.2.0",
      "model_name": "LayoutModel",
      "state": {
       "_model_module": "@jupyter-widgets/base",
       "_model_module_version": "1.2.0",
       "_model_name": "LayoutModel",
       "_view_count": null,
       "_view_module": "@jupyter-widgets/base",
       "_view_module_version": "1.2.0",
       "_view_name": "LayoutView",
       "align_content": null,
       "align_items": null,
       "align_self": null,
       "border": null,
       "bottom": null,
       "display": null,
       "flex": null,
       "flex_flow": null,
       "grid_area": null,
       "grid_auto_columns": null,
       "grid_auto_flow": null,
       "grid_auto_rows": null,
       "grid_column": null,
       "grid_gap": null,
       "grid_row": null,
       "grid_template_areas": null,
       "grid_template_columns": null,
       "grid_template_rows": null,
       "height": null,
       "justify_content": null,
       "justify_items": null,
       "left": null,
       "margin": null,
       "max_height": null,
       "max_width": null,
       "min_height": null,
       "min_width": null,
       "object_fit": null,
       "object_position": null,
       "order": null,
       "overflow": null,
       "overflow_x": null,
       "overflow_y": null,
       "padding": null,
       "right": null,
       "top": null,
       "visibility": null,
       "width": null
      }
     },
     "3f34cf72441648ad94fe2fec4f47d272": {
      "model_module": "@jupyter-widgets/controls",
      "model_module_version": "1.5.0",
      "model_name": "ProgressStyleModel",
      "state": {
       "_model_module": "@jupyter-widgets/controls",
       "_model_module_version": "1.5.0",
       "_model_name": "ProgressStyleModel",
       "_view_count": null,
       "_view_module": "@jupyter-widgets/base",
       "_view_module_version": "1.2.0",
       "_view_name": "StyleView",
       "bar_color": null,
       "description_width": ""
      }
     },
     "42c83232c11d4d0898c8a59ce85f4f90": {
      "model_module": "@jupyter-widgets/base",
      "model_module_version": "1.2.0",
      "model_name": "LayoutModel",
      "state": {
       "_model_module": "@jupyter-widgets/base",
       "_model_module_version": "1.2.0",
       "_model_name": "LayoutModel",
       "_view_count": null,
       "_view_module": "@jupyter-widgets/base",
       "_view_module_version": "1.2.0",
       "_view_name": "LayoutView",
       "align_content": null,
       "align_items": null,
       "align_self": null,
       "border": null,
       "bottom": null,
       "display": null,
       "flex": null,
       "flex_flow": null,
       "grid_area": null,
       "grid_auto_columns": null,
       "grid_auto_flow": null,
       "grid_auto_rows": null,
       "grid_column": null,
       "grid_gap": null,
       "grid_row": null,
       "grid_template_areas": null,
       "grid_template_columns": null,
       "grid_template_rows": null,
       "height": null,
       "justify_content": null,
       "justify_items": null,
       "left": null,
       "margin": null,
       "max_height": null,
       "max_width": null,
       "min_height": null,
       "min_width": null,
       "object_fit": null,
       "object_position": null,
       "order": null,
       "overflow": null,
       "overflow_x": null,
       "overflow_y": null,
       "padding": null,
       "right": null,
       "top": null,
       "visibility": null,
       "width": null
      }
     },
     "44a4d9d5a7f943c4a4793263b95e801b": {
      "model_module": "@jupyter-widgets/controls",
      "model_module_version": "1.5.0",
      "model_name": "HTMLModel",
      "state": {
       "_dom_classes": [],
       "_model_module": "@jupyter-widgets/controls",
       "_model_module_version": "1.5.0",
       "_model_name": "HTMLModel",
       "_view_count": null,
       "_view_module": "@jupyter-widgets/controls",
       "_view_module_version": "1.5.0",
       "_view_name": "HTMLView",
       "description": "",
       "description_tooltip": null,
       "layout": "IPY_MODEL_17edcb9a1bcb4f7c8bd9a749311e7596",
       "placeholder": "​",
       "style": "IPY_MODEL_54c49a9d32c54731ae1a69d1413c45d6",
       "value": " 4/4 [00:10&lt;00:00,  2.25s/it]"
      }
     },
     "5437cf7e3daa4ea294f10dbef1acac7a": {
      "model_module": "@jupyter-widgets/controls",
      "model_module_version": "1.5.0",
      "model_name": "FloatProgressModel",
      "state": {
       "_dom_classes": [],
       "_model_module": "@jupyter-widgets/controls",
       "_model_module_version": "1.5.0",
       "_model_name": "FloatProgressModel",
       "_view_count": null,
       "_view_module": "@jupyter-widgets/controls",
       "_view_module_version": "1.5.0",
       "_view_name": "ProgressView",
       "bar_style": "success",
       "description": "",
       "description_tooltip": null,
       "layout": "IPY_MODEL_258682c4f8254e8da107bbf7678ebed9",
       "max": 1.0,
       "min": 0.0,
       "orientation": "horizontal",
       "style": "IPY_MODEL_3f34cf72441648ad94fe2fec4f47d272",
       "value": 1.0
      }
     },
     "54c49a9d32c54731ae1a69d1413c45d6": {
      "model_module": "@jupyter-widgets/controls",
      "model_module_version": "1.5.0",
      "model_name": "DescriptionStyleModel",
      "state": {
       "_model_module": "@jupyter-widgets/controls",
       "_model_module_version": "1.5.0",
       "_model_name": "DescriptionStyleModel",
       "_view_count": null,
       "_view_module": "@jupyter-widgets/base",
       "_view_module_version": "1.2.0",
       "_view_name": "StyleView",
       "description_width": ""
      }
     },
     "561f8804eb4b46819c02f889233680b9": {
      "model_module": "@jupyter-widgets/controls",
      "model_module_version": "1.5.0",
      "model_name": "FloatProgressModel",
      "state": {
       "_dom_classes": [],
       "_model_module": "@jupyter-widgets/controls",
       "_model_module_version": "1.5.0",
       "_model_name": "FloatProgressModel",
       "_view_count": null,
       "_view_module": "@jupyter-widgets/controls",
       "_view_module_version": "1.5.0",
       "_view_name": "ProgressView",
       "bar_style": "success",
       "description": "",
       "description_tooltip": null,
       "layout": "IPY_MODEL_9b05d47ab2b54d07b1fa025c8d40d152",
       "max": 4.0,
       "min": 0.0,
       "orientation": "horizontal",
       "style": "IPY_MODEL_2db1f6a0f9964abeac4cef845703f2db",
       "value": 4.0
      }
     },
     "61e9f5a9e9a5432e8086770841541e2e": {
      "model_module": "@jupyter-widgets/base",
      "model_module_version": "1.2.0",
      "model_name": "LayoutModel",
      "state": {
       "_model_module": "@jupyter-widgets/base",
       "_model_module_version": "1.2.0",
       "_model_name": "LayoutModel",
       "_view_count": null,
       "_view_module": "@jupyter-widgets/base",
       "_view_module_version": "1.2.0",
       "_view_name": "LayoutView",
       "align_content": null,
       "align_items": null,
       "align_self": null,
       "border": null,
       "bottom": null,
       "display": null,
       "flex": null,
       "flex_flow": null,
       "grid_area": null,
       "grid_auto_columns": null,
       "grid_auto_flow": null,
       "grid_auto_rows": null,
       "grid_column": null,
       "grid_gap": null,
       "grid_row": null,
       "grid_template_areas": null,
       "grid_template_columns": null,
       "grid_template_rows": null,
       "height": null,
       "justify_content": null,
       "justify_items": null,
       "left": null,
       "margin": null,
       "max_height": null,
       "max_width": null,
       "min_height": null,
       "min_width": null,
       "object_fit": null,
       "object_position": null,
       "order": null,
       "overflow": null,
       "overflow_x": null,
       "overflow_y": null,
       "padding": null,
       "right": null,
       "top": null,
       "visibility": null,
       "width": null
      }
     },
     "7186417ca71c42ae9c2cf3a67564ac6f": {
      "model_module": "@jupyter-widgets/controls",
      "model_module_version": "1.5.0",
      "model_name": "DescriptionStyleModel",
      "state": {
       "_model_module": "@jupyter-widgets/controls",
       "_model_module_version": "1.5.0",
       "_model_name": "DescriptionStyleModel",
       "_view_count": null,
       "_view_module": "@jupyter-widgets/base",
       "_view_module_version": "1.2.0",
       "_view_name": "StyleView",
       "description_width": ""
      }
     },
     "7668fddc7c0647faa3ffa4fac3004060": {
      "model_module": "@jupyter-widgets/base",
      "model_module_version": "1.2.0",
      "model_name": "LayoutModel",
      "state": {
       "_model_module": "@jupyter-widgets/base",
       "_model_module_version": "1.2.0",
       "_model_name": "LayoutModel",
       "_view_count": null,
       "_view_module": "@jupyter-widgets/base",
       "_view_module_version": "1.2.0",
       "_view_name": "LayoutView",
       "align_content": null,
       "align_items": null,
       "align_self": null,
       "border": null,
       "bottom": null,
       "display": null,
       "flex": null,
       "flex_flow": null,
       "grid_area": null,
       "grid_auto_columns": null,
       "grid_auto_flow": null,
       "grid_auto_rows": null,
       "grid_column": null,
       "grid_gap": null,
       "grid_row": null,
       "grid_template_areas": null,
       "grid_template_columns": null,
       "grid_template_rows": null,
       "height": null,
       "justify_content": null,
       "justify_items": null,
       "left": null,
       "margin": null,
       "max_height": null,
       "max_width": null,
       "min_height": null,
       "min_width": null,
       "object_fit": null,
       "object_position": null,
       "order": null,
       "overflow": null,
       "overflow_x": null,
       "overflow_y": null,
       "padding": null,
       "right": null,
       "top": null,
       "visibility": null,
       "width": null
      }
     },
     "7b77caec8747406ca022544863f06aed": {
      "model_module": "@jupyter-widgets/base",
      "model_module_version": "1.2.0",
      "model_name": "LayoutModel",
      "state": {
       "_model_module": "@jupyter-widgets/base",
       "_model_module_version": "1.2.0",
       "_model_name": "LayoutModel",
       "_view_count": null,
       "_view_module": "@jupyter-widgets/base",
       "_view_module_version": "1.2.0",
       "_view_name": "LayoutView",
       "align_content": null,
       "align_items": null,
       "align_self": null,
       "border": null,
       "bottom": null,
       "display": null,
       "flex": null,
       "flex_flow": null,
       "grid_area": null,
       "grid_auto_columns": null,
       "grid_auto_flow": null,
       "grid_auto_rows": null,
       "grid_column": null,
       "grid_gap": null,
       "grid_row": null,
       "grid_template_areas": null,
       "grid_template_columns": null,
       "grid_template_rows": null,
       "height": null,
       "justify_content": null,
       "justify_items": null,
       "left": null,
       "margin": null,
       "max_height": null,
       "max_width": null,
       "min_height": null,
       "min_width": null,
       "object_fit": null,
       "object_position": null,
       "order": null,
       "overflow": null,
       "overflow_x": null,
       "overflow_y": null,
       "padding": null,
       "right": null,
       "top": null,
       "visibility": null,
       "width": null
      }
     },
     "8e5b373142714484a4bc3d0cb66b65ff": {
      "model_module": "@jupyter-widgets/base",
      "model_module_version": "1.2.0",
      "model_name": "LayoutModel",
      "state": {
       "_model_module": "@jupyter-widgets/base",
       "_model_module_version": "1.2.0",
       "_model_name": "LayoutModel",
       "_view_count": null,
       "_view_module": "@jupyter-widgets/base",
       "_view_module_version": "1.2.0",
       "_view_name": "LayoutView",
       "align_content": null,
       "align_items": null,
       "align_self": null,
       "border": null,
       "bottom": null,
       "display": null,
       "flex": null,
       "flex_flow": null,
       "grid_area": null,
       "grid_auto_columns": null,
       "grid_auto_flow": null,
       "grid_auto_rows": null,
       "grid_column": null,
       "grid_gap": null,
       "grid_row": null,
       "grid_template_areas": null,
       "grid_template_columns": null,
       "grid_template_rows": null,
       "height": null,
       "justify_content": null,
       "justify_items": null,
       "left": null,
       "margin": null,
       "max_height": null,
       "max_width": null,
       "min_height": null,
       "min_width": null,
       "object_fit": null,
       "object_position": null,
       "order": null,
       "overflow": null,
       "overflow_x": null,
       "overflow_y": null,
       "padding": null,
       "right": null,
       "top": null,
       "visibility": null,
       "width": null
      }
     },
     "904a561bdd9f40ec897a631245e76a25": {
      "model_module": "@jupyter-widgets/controls",
      "model_module_version": "1.5.0",
      "model_name": "DescriptionStyleModel",
      "state": {
       "_model_module": "@jupyter-widgets/controls",
       "_model_module_version": "1.5.0",
       "_model_name": "DescriptionStyleModel",
       "_view_count": null,
       "_view_module": "@jupyter-widgets/base",
       "_view_module_version": "1.2.0",
       "_view_name": "StyleView",
       "description_width": ""
      }
     },
     "979a2923ede94c9d99fb910c5360cb2c": {
      "model_module": "@jupyter-widgets/controls",
      "model_module_version": "1.5.0",
      "model_name": "HTMLModel",
      "state": {
       "_dom_classes": [],
       "_model_module": "@jupyter-widgets/controls",
       "_model_module_version": "1.5.0",
       "_model_name": "HTMLModel",
       "_view_count": null,
       "_view_module": "@jupyter-widgets/controls",
       "_view_module_version": "1.5.0",
       "_view_name": "HTMLView",
       "description": "",
       "description_tooltip": null,
       "layout": "IPY_MODEL_42c83232c11d4d0898c8a59ce85f4f90",
       "placeholder": "​",
       "style": "IPY_MODEL_19cbdc8edef84ff8a8279f336e8871c9",
       "value": " 5/5 [00:05&lt;00:00,  1.29it/s]"
      }
     },
     "97dc3113648e4362b7a82b773ad3a798": {
      "model_module": "@jupyter-widgets/controls",
      "model_module_version": "1.5.0",
      "model_name": "HBoxModel",
      "state": {
       "_dom_classes": [],
       "_model_module": "@jupyter-widgets/controls",
       "_model_module_version": "1.5.0",
       "_model_name": "HBoxModel",
       "_view_count": null,
       "_view_module": "@jupyter-widgets/controls",
       "_view_module_version": "1.5.0",
       "_view_name": "HBoxView",
       "box_style": "",
       "children": [
        "IPY_MODEL_e24cfd418f6d49fd8347c59413e258e6",
        "IPY_MODEL_561f8804eb4b46819c02f889233680b9",
        "IPY_MODEL_44a4d9d5a7f943c4a4793263b95e801b"
       ],
       "layout": "IPY_MODEL_7b77caec8747406ca022544863f06aed"
      }
     },
     "9b05d47ab2b54d07b1fa025c8d40d152": {
      "model_module": "@jupyter-widgets/base",
      "model_module_version": "1.2.0",
      "model_name": "LayoutModel",
      "state": {
       "_model_module": "@jupyter-widgets/base",
       "_model_module_version": "1.2.0",
       "_model_name": "LayoutModel",
       "_view_count": null,
       "_view_module": "@jupyter-widgets/base",
       "_view_module_version": "1.2.0",
       "_view_name": "LayoutView",
       "align_content": null,
       "align_items": null,
       "align_self": null,
       "border": null,
       "bottom": null,
       "display": null,
       "flex": null,
       "flex_flow": null,
       "grid_area": null,
       "grid_auto_columns": null,
       "grid_auto_flow": null,
       "grid_auto_rows": null,
       "grid_column": null,
       "grid_gap": null,
       "grid_row": null,
       "grid_template_areas": null,
       "grid_template_columns": null,
       "grid_template_rows": null,
       "height": null,
       "justify_content": null,
       "justify_items": null,
       "left": null,
       "margin": null,
       "max_height": null,
       "max_width": null,
       "min_height": null,
       "min_width": null,
       "object_fit": null,
       "object_position": null,
       "order": null,
       "overflow": null,
       "overflow_x": null,
       "overflow_y": null,
       "padding": null,
       "right": null,
       "top": null,
       "visibility": null,
       "width": null
      }
     },
     "a243e8f0ffa4402b896134d6798daeff": {
      "model_module": "@jupyter-widgets/base",
      "model_module_version": "1.2.0",
      "model_name": "LayoutModel",
      "state": {
       "_model_module": "@jupyter-widgets/base",
       "_model_module_version": "1.2.0",
       "_model_name": "LayoutModel",
       "_view_count": null,
       "_view_module": "@jupyter-widgets/base",
       "_view_module_version": "1.2.0",
       "_view_name": "LayoutView",
       "align_content": null,
       "align_items": null,
       "align_self": null,
       "border": null,
       "bottom": null,
       "display": null,
       "flex": null,
       "flex_flow": null,
       "grid_area": null,
       "grid_auto_columns": null,
       "grid_auto_flow": null,
       "grid_auto_rows": null,
       "grid_column": null,
       "grid_gap": null,
       "grid_row": null,
       "grid_template_areas": null,
       "grid_template_columns": null,
       "grid_template_rows": null,
       "height": null,
       "justify_content": null,
       "justify_items": null,
       "left": null,
       "margin": null,
       "max_height": null,
       "max_width": null,
       "min_height": null,
       "min_width": null,
       "object_fit": null,
       "object_position": null,
       "order": null,
       "overflow": null,
       "overflow_x": null,
       "overflow_y": null,
       "padding": null,
       "right": null,
       "top": null,
       "visibility": null,
       "width": null
      }
     },
     "a4b8b9665d8e4e98b0c1bbfa32fffcbf": {
      "model_module": "@jupyter-widgets/controls",
      "model_module_version": "1.5.0",
      "model_name": "HBoxModel",
      "state": {
       "_dom_classes": [],
       "_model_module": "@jupyter-widgets/controls",
       "_model_module_version": "1.5.0",
       "_model_name": "HBoxModel",
       "_view_count": null,
       "_view_module": "@jupyter-widgets/controls",
       "_view_module_version": "1.5.0",
       "_view_name": "HBoxView",
       "box_style": "",
       "children": [
        "IPY_MODEL_043c1a9021394fa9aa90ae7a2ecdb3ea",
        "IPY_MODEL_5437cf7e3daa4ea294f10dbef1acac7a",
        "IPY_MODEL_b4b9dce69189409182bf21272640f390"
       ],
       "layout": "IPY_MODEL_1d1829c59063465a86a5b70d9f48a4b8"
      }
     },
     "b4b9dce69189409182bf21272640f390": {
      "model_module": "@jupyter-widgets/controls",
      "model_module_version": "1.5.0",
      "model_name": "HTMLModel",
      "state": {
       "_dom_classes": [],
       "_model_module": "@jupyter-widgets/controls",
       "_model_module_version": "1.5.0",
       "_model_name": "HTMLModel",
       "_view_count": null,
       "_view_module": "@jupyter-widgets/controls",
       "_view_module_version": "1.5.0",
       "_view_name": "HTMLView",
       "description": "",
       "description_tooltip": null,
       "layout": "IPY_MODEL_a243e8f0ffa4402b896134d6798daeff",
       "placeholder": "​",
       "style": "IPY_MODEL_7186417ca71c42ae9c2cf3a67564ac6f",
       "value": " 1/1 [00:12&lt;00:00, 12.94s/it]"
      }
     },
     "d6f6fd3a9ffa46369a53e75418b73f60": {
      "model_module": "@jupyter-widgets/controls",
      "model_module_version": "1.5.0",
      "model_name": "DescriptionStyleModel",
      "state": {
       "_model_module": "@jupyter-widgets/controls",
       "_model_module_version": "1.5.0",
       "_model_name": "DescriptionStyleModel",
       "_view_count": null,
       "_view_module": "@jupyter-widgets/base",
       "_view_module_version": "1.2.0",
       "_view_name": "StyleView",
       "description_width": ""
      }
     },
     "e24cfd418f6d49fd8347c59413e258e6": {
      "model_module": "@jupyter-widgets/controls",
      "model_module_version": "1.5.0",
      "model_name": "HTMLModel",
      "state": {
       "_dom_classes": [],
       "_model_module": "@jupyter-widgets/controls",
       "_model_module_version": "1.5.0",
       "_model_name": "HTMLModel",
       "_view_count": null,
       "_view_module": "@jupyter-widgets/controls",
       "_view_module_version": "1.5.0",
       "_view_name": "HTMLView",
       "description": "",
       "description_tooltip": null,
       "layout": "IPY_MODEL_7668fddc7c0647faa3ffa4fac3004060",
       "placeholder": "​",
       "style": "IPY_MODEL_d6f6fd3a9ffa46369a53e75418b73f60",
       "value": "100%"
      }
     },
     "e8a8cd0dcb364ae18902588838ffcdfe": {
      "model_module": "@jupyter-widgets/controls",
      "model_module_version": "1.5.0",
      "model_name": "HBoxModel",
      "state": {
       "_dom_classes": [],
       "_model_module": "@jupyter-widgets/controls",
       "_model_module_version": "1.5.0",
       "_model_name": "HBoxModel",
       "_view_count": null,
       "_view_module": "@jupyter-widgets/controls",
       "_view_module_version": "1.5.0",
       "_view_name": "HBoxView",
       "box_style": "",
       "children": [
        "IPY_MODEL_26f4044a8a4641848271f9b1a01e1f58",
        "IPY_MODEL_29d8daac85734e5c94e167026e373ef4",
        "IPY_MODEL_979a2923ede94c9d99fb910c5360cb2c"
       ],
       "layout": "IPY_MODEL_1d95bbd6f98c470cb2c420cc75851a91"
      }
     },
     "f0ff936280af47439337ac7dd035915e": {
      "model_module": "@jupyter-widgets/controls",
      "model_module_version": "1.5.0",
      "model_name": "ProgressStyleModel",
      "state": {
       "_model_module": "@jupyter-widgets/controls",
       "_model_module_version": "1.5.0",
       "_model_name": "ProgressStyleModel",
       "_view_count": null,
       "_view_module": "@jupyter-widgets/base",
       "_view_module_version": "1.2.0",
       "_view_name": "StyleView",
       "bar_color": null,
       "description_width": ""
      }
     }
    },
    "version_major": 2,
    "version_minor": 0
   }
  }
 },
 "nbformat": 4,
 "nbformat_minor": 5
}
