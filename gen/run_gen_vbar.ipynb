{
 "cells": [
  {
   "cell_type": "code",
   "execution_count": 1,
   "id": "b7e80ddb",
   "metadata": {},
   "outputs": [],
   "source": [
    "# This file is modified version of original:\n",
    "# https://github.com/rbiswasfc/benetech-mga/blob/main/gen/run_gen_vbar.py"
   ]
  },
  {
   "cell_type": "code",
   "execution_count": 2,
   "id": "e788a77b",
   "metadata": {},
   "outputs": [],
   "source": [
    "%load_ext autoreload\n",
    "%autoreload 2"
   ]
  },
  {
   "cell_type": "code",
   "execution_count": 3,
   "id": "b89f8d34",
   "metadata": {},
   "outputs": [],
   "source": [
    "import argparse\n",
    "import glob\n",
    "import json\n",
    "import os\n",
    "import random\n",
    "import sys\n",
    "import warnings\n",
    "from copy import deepcopy\n",
    "\n",
    "import numpy as np\n",
    "import pandas as pd\n",
    "from omegaconf import OmegaConf\n",
    "from src.generator_utils import generate_random_string\n",
    "from src.vbar_plot_base import VerticalBarPlot\n",
    "from src.vbar_xy_generation import generate_from_synthetic, generate_from_wiki\n",
    "from tqdm.auto import tqdm\n",
    "\n",
    "# warnings.filterwarnings(\"ignore\")"
   ]
  },
  {
   "cell_type": "code",
   "execution_count": 4,
   "id": "1b121c1b",
   "metadata": {},
   "outputs": [],
   "source": [
    "STOPWORDS = [\n",
    "    \"ISBN\",\n",
    "    \"exit\",\n",
    "    \"edit\",\n",
    "]\n"
   ]
  },
  {
   "cell_type": "code",
   "execution_count": 5,
   "id": "a9302b86",
   "metadata": {},
   "outputs": [],
   "source": [
    "class NpEncoder(json.JSONEncoder):\n",
    "    def default(self, obj):\n",
    "        if isinstance(obj, np.integer):\n",
    "            return int(obj)\n",
    "        if isinstance(obj, np.floating):\n",
    "            return float(obj)\n",
    "        if isinstance(obj, np.ndarray):\n",
    "            return obj.tolist()\n",
    "        return super(NpEncoder, self).default(obj)"
   ]
  },
  {
   "cell_type": "code",
   "execution_count": 6,
   "id": "721861be",
   "metadata": {},
   "outputs": [],
   "source": [
    "def generate_plot_data(cfg, wiki_generator, synthetic_generator):\n",
    "    generator = random.choices(\n",
    "        [wiki_generator, synthetic_generator],\n",
    "        weights=[0.25, 0.75],\n",
    "        k=1,\n",
    "    )[0]\n",
    "\n",
    "    try:\n",
    "        data = next(generator)\n",
    "    except Exception as e:\n",
    "        data = next(synthetic_generator)\n",
    "\n",
    "    x_series = list(deepcopy(data['x_series']))\n",
    "    y_series = list(deepcopy(data['y_series']))\n",
    "\n",
    "    # process underlying data ---\n",
    "    x_series = [str(x) for x in x_series]\n",
    "    x_series = [x_val[:cfg.max_chars] for x_val in x_series]\n",
    "\n",
    "   # max data points in a plot\n",
    "    x_series = x_series[:cfg.max_points]\n",
    "    y_series = y_series[:cfg.max_points]\n",
    "\n",
    "    if (abs(min(y_series)) < 1e-3) & (abs(max(y_series)) < 1e-3):  # fixing constant value\n",
    "        idx = random.randint(0, len(y_series)-1)\n",
    "        y_series[idx] = random.uniform(0.01, 0.99)\n",
    "\n",
    "    data['x_series'] = list(x_series)\n",
    "    data['y_series'] = list(y_series)\n",
    "    return data"
   ]
  },
  {
   "cell_type": "code",
   "execution_count": 7,
   "id": "cbb11512",
   "metadata": {},
   "outputs": [],
   "source": [
    "def generate_annotation(data):\n",
    "    data = deepcopy(data)\n",
    "    x_mga = data['x_series']\n",
    "    y_mga = data['y_series']\n",
    "\n",
    "    chart_type = 'vertical_bar'\n",
    "    x_type = 'categorical'\n",
    "    y_type = 'numerical'\n",
    "\n",
    "    data_series = []\n",
    "    for xi, yi in zip(x_mga, y_mga):\n",
    "        data_series.append(\n",
    "            {\n",
    "                'x': xi,\n",
    "                'y': yi,\n",
    "            }\n",
    "        )\n",
    "\n",
    "    annotation = dict()\n",
    "    annotation['chart-type'] = chart_type\n",
    "\n",
    "    annotation['axes'] = dict()\n",
    "    annotation['axes']['x-axis'] = dict()\n",
    "    annotation['axes']['x-axis']['values-type'] = x_type\n",
    "\n",
    "    annotation['axes']['y-axis'] = dict()\n",
    "    annotation['axes']['y-axis']['values-type'] = y_type\n",
    "\n",
    "    annotation['data-series'] = data_series\n",
    "    return annotation\n"
   ]
  },
  {
   "cell_type": "code",
   "execution_count": 8,
   "id": "096f2881",
   "metadata": {},
   "outputs": [],
   "source": [
    "\n",
    "def main(args, cfg):\n",
    "    with open(args.wiki_path, 'r') as f:\n",
    "        wiki_bank = json.load(f)\n",
    "        \n",
    "    # len(wiki_bank) => 175543\n",
    "    # type(wiki_bank[0]) => <class 'list'>\n",
    "    # type(wiki_bank[0][0]) => <class 'dict'>\n",
    "    # wiki_bank[0:100] => [[{'plot-title': '', 'series-name': 'Party', 'data-type': 'categorical', 'data-series': ['Public Against Violence', 'Christian Democratic Movement', 'Slovak National Party', 'Communist Party of Slovakia', 'Coexistence – Hungarian Christian Democratic Movement', 'Democratic Party', 'Party of Greens',\n",
    "    \n",
    "    \n",
    "    \n",
    "    stem_df = pd.read_pickle(args.stem_path)\n",
    "    # stem_df.head(3) => \n",
    "    #    title                                           keywords\n",
    "    # 0  page_2  [SENIOR CONTRIBUTING AUTHORS, COMMUNITY COLLEG...\n",
    "    # 1  page_3  [Rice University, Main Street, Textbook, Downl...\n",
    "    # 2  page_4  [RICE UNIVERSITY, FOUNDATION, Advanced Placeme...    \n",
    "    \n",
    "    stem_bank = dict(zip(stem_df[\"title\"], stem_df[\"keywords\"]))    \n",
    "\n",
    "    # get first item of dict => next(iter(stem_bank.items())) =>\n",
    "    # ('page_2', array(['SENIOR CONTRIBUTING AUTHORS', 'COMMUNITY COLLEGE', 'Physiology',\n",
    "    #        'CENTRAL OREGON COMMUNITY', 'UNIVERSITY', 'PETER DESAIX',\n",
    "    #        'CHAPEL HILL', 'EDDIE JOHNSON', 'Anatomy', 'DEAN KRUSE',\n",
    "    #        'YOUNGSTOWN STATE', 'BETTS', 'TYLER', 'GORDON', 'WISE', 'OKSANA',\n",
    "    #        'POE', 'SPRINGFIELD', 'JAMES', 'MARK', 'CALIFORNIA', 'TECHNICAL'],\n",
    "    #       dtype=object))\n",
    "    # here \"page_2\" is the first key.\n",
    "    \n",
    "    # process stem bank\n",
    "    processed_stem_bank = dict()\n",
    "    for key, values in stem_bank.items():\n",
    "        # values => ['SENIOR CONTRIBUTING AUTHORS' 'COMMUNITY COLLEGE' 'Physiology', ...]\n",
    "        \n",
    "        key = key.replace(\"_\", \" \")\n",
    "        values = [v for v in values if not v.startswith(\"[\")]# v => SENIOR CONTRIBUTING AUTHORS\n",
    "        values = [v for v in values if not v in STOPWORDS]\n",
    "\n",
    "        if len(values) >= 4:\n",
    "            processed_stem_bank[key] = list(set(values))\n",
    "\n",
    "    # processed_stem_bank['page 2'] =>\n",
    "    # ['OKSANA', 'TYLER', 'UNIVERSITY', 'MARK', 'CENTRAL OREGON COMMUNITY', ...]    \n",
    "        \n",
    "    print(f\"wiki bank size: {len(wiki_bank)}\")\n",
    "    print(f\"stem bank size: {len(processed_stem_bank)}\")\n",
    "    \n",
    "    \n",
    "    wiki_generator = generate_from_wiki(wiki_bank)\n",
    "    synthetic_generator = generate_from_synthetic(processed_stem_bank)\n",
    "\n",
    "    # -- input/output ---\n",
    "    os.makedirs(cfg.output.image_dir, exist_ok=True)\n",
    "    os.makedirs(cfg.output.annotation_dir, exist_ok=True)\n",
    "    texture_files = glob.glob(f\"{args.texture_dir}/*.png\")\n",
    "    print(f\"# texture files: {len(texture_files)}\")\n",
    "\n",
    "    p_bar = tqdm(range(cfg.num_images))\n",
    "    for _ in range(cfg.num_images):\n",
    "        base_image_id = f'syn_vbar_{generate_random_string()}'\n",
    "        the_example = generate_plot_data(cfg, wiki_generator, synthetic_generator)\n",
    "\n",
    "        # cast in the format of MGA\n",
    "        mga_anno = generate_annotation(the_example)\n",
    "        \n",
    "        # cfg.output.annotation_dir => '../data/synthetic_vbar_b0/annotations'\n",
    "        anno_path = os.path.join(cfg.output.annotation_dir, f\"{base_image_id}.json\")\n",
    "        image_id = f\"{base_image_id}\"\n",
    "        try:\n",
    "            VerticalBarPlot(cfg, the_example, texture_files=texture_files).make_vertical_bar_plot(image_id)\n",
    "            with open(anno_path, \"w\") as f:\n",
    "                # use NpEncoder as custom JSONEncoder subclass.\n",
    "                json.dump(mga_anno, f, cls=NpEncoder)\n",
    "\n",
    "        except Exception as e:\n",
    "            print(e)\n",
    "            print(\"--\"*40)\n",
    "            print(the_example)\n",
    "            print(\"--\"*40)\n",
    "        p_bar.update()\n",
    "    p_bar.close()"
   ]
  },
  {
   "cell_type": "code",
   "execution_count": 9,
   "id": "94ec6b99",
   "metadata": {},
   "outputs": [
    {
     "name": "stdout",
     "output_type": "stream",
     "text": [
      "wiki bank size: 175543\n",
      "stem bank size: 96456\n",
      "# texture files: 1109\n"
     ]
    },
    {
     "data": {
      "application/vnd.jupyter.widget-view+json": {
       "model_id": "de994d013fd44d17885a23f6d2a06b4d",
       "version_major": 2,
       "version_minor": 0
      },
      "text/plain": [
       "  0%|          | 0/5000 [00:00<?, ?it/s]"
      ]
     },
     "metadata": {},
     "output_type": "display_data"
    },
    {
     "name": "stderr",
     "output_type": "stream",
     "text": [
      "/media/na/e0adac50-20ce-4eb4-9c9d-98faf82ddd46/gen/src/vbar_plot_base.py:1018: UserWarning: Glyph 8377 (\\N{INDIAN RUPEE SIGN}) missing from current font.\n",
      "  self.fig.savefig(save_path, format='jpg', bbox_inches='tight')\n",
      "/media/na/e0adac50-20ce-4eb4-9c9d-98faf82ddd46/gen/src/vbar_plot_base.py:1018: UserWarning: Glyph 8377 (\\N{INDIAN RUPEE SIGN}) missing from current font.\n",
      "  self.fig.savefig(save_path, format='jpg', bbox_inches='tight')\n",
      "No artists with labels found to put in legend.  Note that artists whose label start with an underscore are ignored when legend() is called with no argument.\n",
      "No artists with labels found to put in legend.  Note that artists whose label start with an underscore are ignored when legend() is called with no argument.\n",
      "/media/na/e0adac50-20ce-4eb4-9c9d-98faf82ddd46/gen/src/vbar_plot_base.py:1018: UserWarning: Glyph 8364 (\\N{EURO SIGN}) missing from current font.\n",
      "  self.fig.savefig(save_path, format='jpg', bbox_inches='tight')\n",
      "/media/na/e0adac50-20ce-4eb4-9c9d-98faf82ddd46/gen/src/vbar_plot_base.py:1018: UserWarning: Glyph 8364 (\\N{EURO SIGN}) missing from current font.\n",
      "  self.fig.savefig(save_path, format='jpg', bbox_inches='tight')\n",
      "/media/na/e0adac50-20ce-4eb4-9c9d-98faf82ddd46/gen/src/vbar_plot_base.py:1018: UserWarning: Glyph 8364 (\\N{EURO SIGN}) missing from current font.\n",
      "  self.fig.savefig(save_path, format='jpg', bbox_inches='tight')\n",
      "/media/na/e0adac50-20ce-4eb4-9c9d-98faf82ddd46/gen/src/vbar_plot_base.py:1018: UserWarning: Glyph 8364 (\\N{EURO SIGN}) missing from current font.\n",
      "  self.fig.savefig(save_path, format='jpg', bbox_inches='tight')\n"
     ]
    }
   ],
   "source": [
    "if __name__ == '__main__':\n",
    "    ap = argparse.ArgumentParser()\n",
    "    ap.add_argument('--wiki_path', default='../datasets/processed/deps/sanitized_wiki.json', type=str, )#required=True\n",
    "    ap.add_argument('--stem_path', default='../datasets/processed/deps/mga_stem_kws.pickle', type=str, )\n",
    "    ap.add_argument('--conf_path', default='./conf/conf_vbar.yaml', type=str, )\n",
    "    ap.add_argument('--texture_dir', default='../datasets/processed/deps/mga_textures_cc/mga_textures_cc', type=str, )\n",
    "\n",
    "    args, unknown = ap.parse_known_args()\n",
    "    cfg = OmegaConf.load(args.conf_path)\n",
    "\n",
    "    processed_stem_bank = main(args, cfg)"
   ]
  },
  {
   "cell_type": "code",
   "execution_count": null,
   "id": "e979b59f",
   "metadata": {},
   "outputs": [],
   "source": []
  },
  {
   "cell_type": "code",
   "execution_count": null,
   "id": "8e456d8f",
   "metadata": {},
   "outputs": [],
   "source": []
  }
 ],
 "metadata": {
  "kernelspec": {
   "display_name": "Python 3 (ipykernel)",
   "language": "python",
   "name": "python3"
  },
  "language_info": {
   "codemirror_mode": {
    "name": "ipython",
    "version": 3
   },
   "file_extension": ".py",
   "mimetype": "text/x-python",
   "name": "python",
   "nbconvert_exporter": "python",
   "pygments_lexer": "ipython3",
   "version": "3.8.17"
  }
 },
 "nbformat": 4,
 "nbformat_minor": 5
}
