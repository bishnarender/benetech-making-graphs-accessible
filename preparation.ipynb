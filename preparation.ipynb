{
 "cells": [
  {
   "cell_type": "code",
   "execution_count": 1,
   "metadata": {},
   "outputs": [],
   "source": [
    "# This file is modified version of original:\n",
    "# https://github.com/TheoViel/kaggle_benetech/blob/cleaning/notebooks/Preparation.ipynb"
   ]
  },
  {
   "cell_type": "markdown",
   "metadata": {},
   "source": [
    "**About** : this notebook is used to prepare the data."
   ]
  },
  {
   "cell_type": "code",
   "execution_count": 2,
   "metadata": {},
   "outputs": [],
   "source": [
    "%load_ext autoreload\n",
    "%autoreload 2"
   ]
  },
  {
   "cell_type": "code",
   "execution_count": 3,
   "metadata": {},
   "outputs": [],
   "source": [
    "# cd"
   ]
  },
  {
   "cell_type": "code",
   "execution_count": 4,
   "metadata": {},
   "outputs": [],
   "source": [
    "# cd ./src/"
   ]
  },
  {
   "cell_type": "code",
   "execution_count": 5,
   "metadata": {},
   "outputs": [],
   "source": [
    "# cd"
   ]
  },
  {
   "cell_type": "markdown",
   "metadata": {},
   "source": [
    "## Initialization"
   ]
  },
  {
   "cell_type": "markdown",
   "metadata": {},
   "source": [
    "### Imports"
   ]
  },
  {
   "cell_type": "code",
   "execution_count": 6,
   "metadata": {},
   "outputs": [],
   "source": [
    "import os\n",
    "import sys\n",
    "import cv2\n",
    "import glob\n",
    "import json\n",
    "import numpy as np\n",
    "import pandas as pd\n",
    "import seaborn as sns\n",
    "import matplotlib.pyplot as plt\n",
    "\n",
    "from tqdm import tqdm\n",
    "\n",
    "pd.set_option('display.width', 500)\n",
    "pd.set_option('max_colwidth', 100)"
   ]
  },
  {
   "cell_type": "markdown",
   "metadata": {},
   "source": [
    "## Processing"
   ]
  },
  {
   "cell_type": "code",
   "execution_count": 7,
   "metadata": {},
   "outputs": [],
   "source": [
    "def get_annotations(annotations_path: str = \"./input/train/annotations\") -> pd.DataFrame:\n",
    "    \"\"\"\n",
    "    Loads and returns a pandas DataFrame containing all annotations found at the given path.\n",
    "\n",
    "    Args:\n",
    "        annotations_path (str): Path to the directory containing the annotations.\n",
    "        \n",
    "    Returns:\n",
    "        pd.DataFrame: A pandas DataFrame containing the annotations.\n",
    "    \"\"\"\n",
    "    annotations = []\n",
    "    for annotation_path in tqdm(os.listdir(annotations_path)):\n",
    "        with open(f\"{annotations_path}/{annotation_path}\") as annotation_f:\n",
    "            annots = json.load(annotation_f)\n",
    "            \n",
    "            # annotation_path => 8941f843bb04.json\n",
    "            annots['id'] = annotation_path[:-5]\n",
    "            annotations.append(annots)\n",
    "\n",
    "            \n",
    "    df = pd.DataFrame(annotations)\n",
    "    df = df[['id', 'source', 'chart-type', 'plot-bb', 'text', 'axes', 'data-series', 'visual-elements']]\n",
    "    return df"
   ]
  },
  {
   "cell_type": "code",
   "execution_count": 8,
   "metadata": {},
   "outputs": [
    {
     "name": "stderr",
     "output_type": "stream",
     "text": [
      "100%|███████████████████████████████████| 60578/60578 [00:09<00:00, 6594.16it/s]\n"
     ]
    }
   ],
   "source": [
    "df = get_annotations()"
   ]
  },
  {
   "cell_type": "code",
   "execution_count": 9,
   "metadata": {},
   "outputs": [
    {
     "data": {
      "text/html": [
       "<div>\n",
       "<style scoped>\n",
       "    .dataframe tbody tr th:only-of-type {\n",
       "        vertical-align: middle;\n",
       "    }\n",
       "\n",
       "    .dataframe tbody tr th {\n",
       "        vertical-align: top;\n",
       "    }\n",
       "\n",
       "    .dataframe thead th {\n",
       "        text-align: right;\n",
       "    }\n",
       "</style>\n",
       "<table border=\"1\" class=\"dataframe\">\n",
       "  <thead>\n",
       "    <tr style=\"text-align: right;\">\n",
       "      <th></th>\n",
       "      <th>id</th>\n",
       "      <th>source</th>\n",
       "      <th>chart-type</th>\n",
       "      <th>plot-bb</th>\n",
       "      <th>text</th>\n",
       "      <th>axes</th>\n",
       "      <th>data-series</th>\n",
       "      <th>visual-elements</th>\n",
       "    </tr>\n",
       "  </thead>\n",
       "  <tbody>\n",
       "    <tr>\n",
       "      <th>0</th>\n",
       "      <td>8941f843bb04</td>\n",
       "      <td>generated</td>\n",
       "      <td>dot</td>\n",
       "      <td>{'height': 210, 'width': 413, 'x0': 77, 'y0': 34}</td>\n",
       "      <td>[{'id': 0, 'polygon': {'x0': 100, 'x1': 381, 'x2': 381, 'x3': 100, 'y0': 7, 'y1': 7, 'y2': 21, '...</td>\n",
       "      <td>{'x-axis': {'ticks': [{'id': 14, 'tick_pt': {'x': 111, 'y': 244}}, {'id': 15, 'tick_pt': {'x': 1...</td>\n",
       "      <td>[{'x': '1-10', 'y': 4}, {'x': '11-20', 'y': 9}, {'x': '21-30', 'y': 3}, {'x': '31-40', 'y': 6}, ...</td>\n",
       "      <td>{'bars': [], 'boxplots': [], 'dot points': [[{'x': 111.16666666666667, 'y': 231.69999999999996},...</td>\n",
       "    </tr>\n",
       "    <tr>\n",
       "      <th>1</th>\n",
       "      <td>7dbdb91fa4a7</td>\n",
       "      <td>generated</td>\n",
       "      <td>scatter</td>\n",
       "      <td>{'height': 198, 'width': 387, 'x0': 53, 'y0': 49}</td>\n",
       "      <td>[{'id': 0, 'polygon': {'x0': 49, 'x1': 415, 'x2': 415, 'x3': 49, 'y0': 5, 'y1': 5, 'y2': 35, 'y3...</td>\n",
       "      <td>{'x-axis': {'ticks': [{'id': 13, 'tick_pt': {'x': 53, 'y': 247}}, {'id': 14, 'tick_pt': {'x': 10...</td>\n",
       "      <td>[{'x': 1989.8843519834604, 'y': 137.384032977202}, {'x': 1991.9345738036784, 'y': 137.4446033481...</td>\n",
       "      <td>{'bars': [], 'boxplots': [], 'dot points': [], 'lines': [], 'scatter points': [[{'x': 106.666666...</td>\n",
       "    </tr>\n",
       "    <tr>\n",
       "      <th>2</th>\n",
       "      <td>956c946a123d</td>\n",
       "      <td>generated</td>\n",
       "      <td>line</td>\n",
       "      <td>{'height': 183, 'width': 402, 'x0': 62, 'y0': 43}</td>\n",
       "      <td>[{'id': 0, 'polygon': {'x0': 89, 'x1': 446, 'x2': 446, 'x3': 89, 'y0': 11, 'y1': 11, 'y2': 26, '...</td>\n",
       "      <td>{'x-axis': {'ticks': [{'id': 13, 'tick_pt': {'x': 77, 'y': 226}}, {'id': 14, 'tick_pt': {'x': 10...</td>\n",
       "      <td>[{'x': '2003', 'y': 102.26523849082314}, {'x': '2004', 'y': 102.36465698080957}, {'x': '2005', '...</td>\n",
       "      <td>{'bars': [], 'boxplots': [], 'dot points': [], 'lines': [[{'x': 77.0, 'y': 159.85519125683058}, ...</td>\n",
       "    </tr>\n",
       "    <tr>\n",
       "      <th>3</th>\n",
       "      <td>5fe5636e61d3</td>\n",
       "      <td>generated</td>\n",
       "      <td>dot</td>\n",
       "      <td>{'height': 207, 'width': 416, 'x0': 91, 'y0': 37}</td>\n",
       "      <td>[{'id': 0, 'polygon': {'x0': 167, 'x1': 388, 'x2': 388, 'x3': 167, 'y0': 7, 'y1': 7, 'y2': 20, '...</td>\n",
       "      <td>{'x-axis': {'ticks': [{'id': 12, 'tick_pt': {'x': 126, 'y': 243}}, {'id': 13, 'tick_pt': {'x': 1...</td>\n",
       "      <td>[{'x': 'Arrah', 'y': 2}, {'x': 'Pathankot', 'y': 6}, {'x': 'Haldwani', 'y': 3}, {'x': 'Lalitpur'...</td>\n",
       "      <td>{'bars': [], 'boxplots': [], 'dot points': [[{'x': 124.0, 'y': 233.13333333333338}, {'x': 124.0,...</td>\n",
       "    </tr>\n",
       "    <tr>\n",
       "      <th>4</th>\n",
       "      <td>e3f11968d040</td>\n",
       "      <td>generated</td>\n",
       "      <td>line</td>\n",
       "      <td>{'height': 235, 'width': 445, 'x0': 40, 'y0': 29}</td>\n",
       "      <td>[{'id': 0, 'polygon': {'x0': 68, 'x1': 379, 'x2': 379, 'x3': 68, 'y0': 6, 'y1': 6, 'y2': 22, 'y3...</td>\n",
       "      <td>{'x-axis': {'ticks': [{'id': 13, 'tick_pt': {'x': 57, 'y': 263}}, {'id': 14, 'tick_pt': {'x': 91...</td>\n",
       "      <td>[{'x': '1990', 'y': 39.63600511617992}, {'x': '1991', 'y': 32.47224472393946}, {'x': '1992', 'y'...</td>\n",
       "      <td>{'bars': [], 'boxplots': [], 'dot points': [], 'lines': [[{'x': 56.666666666666664, 'y': 56.625}...</td>\n",
       "    </tr>\n",
       "  </tbody>\n",
       "</table>\n",
       "</div>"
      ],
      "text/plain": [
       "             id     source chart-type                                            plot-bb                                                                                                 text                                                                                                 axes                                                                                          data-series                                                                                      visual-elements\n",
       "0  8941f843bb04  generated        dot  {'height': 210, 'width': 413, 'x0': 77, 'y0': 34}  [{'id': 0, 'polygon': {'x0': 100, 'x1': 381, 'x2': 381, 'x3': 100, 'y0': 7, 'y1': 7, 'y2': 21, '...  {'x-axis': {'ticks': [{'id': 14, 'tick_pt': {'x': 111, 'y': 244}}, {'id': 15, 'tick_pt': {'x': 1...  [{'x': '1-10', 'y': 4}, {'x': '11-20', 'y': 9}, {'x': '21-30', 'y': 3}, {'x': '31-40', 'y': 6}, ...  {'bars': [], 'boxplots': [], 'dot points': [[{'x': 111.16666666666667, 'y': 231.69999999999996},...\n",
       "1  7dbdb91fa4a7  generated    scatter  {'height': 198, 'width': 387, 'x0': 53, 'y0': 49}  [{'id': 0, 'polygon': {'x0': 49, 'x1': 415, 'x2': 415, 'x3': 49, 'y0': 5, 'y1': 5, 'y2': 35, 'y3...  {'x-axis': {'ticks': [{'id': 13, 'tick_pt': {'x': 53, 'y': 247}}, {'id': 14, 'tick_pt': {'x': 10...  [{'x': 1989.8843519834604, 'y': 137.384032977202}, {'x': 1991.9345738036784, 'y': 137.4446033481...  {'bars': [], 'boxplots': [], 'dot points': [], 'lines': [], 'scatter points': [[{'x': 106.666666...\n",
       "2  956c946a123d  generated       line  {'height': 183, 'width': 402, 'x0': 62, 'y0': 43}  [{'id': 0, 'polygon': {'x0': 89, 'x1': 446, 'x2': 446, 'x3': 89, 'y0': 11, 'y1': 11, 'y2': 26, '...  {'x-axis': {'ticks': [{'id': 13, 'tick_pt': {'x': 77, 'y': 226}}, {'id': 14, 'tick_pt': {'x': 10...  [{'x': '2003', 'y': 102.26523849082314}, {'x': '2004', 'y': 102.36465698080957}, {'x': '2005', '...  {'bars': [], 'boxplots': [], 'dot points': [], 'lines': [[{'x': 77.0, 'y': 159.85519125683058}, ...\n",
       "3  5fe5636e61d3  generated        dot  {'height': 207, 'width': 416, 'x0': 91, 'y0': 37}  [{'id': 0, 'polygon': {'x0': 167, 'x1': 388, 'x2': 388, 'x3': 167, 'y0': 7, 'y1': 7, 'y2': 20, '...  {'x-axis': {'ticks': [{'id': 12, 'tick_pt': {'x': 126, 'y': 243}}, {'id': 13, 'tick_pt': {'x': 1...  [{'x': 'Arrah', 'y': 2}, {'x': 'Pathankot', 'y': 6}, {'x': 'Haldwani', 'y': 3}, {'x': 'Lalitpur'...  {'bars': [], 'boxplots': [], 'dot points': [[{'x': 124.0, 'y': 233.13333333333338}, {'x': 124.0,...\n",
       "4  e3f11968d040  generated       line  {'height': 235, 'width': 445, 'x0': 40, 'y0': 29}  [{'id': 0, 'polygon': {'x0': 68, 'x1': 379, 'x2': 379, 'x3': 68, 'y0': 6, 'y1': 6, 'y2': 22, 'y3...  {'x-axis': {'ticks': [{'id': 13, 'tick_pt': {'x': 57, 'y': 263}}, {'id': 14, 'tick_pt': {'x': 91...  [{'x': '1990', 'y': 39.63600511617992}, {'x': '1991', 'y': 32.47224472393946}, {'x': '1992', 'y'...  {'bars': [], 'boxplots': [], 'dot points': [], 'lines': [[{'x': 56.666666666666664, 'y': 56.625}..."
      ]
     },
     "execution_count": 9,
     "metadata": {},
     "output_type": "execute_result"
    }
   ],
   "source": [
    "df.head(5)"
   ]
  },
  {
   "cell_type": "code",
   "execution_count": 10,
   "metadata": {},
   "outputs": [
    {
     "data": {
      "image/png": "[encoded data removed]",
      "text/plain": [
       "<Figure size 640x480 with 1 Axes>"
      ]
     },
     "metadata": {},
     "output_type": "display_data"
    }
   ],
   "source": [
    "sns.countplot(x=\"chart-type\", hue=\"source\", data=df)\n",
    "plt.yscale('log')\n",
    "plt.show()"
   ]
  },
  {
   "cell_type": "markdown",
   "metadata": {},
   "source": [
    "### Process columns"
   ]
  },
  {
   "cell_type": "code",
   "execution_count": 11,
   "metadata": {},
   "outputs": [],
   "source": [
    "df['plot_x0'] = df['plot-bb'].apply(lambda x: x['x0'])\n",
    "df['plot_y0'] = df['plot-bb'].apply(lambda x: x['y0'])\n",
    "df['plot_h'] = df['plot-bb'].apply(lambda x: x['height'])\n",
    "df['plot_w'] = df['plot-bb'].apply(lambda x: x['width'])"
   ]
  },
  {
   "cell_type": "code",
   "execution_count": 12,
   "metadata": {},
   "outputs": [],
   "source": [
    "df['x_axis'] = df['axes'].apply(lambda x: x['x-axis'])\n",
    "df['y_axis'] = df['axes'].apply(lambda x: x['y-axis'])\n",
    "\n",
    "df['x_ticks_type'] = df['x_axis'].apply(lambda x: x['tick-type'])\n",
    "df['x_values_type'] = df['x_axis'].apply(lambda x: x['values-type'])\n",
    "df['y_ticks_type'] = df['y_axis'].apply(lambda x: x['tick-type'])\n",
    "df['y_values_type'] = df['y_axis'].apply(lambda x: x['values-type'])\n",
    "\n",
    "df['x_ticks'] = df['x_axis'].apply(lambda x: x['ticks'])\n",
    "df['y_ticks'] = df['y_axis'].apply(lambda x: x['ticks'])"
   ]
  },
  {
   "cell_type": "code",
   "execution_count": 13,
   "metadata": {},
   "outputs": [
    {
     "data": {
      "text/html": [
       "<div>\n",
       "<style scoped>\n",
       "    .dataframe tbody tr th:only-of-type {\n",
       "        vertical-align: middle;\n",
       "    }\n",
       "\n",
       "    .dataframe tbody tr th {\n",
       "        vertical-align: top;\n",
       "    }\n",
       "\n",
       "    .dataframe thead th {\n",
       "        text-align: right;\n",
       "    }\n",
       "</style>\n",
       "<table border=\"1\" class=\"dataframe\">\n",
       "  <thead>\n",
       "    <tr style=\"text-align: right;\">\n",
       "      <th></th>\n",
       "      <th>id</th>\n",
       "      <th>source</th>\n",
       "      <th>chart-type</th>\n",
       "      <th>plot-bb</th>\n",
       "      <th>text</th>\n",
       "      <th>axes</th>\n",
       "      <th>data-series</th>\n",
       "      <th>visual-elements</th>\n",
       "      <th>plot_x0</th>\n",
       "      <th>plot_y0</th>\n",
       "      <th>plot_h</th>\n",
       "      <th>plot_w</th>\n",
       "      <th>x_axis</th>\n",
       "      <th>y_axis</th>\n",
       "      <th>x_ticks_type</th>\n",
       "      <th>x_values_type</th>\n",
       "      <th>y_ticks_type</th>\n",
       "      <th>y_values_type</th>\n",
       "      <th>x_ticks</th>\n",
       "      <th>y_ticks</th>\n",
       "    </tr>\n",
       "  </thead>\n",
       "  <tbody>\n",
       "    <tr>\n",
       "      <th>0</th>\n",
       "      <td>8941f843bb04</td>\n",
       "      <td>generated</td>\n",
       "      <td>dot</td>\n",
       "      <td>{'height': 210, 'width': 413, 'x0': 77, 'y0': 34}</td>\n",
       "      <td>[{'id': 0, 'polygon': {'x0': 100, 'x1': 381, 'x2': 381, 'x3': 100, 'y0': 7, 'y1': 7, 'y2': 21, '...</td>\n",
       "      <td>{'x-axis': {'ticks': [{'id': 14, 'tick_pt': {'x': 111, 'y': 244}}, {'id': 15, 'tick_pt': {'x': 1...</td>\n",
       "      <td>[{'x': '1-10', 'y': 4}, {'x': '11-20', 'y': 9}, {'x': '21-30', 'y': 3}, {'x': '31-40', 'y': 6}, ...</td>\n",
       "      <td>{'bars': [], 'boxplots': [], 'dot points': [[{'x': 111.16666666666667, 'y': 231.69999999999996},...</td>\n",
       "      <td>77</td>\n",
       "      <td>34</td>\n",
       "      <td>210</td>\n",
       "      <td>413</td>\n",
       "      <td>{'ticks': [{'id': 14, 'tick_pt': {'x': 111, 'y': 244}}, {'id': 15, 'tick_pt': {'x': 181, 'y': 24...</td>\n",
       "      <td>{'ticks': [{'id': 3, 'tick_pt': {'x': 77, 'y': 34}}, {'id': 4, 'tick_pt': {'x': 77, 'y': 55}}, {...</td>\n",
       "      <td>markers</td>\n",
       "      <td>categorical</td>\n",
       "      <td>markers</td>\n",
       "      <td>numerical</td>\n",
       "      <td>[{'id': 14, 'tick_pt': {'x': 111, 'y': 244}}, {'id': 15, 'tick_pt': {'x': 181, 'y': 244}}, {'id'...</td>\n",
       "      <td>[{'id': 3, 'tick_pt': {'x': 77, 'y': 34}}, {'id': 4, 'tick_pt': {'x': 77, 'y': 55}}, {'id': 5, '...</td>\n",
       "    </tr>\n",
       "    <tr>\n",
       "      <th>1</th>\n",
       "      <td>7dbdb91fa4a7</td>\n",
       "      <td>generated</td>\n",
       "      <td>scatter</td>\n",
       "      <td>{'height': 198, 'width': 387, 'x0': 53, 'y0': 49}</td>\n",
       "      <td>[{'id': 0, 'polygon': {'x0': 49, 'x1': 415, 'x2': 415, 'x3': 49, 'y0': 5, 'y1': 5, 'y2': 35, 'y3...</td>\n",
       "      <td>{'x-axis': {'ticks': [{'id': 13, 'tick_pt': {'x': 53, 'y': 247}}, {'id': 14, 'tick_pt': {'x': 10...</td>\n",
       "      <td>[{'x': 1989.8843519834604, 'y': 137.384032977202}, {'x': 1991.9345738036784, 'y': 137.4446033481...</td>\n",
       "      <td>{'bars': [], 'boxplots': [], 'dot points': [], 'lines': [], 'scatter points': [[{'x': 106.666666...</td>\n",
       "      <td>53</td>\n",
       "      <td>49</td>\n",
       "      <td>198</td>\n",
       "      <td>387</td>\n",
       "      <td>{'ticks': [{'id': 13, 'tick_pt': {'x': 53, 'y': 247}}, {'id': 14, 'tick_pt': {'x': 108, 'y': 247...</td>\n",
       "      <td>{'ticks': [{'id': 3, 'tick_pt': {'x': 53, 'y': 49}}, {'id': 4, 'tick_pt': {'x': 53, 'y': 71}}, {...</td>\n",
       "      <td>markers</td>\n",
       "      <td>numerical</td>\n",
       "      <td>markers</td>\n",
       "      <td>numerical</td>\n",
       "      <td>[{'id': 13, 'tick_pt': {'x': 53, 'y': 247}}, {'id': 14, 'tick_pt': {'x': 108, 'y': 247}}, {'id':...</td>\n",
       "      <td>[{'id': 3, 'tick_pt': {'x': 53, 'y': 49}}, {'id': 4, 'tick_pt': {'x': 53, 'y': 71}}, {'id': 5, '...</td>\n",
       "    </tr>\n",
       "  </tbody>\n",
       "</table>\n",
       "</div>"
      ],
      "text/plain": [
       "             id     source chart-type                                            plot-bb                                                                                                 text                                                                                                 axes                                                                                          data-series                                                                                      visual-elements  \\\n",
       "0  8941f843bb04  generated        dot  {'height': 210, 'width': 413, 'x0': 77, 'y0': 34}  [{'id': 0, 'polygon': {'x0': 100, 'x1': 381, 'x2': 381, 'x3': 100, 'y0': 7, 'y1': 7, 'y2': 21, '...  {'x-axis': {'ticks': [{'id': 14, 'tick_pt': {'x': 111, 'y': 244}}, {'id': 15, 'tick_pt': {'x': 1...  [{'x': '1-10', 'y': 4}, {'x': '11-20', 'y': 9}, {'x': '21-30', 'y': 3}, {'x': '31-40', 'y': 6}, ...  {'bars': [], 'boxplots': [], 'dot points': [[{'x': 111.16666666666667, 'y': 231.69999999999996},...   \n",
       "1  7dbdb91fa4a7  generated    scatter  {'height': 198, 'width': 387, 'x0': 53, 'y0': 49}  [{'id': 0, 'polygon': {'x0': 49, 'x1': 415, 'x2': 415, 'x3': 49, 'y0': 5, 'y1': 5, 'y2': 35, 'y3...  {'x-axis': {'ticks': [{'id': 13, 'tick_pt': {'x': 53, 'y': 247}}, {'id': 14, 'tick_pt': {'x': 10...  [{'x': 1989.8843519834604, 'y': 137.384032977202}, {'x': 1991.9345738036784, 'y': 137.4446033481...  {'bars': [], 'boxplots': [], 'dot points': [], 'lines': [], 'scatter points': [[{'x': 106.666666...   \n",
       "\n",
       "   plot_x0  plot_y0  plot_h  plot_w                                                                                               x_axis                                                                                               y_axis x_ticks_type x_values_type y_ticks_type y_values_type                                                                                              x_ticks                                                                                              y_ticks  \n",
       "0       77       34     210     413  {'ticks': [{'id': 14, 'tick_pt': {'x': 111, 'y': 244}}, {'id': 15, 'tick_pt': {'x': 181, 'y': 24...  {'ticks': [{'id': 3, 'tick_pt': {'x': 77, 'y': 34}}, {'id': 4, 'tick_pt': {'x': 77, 'y': 55}}, {...      markers   categorical      markers     numerical  [{'id': 14, 'tick_pt': {'x': 111, 'y': 244}}, {'id': 15, 'tick_pt': {'x': 181, 'y': 244}}, {'id'...  [{'id': 3, 'tick_pt': {'x': 77, 'y': 34}}, {'id': 4, 'tick_pt': {'x': 77, 'y': 55}}, {'id': 5, '...  \n",
       "1       53       49     198     387  {'ticks': [{'id': 13, 'tick_pt': {'x': 53, 'y': 247}}, {'id': 14, 'tick_pt': {'x': 108, 'y': 247...  {'ticks': [{'id': 3, 'tick_pt': {'x': 53, 'y': 49}}, {'id': 4, 'tick_pt': {'x': 53, 'y': 71}}, {...      markers     numerical      markers     numerical  [{'id': 13, 'tick_pt': {'x': 53, 'y': 247}}, {'id': 14, 'tick_pt': {'x': 108, 'y': 247}}, {'id':...  [{'id': 3, 'tick_pt': {'x': 53, 'y': 49}}, {'id': 4, 'tick_pt': {'x': 53, 'y': 71}}, {'id': 5, '...  "
      ]
     },
     "execution_count": 13,
     "metadata": {},
     "output_type": "execute_result"
    }
   ],
   "source": [
    "df.head(2)"
   ]
  },
  {
   "cell_type": "markdown",
   "metadata": {},
   "source": [
    "### Visual elements"
   ]
  },
  {
   "cell_type": "code",
   "execution_count": 14,
   "metadata": {},
   "outputs": [
    {
     "data": {
      "text/plain": [
       "{'bars': [],\n",
       " 'boxplots': [],\n",
       " 'dot points': [[{'x': 111.16666666666667, 'y': 231.69999999999996},\n",
       "   {'x': 111.16666666666667, 'y': 211.19999999999996},\n",
       "   {'x': 111.16666666666667, 'y': 190.19999999999996},\n",
       "   {'x': 111.16666666666667, 'y': 170.69999999999996},\n",
       "   {'x': 179.66666666666669, 'y': 232.69999999999996},\n",
       "   {'x': 179.66666666666669, 'y': 210.69999999999996},\n",
       "   {'x': 180.16666666666669, 'y': 189.69999999999996},\n",
       "   {'x': 180.66666666666669, 'y': 169.69999999999996},\n",
       "   {'x': 180.66666666666669, 'y': 148.19999999999996},\n",
       "   {'x': 180.16666666666669, 'y': 127.69999999999996},\n",
       "   {'x': 179.66666666666669, 'y': 107.19999999999996},\n",
       "   {'x': 180.16666666666669, 'y': 87.69999999999996},\n",
       "   {'x': 180.66666666666669, 'y': 65.69999999999996},\n",
       "   {'x': 249.66666666666669, 'y': 232.19999999999996},\n",
       "   {'x': 249.16666666666669, 'y': 210.69999999999996},\n",
       "   {'x': 249.16666666666669, 'y': 191.19999999999996},\n",
       "   {'x': 317.6666666666667, 'y': 231.69999999999996},\n",
       "   {'x': 318.1666666666667, 'y': 211.19999999999996},\n",
       "   {'x': 318.1666666666667, 'y': 189.69999999999996},\n",
       "   {'x': 317.6666666666667, 'y': 170.19999999999996},\n",
       "   {'x': 317.6666666666667, 'y': 147.69999999999996},\n",
       "   {'x': 316.6666666666667, 'y': 128.19999999999996},\n",
       "   {'x': 385.6666666666667, 'y': 232.19999999999996},\n",
       "   {'x': 386.1666666666667, 'y': 211.19999999999996},\n",
       "   {'x': 386.1666666666667, 'y': 190.19999999999996},\n",
       "   {'x': 385.6666666666667, 'y': 169.19999999999996},\n",
       "   {'x': 386.6666666666667, 'y': 149.69999999999996},\n",
       "   {'x': 386.6666666666667, 'y': 129.19999999999996},\n",
       "   {'x': 386.6666666666667, 'y': 107.69999999999996},\n",
       "   {'x': 455.1666666666667, 'y': 231.69999999999996},\n",
       "   {'x': 455.6666666666667, 'y': 210.19999999999996},\n",
       "   {'x': 454.6666666666667, 'y': 189.69999999999996},\n",
       "   {'x': 455.1666666666667, 'y': 170.19999999999996}]],\n",
       " 'lines': [],\n",
       " 'scatter points': []}"
      ]
     },
     "execution_count": 14,
     "metadata": {},
     "output_type": "execute_result"
    }
   ],
   "source": [
    "df['visual-elements'][0]"
   ]
  },
  {
   "cell_type": "code",
   "execution_count": 15,
   "metadata": {},
   "outputs": [],
   "source": [
    "df['elements_type'] = df['visual-elements'].apply(lambda x: [k for k in x if len(x[k])][0])"
   ]
  },
  {
   "cell_type": "code",
   "execution_count": 16,
   "metadata": {},
   "outputs": [
    {
     "data": {
      "text/plain": [
       "0        dot points\n",
       "1    scatter points\n",
       "2             lines\n",
       "3        dot points\n",
       "4             lines\n",
       "Name: elements_type, dtype: object"
      ]
     },
     "execution_count": 16,
     "metadata": {},
     "output_type": "execute_result"
    }
   ],
   "source": [
    "df['elements_type'][0:5]"
   ]
  },
  {
   "cell_type": "code",
   "execution_count": 17,
   "metadata": {},
   "outputs": [],
   "source": [
    "df['visual-elements'] = df.apply(lambda x: x['visual-elements'][x.elements_type], axis=1)"
   ]
  },
  {
   "cell_type": "code",
   "execution_count": 18,
   "metadata": {},
   "outputs": [
    {
     "data": {
      "text/plain": [
       "[[{'x': 111.16666666666667, 'y': 231.69999999999996},\n",
       "  {'x': 111.16666666666667, 'y': 211.19999999999996},\n",
       "  {'x': 111.16666666666667, 'y': 190.19999999999996},\n",
       "  {'x': 111.16666666666667, 'y': 170.69999999999996},\n",
       "  {'x': 179.66666666666669, 'y': 232.69999999999996},\n",
       "  {'x': 179.66666666666669, 'y': 210.69999999999996},\n",
       "  {'x': 180.16666666666669, 'y': 189.69999999999996},\n",
       "  {'x': 180.66666666666669, 'y': 169.69999999999996},\n",
       "  {'x': 180.66666666666669, 'y': 148.19999999999996},\n",
       "  {'x': 180.16666666666669, 'y': 127.69999999999996},\n",
       "  {'x': 179.66666666666669, 'y': 107.19999999999996},\n",
       "  {'x': 180.16666666666669, 'y': 87.69999999999996},\n",
       "  {'x': 180.66666666666669, 'y': 65.69999999999996},\n",
       "  {'x': 249.66666666666669, 'y': 232.19999999999996},\n",
       "  {'x': 249.16666666666669, 'y': 210.69999999999996},\n",
       "  {'x': 249.16666666666669, 'y': 191.19999999999996},\n",
       "  {'x': 317.6666666666667, 'y': 231.69999999999996},\n",
       "  {'x': 318.1666666666667, 'y': 211.19999999999996},\n",
       "  {'x': 318.1666666666667, 'y': 189.69999999999996},\n",
       "  {'x': 317.6666666666667, 'y': 170.19999999999996},\n",
       "  {'x': 317.6666666666667, 'y': 147.69999999999996},\n",
       "  {'x': 316.6666666666667, 'y': 128.19999999999996},\n",
       "  {'x': 385.6666666666667, 'y': 232.19999999999996},\n",
       "  {'x': 386.1666666666667, 'y': 211.19999999999996},\n",
       "  {'x': 386.1666666666667, 'y': 190.19999999999996},\n",
       "  {'x': 385.6666666666667, 'y': 169.19999999999996},\n",
       "  {'x': 386.6666666666667, 'y': 149.69999999999996},\n",
       "  {'x': 386.6666666666667, 'y': 129.19999999999996},\n",
       "  {'x': 386.6666666666667, 'y': 107.69999999999996},\n",
       "  {'x': 455.1666666666667, 'y': 231.69999999999996},\n",
       "  {'x': 455.6666666666667, 'y': 210.19999999999996},\n",
       "  {'x': 454.6666666666667, 'y': 189.69999999999996},\n",
       "  {'x': 455.1666666666667, 'y': 170.19999999999996}]]"
      ]
     },
     "execution_count": 18,
     "metadata": {},
     "output_type": "execute_result"
    }
   ],
   "source": [
    "df['visual-elements'][0]"
   ]
  },
  {
   "cell_type": "code",
   "execution_count": null,
   "metadata": {},
   "outputs": [],
   "source": []
  },
  {
   "cell_type": "code",
   "execution_count": 19,
   "metadata": {},
   "outputs": [],
   "source": [
    "# df['visual-elements'] = df['visual-elements'].apply(lambda x: [k for k in x if len(k)])\n",
    "df['visual-elements'] = df['visual-elements'].apply(lambda x: x[0] if ((len(x) == 1) and isinstance(x[0], list)) else x)\n",
    "\n",
    "ANOMALIES = [\n",
    "    # DUPLICATED LINES\n",
    "    'ae686738e744', 'c76f6d0d5239', '760c3fa4e3d9', 'c0c1f4046222', '3e568d136b85', '913447978a74', '2ff071a45cce', 'a9a07d74ee31',\n",
    "    # MISSING ANNOTS\n",
    "]\n",
    "\n",
    "df['visual-elements'] = df['visual-elements'].apply(lambda x: x[0] if isinstance(x[0], list) else x)"
   ]
  },
  {
   "cell_type": "code",
   "execution_count": 20,
   "metadata": {},
   "outputs": [
    {
     "data": {
      "text/plain": [
       "[{'x': 111.16666666666667, 'y': 231.69999999999996},\n",
       " {'x': 111.16666666666667, 'y': 211.19999999999996},\n",
       " {'x': 111.16666666666667, 'y': 190.19999999999996},\n",
       " {'x': 111.16666666666667, 'y': 170.69999999999996},\n",
       " {'x': 179.66666666666669, 'y': 232.69999999999996},\n",
       " {'x': 179.66666666666669, 'y': 210.69999999999996},\n",
       " {'x': 180.16666666666669, 'y': 189.69999999999996},\n",
       " {'x': 180.66666666666669, 'y': 169.69999999999996},\n",
       " {'x': 180.66666666666669, 'y': 148.19999999999996},\n",
       " {'x': 180.16666666666669, 'y': 127.69999999999996},\n",
       " {'x': 179.66666666666669, 'y': 107.19999999999996},\n",
       " {'x': 180.16666666666669, 'y': 87.69999999999996},\n",
       " {'x': 180.66666666666669, 'y': 65.69999999999996},\n",
       " {'x': 249.66666666666669, 'y': 232.19999999999996},\n",
       " {'x': 249.16666666666669, 'y': 210.69999999999996},\n",
       " {'x': 249.16666666666669, 'y': 191.19999999999996},\n",
       " {'x': 317.6666666666667, 'y': 231.69999999999996},\n",
       " {'x': 318.1666666666667, 'y': 211.19999999999996},\n",
       " {'x': 318.1666666666667, 'y': 189.69999999999996},\n",
       " {'x': 317.6666666666667, 'y': 170.19999999999996},\n",
       " {'x': 317.6666666666667, 'y': 147.69999999999996},\n",
       " {'x': 316.6666666666667, 'y': 128.19999999999996},\n",
       " {'x': 385.6666666666667, 'y': 232.19999999999996},\n",
       " {'x': 386.1666666666667, 'y': 211.19999999999996},\n",
       " {'x': 386.1666666666667, 'y': 190.19999999999996},\n",
       " {'x': 385.6666666666667, 'y': 169.19999999999996},\n",
       " {'x': 386.6666666666667, 'y': 149.69999999999996},\n",
       " {'x': 386.6666666666667, 'y': 129.19999999999996},\n",
       " {'x': 386.6666666666667, 'y': 107.69999999999996},\n",
       " {'x': 455.1666666666667, 'y': 231.69999999999996},\n",
       " {'x': 455.6666666666667, 'y': 210.19999999999996},\n",
       " {'x': 454.6666666666667, 'y': 189.69999999999996},\n",
       " {'x': 455.1666666666667, 'y': 170.19999999999996}]"
      ]
     },
     "execution_count": 20,
     "metadata": {},
     "output_type": "execute_result"
    }
   ],
   "source": [
    "df['visual-elements'][0]"
   ]
  },
  {
   "cell_type": "code",
   "execution_count": 21,
   "metadata": {},
   "outputs": [
    {
     "data": {
      "text/html": [
       "<div>\n",
       "<style scoped>\n",
       "    .dataframe tbody tr th:only-of-type {\n",
       "        vertical-align: middle;\n",
       "    }\n",
       "\n",
       "    .dataframe tbody tr th {\n",
       "        vertical-align: top;\n",
       "    }\n",
       "\n",
       "    .dataframe thead th {\n",
       "        text-align: right;\n",
       "    }\n",
       "</style>\n",
       "<table border=\"1\" class=\"dataframe\">\n",
       "  <thead>\n",
       "    <tr style=\"text-align: right;\">\n",
       "      <th></th>\n",
       "      <th>chart_id</th>\n",
       "      <th>visual-elements</th>\n",
       "    </tr>\n",
       "  </thead>\n",
       "  <tbody>\n",
       "    <tr>\n",
       "      <th>0</th>\n",
       "      <td>8941f843bb04</td>\n",
       "      <td>{'x': 111.16666666666667, 'y': 231.69999999999996}</td>\n",
       "    </tr>\n",
       "    <tr>\n",
       "      <th>1</th>\n",
       "      <td>8941f843bb04</td>\n",
       "      <td>{'x': 111.16666666666667, 'y': 211.19999999999996}</td>\n",
       "    </tr>\n",
       "    <tr>\n",
       "      <th>2</th>\n",
       "      <td>8941f843bb04</td>\n",
       "      <td>{'x': 111.16666666666667, 'y': 190.19999999999996}</td>\n",
       "    </tr>\n",
       "  </tbody>\n",
       "</table>\n",
       "</div>"
      ],
      "text/plain": [
       "       chart_id                                     visual-elements\n",
       "0  8941f843bb04  {'x': 111.16666666666667, 'y': 231.69999999999996}\n",
       "1  8941f843bb04  {'x': 111.16666666666667, 'y': 211.19999999999996}\n",
       "2  8941f843bb04  {'x': 111.16666666666667, 'y': 190.19999999999996}"
      ]
     },
     "execution_count": 21,
     "metadata": {},
     "output_type": "execute_result"
    }
   ],
   "source": [
    "df_elt = df[['id', 'visual-elements']].explode('visual-elements').reset_index(drop=True)\n",
    "\n",
    "df_elt = df_elt.rename(columns={\"id\": \"chart_id\"})\n",
    "df_elt.head(3)"
   ]
  },
  {
   "cell_type": "code",
   "execution_count": 22,
   "metadata": {},
   "outputs": [
    {
     "data": {
      "text/html": [
       "<div>\n",
       "<style scoped>\n",
       "    .dataframe tbody tr th:only-of-type {\n",
       "        vertical-align: middle;\n",
       "    }\n",
       "\n",
       "    .dataframe tbody tr th {\n",
       "        vertical-align: top;\n",
       "    }\n",
       "\n",
       "    .dataframe thead th {\n",
       "        text-align: right;\n",
       "    }\n",
       "</style>\n",
       "<table border=\"1\" class=\"dataframe\">\n",
       "  <thead>\n",
       "    <tr style=\"text-align: right;\">\n",
       "      <th></th>\n",
       "      <th>chart_id</th>\n",
       "      <th>visual-elements</th>\n",
       "      <th>x</th>\n",
       "      <th>y</th>\n",
       "      <th>x0</th>\n",
       "      <th>y0</th>\n",
       "      <th>h</th>\n",
       "      <th>w</th>\n",
       "    </tr>\n",
       "  </thead>\n",
       "  <tbody>\n",
       "    <tr>\n",
       "      <th>0</th>\n",
       "      <td>8941f843bb04</td>\n",
       "      <td>{'x': 111.16666666666667, 'y': 231.69999999999996}</td>\n",
       "      <td>111.166667</td>\n",
       "      <td>231.7</td>\n",
       "      <td>NaN</td>\n",
       "      <td>NaN</td>\n",
       "      <td>NaN</td>\n",
       "      <td>NaN</td>\n",
       "    </tr>\n",
       "    <tr>\n",
       "      <th>1</th>\n",
       "      <td>8941f843bb04</td>\n",
       "      <td>{'x': 111.16666666666667, 'y': 211.19999999999996}</td>\n",
       "      <td>111.166667</td>\n",
       "      <td>211.2</td>\n",
       "      <td>NaN</td>\n",
       "      <td>NaN</td>\n",
       "      <td>NaN</td>\n",
       "      <td>NaN</td>\n",
       "    </tr>\n",
       "    <tr>\n",
       "      <th>2</th>\n",
       "      <td>8941f843bb04</td>\n",
       "      <td>{'x': 111.16666666666667, 'y': 190.19999999999996}</td>\n",
       "      <td>111.166667</td>\n",
       "      <td>190.2</td>\n",
       "      <td>NaN</td>\n",
       "      <td>NaN</td>\n",
       "      <td>NaN</td>\n",
       "      <td>NaN</td>\n",
       "    </tr>\n",
       "  </tbody>\n",
       "</table>\n",
       "</div>"
      ],
      "text/plain": [
       "       chart_id                                     visual-elements           x      y  x0  y0   h   w\n",
       "0  8941f843bb04  {'x': 111.16666666666667, 'y': 231.69999999999996}  111.166667  231.7 NaN NaN NaN NaN\n",
       "1  8941f843bb04  {'x': 111.16666666666667, 'y': 211.19999999999996}  111.166667  211.2 NaN NaN NaN NaN\n",
       "2  8941f843bb04  {'x': 111.16666666666667, 'y': 190.19999999999996}  111.166667  190.2 NaN NaN NaN NaN"
      ]
     },
     "execution_count": 22,
     "metadata": {},
     "output_type": "execute_result"
    }
   ],
   "source": [
    "# dict.get(key[, default])\n",
    "df_elt['x'] = df_elt['visual-elements'].apply(lambda x: x.get('x', np.nan))\n",
    "df_elt['y'] = df_elt['visual-elements'].apply(lambda x: x.get('y', np.nan))\n",
    "\n",
    "df_elt['x0'] = df_elt['visual-elements'].apply(lambda x: x.get('x0', np.nan))\n",
    "df_elt['y0'] = df_elt['visual-elements'].apply(lambda x: x.get('y0', np.nan))\n",
    "df_elt['h'] = df_elt['visual-elements'].apply(lambda x: x.get('height', np.nan))\n",
    "df_elt['w'] = df_elt['visual-elements'].apply(lambda x: x.get('width', np.nan))\n",
    "df_elt.head(3)"
   ]
  },
  {
   "cell_type": "code",
   "execution_count": 23,
   "metadata": {},
   "outputs": [],
   "source": [
    "df_elt.drop('visual-elements', axis=1, inplace=True)"
   ]
  },
  {
   "cell_type": "code",
   "execution_count": 24,
   "metadata": {},
   "outputs": [
    {
     "data": {
      "text/html": [
       "<div>\n",
       "<style scoped>\n",
       "    .dataframe tbody tr th:only-of-type {\n",
       "        vertical-align: middle;\n",
       "    }\n",
       "\n",
       "    .dataframe tbody tr th {\n",
       "        vertical-align: top;\n",
       "    }\n",
       "\n",
       "    .dataframe thead th {\n",
       "        text-align: right;\n",
       "    }\n",
       "</style>\n",
       "<table border=\"1\" class=\"dataframe\">\n",
       "  <thead>\n",
       "    <tr style=\"text-align: right;\">\n",
       "      <th></th>\n",
       "      <th>chart_id</th>\n",
       "      <th>x</th>\n",
       "      <th>y</th>\n",
       "      <th>x0</th>\n",
       "      <th>y0</th>\n",
       "      <th>h</th>\n",
       "      <th>w</th>\n",
       "    </tr>\n",
       "  </thead>\n",
       "  <tbody>\n",
       "    <tr>\n",
       "      <th>0</th>\n",
       "      <td>8941f843bb04</td>\n",
       "      <td>111.166667</td>\n",
       "      <td>231.7</td>\n",
       "      <td>NaN</td>\n",
       "      <td>NaN</td>\n",
       "      <td>NaN</td>\n",
       "      <td>NaN</td>\n",
       "    </tr>\n",
       "    <tr>\n",
       "      <th>1</th>\n",
       "      <td>8941f843bb04</td>\n",
       "      <td>111.166667</td>\n",
       "      <td>211.2</td>\n",
       "      <td>NaN</td>\n",
       "      <td>NaN</td>\n",
       "      <td>NaN</td>\n",
       "      <td>NaN</td>\n",
       "    </tr>\n",
       "  </tbody>\n",
       "</table>\n",
       "</div>"
      ],
      "text/plain": [
       "       chart_id           x      y  x0  y0   h   w\n",
       "0  8941f843bb04  111.166667  231.7 NaN NaN NaN NaN\n",
       "1  8941f843bb04  111.166667  211.2 NaN NaN NaN NaN"
      ]
     },
     "execution_count": 24,
     "metadata": {},
     "output_type": "execute_result"
    }
   ],
   "source": [
    "df_elt.head(2)"
   ]
  },
  {
   "cell_type": "markdown",
   "metadata": {},
   "source": [
    "### Texts & ticks"
   ]
  },
  {
   "cell_type": "code",
   "execution_count": 25,
   "metadata": {},
   "outputs": [
    {
     "data": {
      "text/plain": [
       "[{'id': 0,\n",
       "  'polygon': {'x0': 100,\n",
       "   'x1': 381,\n",
       "   'x2': 381,\n",
       "   'x3': 100,\n",
       "   'y0': 7,\n",
       "   'y1': 7,\n",
       "   'y2': 21,\n",
       "   'y3': 21},\n",
       "  'text': 'Attendence of Students in Columbus State University',\n",
       "  'role': 'chart_title'},\n",
       " {'id': 1,\n",
       "  'polygon': {'x0': 9,\n",
       "   'x1': 54,\n",
       "   'x2': 54,\n",
       "   'x3': 9,\n",
       "   'y0': 124,\n",
       "   'y1': 124,\n",
       "   'y2': 167,\n",
       "   'y3': 167},\n",
       "  'text': 'No.of Students (*1000)',\n",
       "  'role': 'axis_title'},\n",
       " {'id': 2,\n",
       "  'polygon': {'x0': 239,\n",
       "   'x1': 328,\n",
       "   'x2': 328,\n",
       "   'x3': 239,\n",
       "   'y0': 268,\n",
       "   'y1': 268,\n",
       "   'y2': 279,\n",
       "   'y3': 279},\n",
       "  'text': 'Week of the Year',\n",
       "  'role': 'axis_title'},\n",
       " {'id': 3,\n",
       "  'polygon': {'x0': 55,\n",
       "   'x1': 68,\n",
       "   'x2': 68,\n",
       "   'x3': 55,\n",
       "   'y0': 29,\n",
       "   'y1': 29,\n",
       "   'y2': 39,\n",
       "   'y3': 39},\n",
       "  'text': '10',\n",
       "  'role': 'tick_label'},\n",
       " {'id': 4,\n",
       "  'polygon': {'x0': 60,\n",
       "   'x1': 68,\n",
       "   'x2': 68,\n",
       "   'x3': 60,\n",
       "   'y0': 49,\n",
       "   'y1': 49,\n",
       "   'y2': 59,\n",
       "   'y3': 59},\n",
       "  'text': '9',\n",
       "  'role': 'tick_label'},\n",
       " {'id': 5,\n",
       "  'polygon': {'x0': 60,\n",
       "   'x1': 68,\n",
       "   'x2': 68,\n",
       "   'x3': 60,\n",
       "   'y0': 70,\n",
       "   'y1': 70,\n",
       "   'y2': 80,\n",
       "   'y3': 80},\n",
       "  'text': '8',\n",
       "  'role': 'tick_label'},\n",
       " {'id': 6,\n",
       "  'polygon': {'x0': 60,\n",
       "   'x1': 68,\n",
       "   'x2': 68,\n",
       "   'x3': 60,\n",
       "   'y0': 91,\n",
       "   'y1': 91,\n",
       "   'y2': 101,\n",
       "   'y3': 101},\n",
       "  'text': '7',\n",
       "  'role': 'tick_label'},\n",
       " {'id': 7,\n",
       "  'polygon': {'x0': 60,\n",
       "   'x1': 68,\n",
       "   'x2': 68,\n",
       "   'x3': 60,\n",
       "   'y0': 112,\n",
       "   'y1': 112,\n",
       "   'y2': 122,\n",
       "   'y3': 122},\n",
       "  'text': '6',\n",
       "  'role': 'tick_label'},\n",
       " {'id': 8,\n",
       "  'polygon': {'x0': 60,\n",
       "   'x1': 68,\n",
       "   'x2': 68,\n",
       "   'x3': 60,\n",
       "   'y0': 133,\n",
       "   'y1': 133,\n",
       "   'y2': 143,\n",
       "   'y3': 143},\n",
       "  'text': '5',\n",
       "  'role': 'tick_label'},\n",
       " {'id': 9,\n",
       "  'polygon': {'x0': 60,\n",
       "   'x1': 69,\n",
       "   'x2': 69,\n",
       "   'x3': 60,\n",
       "   'y0': 153,\n",
       "   'y1': 153,\n",
       "   'y2': 163,\n",
       "   'y3': 163},\n",
       "  'text': '4',\n",
       "  'role': 'tick_label'},\n",
       " {'id': 10,\n",
       "  'polygon': {'x0': 60,\n",
       "   'x1': 68,\n",
       "   'x2': 68,\n",
       "   'x3': 60,\n",
       "   'y0': 174,\n",
       "   'y1': 174,\n",
       "   'y2': 184,\n",
       "   'y3': 184},\n",
       "  'text': '3',\n",
       "  'role': 'tick_label'},\n",
       " {'id': 11,\n",
       "  'polygon': {'x0': 60,\n",
       "   'x1': 68,\n",
       "   'x2': 68,\n",
       "   'x3': 60,\n",
       "   'y0': 195,\n",
       "   'y1': 195,\n",
       "   'y2': 205,\n",
       "   'y3': 205},\n",
       "  'text': '2',\n",
       "  'role': 'tick_label'},\n",
       " {'id': 12,\n",
       "  'polygon': {'x0': 61,\n",
       "   'x1': 68,\n",
       "   'x2': 68,\n",
       "   'x3': 61,\n",
       "   'y0': 216,\n",
       "   'y1': 216,\n",
       "   'y2': 226,\n",
       "   'y3': 226},\n",
       "  'text': '1',\n",
       "  'role': 'tick_label'},\n",
       " {'id': 13,\n",
       "  'polygon': {'x0': 60,\n",
       "   'x1': 68,\n",
       "   'x2': 68,\n",
       "   'x3': 60,\n",
       "   'y0': 237,\n",
       "   'y1': 237,\n",
       "   'y2': 247,\n",
       "   'y3': 247},\n",
       "  'text': '0',\n",
       "  'role': 'tick_label'},\n",
       " {'id': 14,\n",
       "  'polygon': {'x0': 101,\n",
       "   'x1': 122,\n",
       "   'x2': 122,\n",
       "   'x3': 101,\n",
       "   'y0': 251,\n",
       "   'y1': 251,\n",
       "   'y2': 261,\n",
       "   'y3': 261},\n",
       "  'text': '1-10',\n",
       "  'role': 'tick_label'},\n",
       " {'id': 15,\n",
       "  'polygon': {'x0': 167,\n",
       "   'x1': 194,\n",
       "   'x2': 194,\n",
       "   'x3': 167,\n",
       "   'y0': 251,\n",
       "   'y1': 251,\n",
       "   'y2': 261,\n",
       "   'y3': 261},\n",
       "  'text': '11-20',\n",
       "  'role': 'tick_label'},\n",
       " {'id': 16,\n",
       "  'polygon': {'x0': 235,\n",
       "   'x1': 263,\n",
       "   'x2': 263,\n",
       "   'x3': 235,\n",
       "   'y0': 251,\n",
       "   'y1': 251,\n",
       "   'y2': 261,\n",
       "   'y3': 261},\n",
       "  'text': '21-30',\n",
       "  'role': 'tick_label'},\n",
       " {'id': 17,\n",
       "  'polygon': {'x0': 304,\n",
       "   'x1': 332,\n",
       "   'x2': 332,\n",
       "   'x3': 304,\n",
       "   'y0': 251,\n",
       "   'y1': 251,\n",
       "   'y2': 261,\n",
       "   'y3': 261},\n",
       "  'text': '31-40',\n",
       "  'role': 'tick_label'},\n",
       " {'id': 18,\n",
       "  'polygon': {'x0': 372,\n",
       "   'x1': 401,\n",
       "   'x2': 401,\n",
       "   'x3': 372,\n",
       "   'y0': 251,\n",
       "   'y1': 251,\n",
       "   'y2': 261,\n",
       "   'y3': 261},\n",
       "  'text': '41-50',\n",
       "  'role': 'tick_label'},\n",
       " {'id': 19,\n",
       "  'polygon': {'x0': 442,\n",
       "   'x1': 470,\n",
       "   'x2': 470,\n",
       "   'x3': 442,\n",
       "   'y0': 251,\n",
       "   'y1': 251,\n",
       "   'y2': 261,\n",
       "   'y3': 261},\n",
       "  'text': '51-52',\n",
       "  'role': 'tick_label'}]"
      ]
     },
     "execution_count": 25,
     "metadata": {},
     "output_type": "execute_result"
    }
   ],
   "source": [
    "df['text'][0]"
   ]
  },
  {
   "cell_type": "code",
   "execution_count": 26,
   "metadata": {},
   "outputs": [],
   "source": [
    "df_text = df[['id', 'text']].explode('text').reset_index(drop=True)\n",
    "\n",
    "df_text = df_text.rename(columns={\"id\": \"chart_id\"})\n",
    "\n",
    "df_text['id'] = df_text['text'].apply(lambda x: x['id'])\n",
    "df_text[\"polygon\"] = df_text['text'].apply(lambda x: x['polygon'])\n",
    "df_text['text'] = df_text['text'].apply(lambda x: x['text'])\n",
    "\n",
    "df_text[\"polygon\"] = df_text[\"polygon\"].apply(lambda x: list(x.values()))\n",
    "\n",
    "# df_text['polygon'].head(3) =>\n",
    "# 0          [100, 381, 381, 100, 7, 7, 21, 21]\n",
    "# 1          [9, 54, 54, 9, 124, 124, 167, 167]\n",
    "# 2    [239, 328, 328, 239, 268, 268, 279, 279]\n",
    "# Name: polygon, dtype: object\n",
    "\n",
    "# df_text.polygon.tolist() => [[100, 381, 381, 100, 7, 7, 21, 21], [9, 54, 54, 9, 124, 124, 167, 167], ...]\n",
    "\n",
    "# pd.DataFrame(df_text.polygon.tolist(), index=df_text.index).head(3) =>\n",
    "#      0    1    2    3    4    5    6    7\n",
    "# 0  100  381  381  100    7    7   21   21\n",
    "# 1    9   54   54    9  124  124  167  167\n",
    "# 2  239  328  328  239  268  268  279  279\n",
    "\n",
    "df_text[['x0','x1', 'x2', 'x3', 'y0', 'y1', 'y2', 'y3']] = pd.DataFrame(df_text.polygon.tolist(), index=df_text.index)\n",
    "df_text.drop(\"polygon\", axis=1, inplace=True)"
   ]
  },
  {
   "cell_type": "code",
   "execution_count": null,
   "metadata": {},
   "outputs": [],
   "source": []
  },
  {
   "cell_type": "code",
   "execution_count": 27,
   "metadata": {},
   "outputs": [],
   "source": [
    "# df_text[['x0','x1', 'x2', 'x3']].values =>\n",
    "# array([[100, 381, 381, 100],\n",
    "#        [239, 328, 328, 239],\n",
    "#        ...,\n",
    "#        [372, 399, 399, 372],\n",
    "#        [433, 459, 459, 433]])\n",
    "\n",
    "# numpy.ndarray.min(axis=None,) => return the minimum along a given axis. \n",
    "\n",
    "# df_text[['x0','x1', 'x2', 'x3']].values.min(1) => \n",
    "# array([100,   9, 239, ..., 372, 403, 433])\n",
    "\n",
    "\n",
    "df_text['x_min'] = df_text[['x0','x1', 'x2', 'x3']].values.min(1)\n",
    "df_text['x_max'] = df_text[['x0','x1', 'x2', 'x3']].values.max(1)\n",
    "df_text['y_min'] = df_text[['y0','y1', 'y2', 'y3']].values.min(1)\n",
    "df_text['y_max'] = df_text[['y0','y1', 'y2', 'y3']].values.max(1)"
   ]
  },
  {
   "cell_type": "code",
   "execution_count": 28,
   "metadata": {},
   "outputs": [
    {
     "data": {
      "text/html": [
       "<div>\n",
       "<style scoped>\n",
       "    .dataframe tbody tr th:only-of-type {\n",
       "        vertical-align: middle;\n",
       "    }\n",
       "\n",
       "    .dataframe tbody tr th {\n",
       "        vertical-align: top;\n",
       "    }\n",
       "\n",
       "    .dataframe thead th {\n",
       "        text-align: right;\n",
       "    }\n",
       "</style>\n",
       "<table border=\"1\" class=\"dataframe\">\n",
       "  <thead>\n",
       "    <tr style=\"text-align: right;\">\n",
       "      <th></th>\n",
       "      <th>chart_id</th>\n",
       "      <th>text</th>\n",
       "      <th>id</th>\n",
       "      <th>x0</th>\n",
       "      <th>x1</th>\n",
       "      <th>x2</th>\n",
       "      <th>x3</th>\n",
       "      <th>y0</th>\n",
       "      <th>y1</th>\n",
       "      <th>y2</th>\n",
       "      <th>y3</th>\n",
       "      <th>x_min</th>\n",
       "      <th>x_max</th>\n",
       "      <th>y_min</th>\n",
       "      <th>y_max</th>\n",
       "    </tr>\n",
       "  </thead>\n",
       "  <tbody>\n",
       "    <tr>\n",
       "      <th>0</th>\n",
       "      <td>8941f843bb04</td>\n",
       "      <td>Attendence of Students in Columbus State University</td>\n",
       "      <td>0</td>\n",
       "      <td>100</td>\n",
       "      <td>381</td>\n",
       "      <td>381</td>\n",
       "      <td>100</td>\n",
       "      <td>7</td>\n",
       "      <td>7</td>\n",
       "      <td>21</td>\n",
       "      <td>21</td>\n",
       "      <td>100</td>\n",
       "      <td>381</td>\n",
       "      <td>7</td>\n",
       "      <td>21</td>\n",
       "    </tr>\n",
       "    <tr>\n",
       "      <th>1</th>\n",
       "      <td>8941f843bb04</td>\n",
       "      <td>No.of Students (*1000)</td>\n",
       "      <td>1</td>\n",
       "      <td>9</td>\n",
       "      <td>54</td>\n",
       "      <td>54</td>\n",
       "      <td>9</td>\n",
       "      <td>124</td>\n",
       "      <td>124</td>\n",
       "      <td>167</td>\n",
       "      <td>167</td>\n",
       "      <td>9</td>\n",
       "      <td>54</td>\n",
       "      <td>124</td>\n",
       "      <td>167</td>\n",
       "    </tr>\n",
       "    <tr>\n",
       "      <th>2</th>\n",
       "      <td>8941f843bb04</td>\n",
       "      <td>Week of the Year</td>\n",
       "      <td>2</td>\n",
       "      <td>239</td>\n",
       "      <td>328</td>\n",
       "      <td>328</td>\n",
       "      <td>239</td>\n",
       "      <td>268</td>\n",
       "      <td>268</td>\n",
       "      <td>279</td>\n",
       "      <td>279</td>\n",
       "      <td>239</td>\n",
       "      <td>328</td>\n",
       "      <td>268</td>\n",
       "      <td>279</td>\n",
       "    </tr>\n",
       "  </tbody>\n",
       "</table>\n",
       "</div>"
      ],
      "text/plain": [
       "       chart_id                                                 text  id   x0   x1   x2   x3   y0   y1   y2   y3  x_min  x_max  y_min  y_max\n",
       "0  8941f843bb04  Attendence of Students in Columbus State University   0  100  381  381  100    7    7   21   21    100    381      7     21\n",
       "1  8941f843bb04                               No.of Students (*1000)   1    9   54   54    9  124  124  167  167      9     54    124    167\n",
       "2  8941f843bb04                                     Week of the Year   2  239  328  328  239  268  268  279  279    239    328    268    279"
      ]
     },
     "execution_count": 28,
     "metadata": {},
     "output_type": "execute_result"
    }
   ],
   "source": [
    "df_text.head(3)"
   ]
  },
  {
   "cell_type": "code",
   "execution_count": 29,
   "metadata": {},
   "outputs": [
    {
     "data": {
      "text/plain": [
       "[{'id': 14, 'tick_pt': {'x': 111, 'y': 244}},\n",
       " {'id': 15, 'tick_pt': {'x': 181, 'y': 244}},\n",
       " {'id': 16, 'tick_pt': {'x': 250, 'y': 244}},\n",
       " {'id': 17, 'tick_pt': {'x': 318, 'y': 244}},\n",
       " {'id': 18, 'tick_pt': {'x': 386, 'y': 244}},\n",
       " {'id': 19, 'tick_pt': {'x': 456, 'y': 244}}]"
      ]
     },
     "execution_count": 29,
     "metadata": {},
     "output_type": "execute_result"
    }
   ],
   "source": [
    "df['x_ticks'][0]"
   ]
  },
  {
   "cell_type": "code",
   "execution_count": 30,
   "metadata": {},
   "outputs": [],
   "source": [
    "df_x_ticks = df[['id', 'x_ticks']].explode('x_ticks').rename(columns={\"x_ticks\": \"ticks\"})\n",
    "df_x_ticks['axis'] = \"x\"\n",
    "\n",
    "df_y_ticks = df[['id', 'y_ticks']].explode('y_ticks').rename(columns={\"y_ticks\": \"ticks\"})\n",
    "df_y_ticks['axis'] = \"y\"\n",
    "\n",
    "df_ticks = pd.concat([df_x_ticks, df_y_ticks], ignore_index=True)\n",
    "\n",
    "df_ticks = df_ticks.rename(columns={\"id\": \"chart_id\"})\n",
    "\n",
    "df_ticks['id'] = df_ticks['ticks'].apply(lambda x: x['id'] if isinstance(x, dict) else np.nan)\n",
    "df_ticks['x'] = df_ticks['ticks'].apply(lambda x: x['tick_pt']['x'] if isinstance(x, dict) else np.nan)\n",
    "df_ticks['y'] = df_ticks['ticks'].apply(lambda x: x['tick_pt']['y'] if isinstance(x, dict) else np.nan)\n",
    "\n",
    "df_ticks = df_ticks.dropna(axis=0)\n",
    "df_ticks['id'] = df_ticks['id'].astype(int)\n",
    "df_ticks = df_ticks.drop(\"ticks\", axis=1)"
   ]
  },
  {
   "cell_type": "code",
   "execution_count": 31,
   "metadata": {},
   "outputs": [
    {
     "data": {
      "text/html": [
       "<div>\n",
       "<style scoped>\n",
       "    .dataframe tbody tr th:only-of-type {\n",
       "        vertical-align: middle;\n",
       "    }\n",
       "\n",
       "    .dataframe tbody tr th {\n",
       "        vertical-align: top;\n",
       "    }\n",
       "\n",
       "    .dataframe thead th {\n",
       "        text-align: right;\n",
       "    }\n",
       "</style>\n",
       "<table border=\"1\" class=\"dataframe\">\n",
       "  <thead>\n",
       "    <tr style=\"text-align: right;\">\n",
       "      <th></th>\n",
       "      <th>chart_id</th>\n",
       "      <th>axis</th>\n",
       "      <th>id</th>\n",
       "      <th>x</th>\n",
       "      <th>y</th>\n",
       "    </tr>\n",
       "  </thead>\n",
       "  <tbody>\n",
       "    <tr>\n",
       "      <th>0</th>\n",
       "      <td>8941f843bb04</td>\n",
       "      <td>x</td>\n",
       "      <td>14</td>\n",
       "      <td>111.0</td>\n",
       "      <td>244.0</td>\n",
       "    </tr>\n",
       "    <tr>\n",
       "      <th>1</th>\n",
       "      <td>8941f843bb04</td>\n",
       "      <td>x</td>\n",
       "      <td>15</td>\n",
       "      <td>181.0</td>\n",
       "      <td>244.0</td>\n",
       "    </tr>\n",
       "    <tr>\n",
       "      <th>2</th>\n",
       "      <td>8941f843bb04</td>\n",
       "      <td>x</td>\n",
       "      <td>16</td>\n",
       "      <td>250.0</td>\n",
       "      <td>244.0</td>\n",
       "    </tr>\n",
       "  </tbody>\n",
       "</table>\n",
       "</div>"
      ],
      "text/plain": [
       "       chart_id axis  id      x      y\n",
       "0  8941f843bb04    x  14  111.0  244.0\n",
       "1  8941f843bb04    x  15  181.0  244.0\n",
       "2  8941f843bb04    x  16  250.0  244.0"
      ]
     },
     "execution_count": 31,
     "metadata": {},
     "output_type": "execute_result"
    }
   ],
   "source": [
    "df_ticks.head(3)"
   ]
  },
  {
   "cell_type": "code",
   "execution_count": null,
   "metadata": {},
   "outputs": [],
   "source": []
  },
  {
   "cell_type": "code",
   "execution_count": 32,
   "metadata": {},
   "outputs": [],
   "source": [
    "# for df_ticks rows which do not match df_text on ['chart_id', \"id\"], their ['axis','x','y'] values become NaN. \n",
    "df_text = df_text.merge(df_ticks, on=['chart_id', \"id\"], how=\"left\")"
   ]
  },
  {
   "cell_type": "code",
   "execution_count": 33,
   "metadata": {},
   "outputs": [
    {
     "data": {
      "text/html": [
       "<div>\n",
       "<style scoped>\n",
       "    .dataframe tbody tr th:only-of-type {\n",
       "        vertical-align: middle;\n",
       "    }\n",
       "\n",
       "    .dataframe tbody tr th {\n",
       "        vertical-align: top;\n",
       "    }\n",
       "\n",
       "    .dataframe thead th {\n",
       "        text-align: right;\n",
       "    }\n",
       "</style>\n",
       "<table border=\"1\" class=\"dataframe\">\n",
       "  <thead>\n",
       "    <tr style=\"text-align: right;\">\n",
       "      <th></th>\n",
       "      <th>chart_id</th>\n",
       "      <th>text</th>\n",
       "      <th>id</th>\n",
       "      <th>x0</th>\n",
       "      <th>x1</th>\n",
       "      <th>x2</th>\n",
       "      <th>x3</th>\n",
       "      <th>y0</th>\n",
       "      <th>y1</th>\n",
       "      <th>y2</th>\n",
       "      <th>y3</th>\n",
       "      <th>x_min</th>\n",
       "      <th>x_max</th>\n",
       "      <th>y_min</th>\n",
       "      <th>y_max</th>\n",
       "      <th>axis</th>\n",
       "      <th>x</th>\n",
       "      <th>y</th>\n",
       "    </tr>\n",
       "  </thead>\n",
       "  <tbody>\n",
       "    <tr>\n",
       "      <th>0</th>\n",
       "      <td>8941f843bb04</td>\n",
       "      <td>Attendence of Students in Columbus State University</td>\n",
       "      <td>0</td>\n",
       "      <td>100</td>\n",
       "      <td>381</td>\n",
       "      <td>381</td>\n",
       "      <td>100</td>\n",
       "      <td>7</td>\n",
       "      <td>7</td>\n",
       "      <td>21</td>\n",
       "      <td>21</td>\n",
       "      <td>100</td>\n",
       "      <td>381</td>\n",
       "      <td>7</td>\n",
       "      <td>21</td>\n",
       "      <td>NaN</td>\n",
       "      <td>NaN</td>\n",
       "      <td>NaN</td>\n",
       "    </tr>\n",
       "    <tr>\n",
       "      <th>1</th>\n",
       "      <td>8941f843bb04</td>\n",
       "      <td>No.of Students (*1000)</td>\n",
       "      <td>1</td>\n",
       "      <td>9</td>\n",
       "      <td>54</td>\n",
       "      <td>54</td>\n",
       "      <td>9</td>\n",
       "      <td>124</td>\n",
       "      <td>124</td>\n",
       "      <td>167</td>\n",
       "      <td>167</td>\n",
       "      <td>9</td>\n",
       "      <td>54</td>\n",
       "      <td>124</td>\n",
       "      <td>167</td>\n",
       "      <td>NaN</td>\n",
       "      <td>NaN</td>\n",
       "      <td>NaN</td>\n",
       "    </tr>\n",
       "  </tbody>\n",
       "</table>\n",
       "</div>"
      ],
      "text/plain": [
       "       chart_id                                                 text  id   x0   x1   x2   x3   y0   y1   y2   y3  x_min  x_max  y_min  y_max axis   x   y\n",
       "0  8941f843bb04  Attendence of Students in Columbus State University   0  100  381  381  100    7    7   21   21    100    381      7     21  NaN NaN NaN\n",
       "1  8941f843bb04                               No.of Students (*1000)   1    9   54   54    9  124  124  167  167      9     54    124    167  NaN NaN NaN"
      ]
     },
     "execution_count": 33,
     "metadata": {},
     "output_type": "execute_result"
    }
   ],
   "source": [
    "df_text.head(2)"
   ]
  },
  {
   "cell_type": "markdown",
   "metadata": {},
   "source": [
    "### Target"
   ]
  },
  {
   "cell_type": "code",
   "execution_count": 34,
   "metadata": {},
   "outputs": [
    {
     "data": {
      "text/plain": [
       "[{'x': '1-10', 'y': 4},\n",
       " {'x': '11-20', 'y': 9},\n",
       " {'x': '21-30', 'y': 3},\n",
       " {'x': '31-40', 'y': 6},\n",
       " {'x': '41-50', 'y': 7},\n",
       " {'x': '51-52', 'y': 4}]"
      ]
     },
     "execution_count": 34,
     "metadata": {},
     "output_type": "execute_result"
    }
   ],
   "source": [
    "df['data-series'][0]"
   ]
  },
  {
   "cell_type": "code",
   "execution_count": 35,
   "metadata": {},
   "outputs": [],
   "source": [
    "df_target = df[['id', 'data-series']].explode('data-series').reset_index(drop=True)"
   ]
  },
  {
   "cell_type": "code",
   "execution_count": 36,
   "metadata": {},
   "outputs": [],
   "source": [
    "df_target['x'] = df_target['data-series'].apply(lambda x: x['x'])\n",
    "df_target['y'] = df_target['data-series'].apply(lambda x: x['y'])"
   ]
  },
  {
   "cell_type": "code",
   "execution_count": 37,
   "metadata": {},
   "outputs": [],
   "source": [
    "df_target.drop('data-series', axis=1, inplace=True)"
   ]
  },
  {
   "cell_type": "code",
   "execution_count": 38,
   "metadata": {},
   "outputs": [
    {
     "data": {
      "text/html": [
       "<div>\n",
       "<style scoped>\n",
       "    .dataframe tbody tr th:only-of-type {\n",
       "        vertical-align: middle;\n",
       "    }\n",
       "\n",
       "    .dataframe tbody tr th {\n",
       "        vertical-align: top;\n",
       "    }\n",
       "\n",
       "    .dataframe thead th {\n",
       "        text-align: right;\n",
       "    }\n",
       "</style>\n",
       "<table border=\"1\" class=\"dataframe\">\n",
       "  <thead>\n",
       "    <tr style=\"text-align: right;\">\n",
       "      <th></th>\n",
       "      <th>id</th>\n",
       "      <th>x</th>\n",
       "      <th>y</th>\n",
       "    </tr>\n",
       "  </thead>\n",
       "  <tbody>\n",
       "    <tr>\n",
       "      <th>0</th>\n",
       "      <td>8941f843bb04</td>\n",
       "      <td>1-10</td>\n",
       "      <td>4</td>\n",
       "    </tr>\n",
       "    <tr>\n",
       "      <th>1</th>\n",
       "      <td>8941f843bb04</td>\n",
       "      <td>11-20</td>\n",
       "      <td>9</td>\n",
       "    </tr>\n",
       "    <tr>\n",
       "      <th>2</th>\n",
       "      <td>8941f843bb04</td>\n",
       "      <td>21-30</td>\n",
       "      <td>3</td>\n",
       "    </tr>\n",
       "    <tr>\n",
       "      <th>3</th>\n",
       "      <td>8941f843bb04</td>\n",
       "      <td>31-40</td>\n",
       "      <td>6</td>\n",
       "    </tr>\n",
       "    <tr>\n",
       "      <th>4</th>\n",
       "      <td>8941f843bb04</td>\n",
       "      <td>41-50</td>\n",
       "      <td>7</td>\n",
       "    </tr>\n",
       "  </tbody>\n",
       "</table>\n",
       "</div>"
      ],
      "text/plain": [
       "             id      x  y\n",
       "0  8941f843bb04   1-10  4\n",
       "1  8941f843bb04  11-20  9\n",
       "2  8941f843bb04  21-30  3\n",
       "3  8941f843bb04  31-40  6\n",
       "4  8941f843bb04  41-50  7"
      ]
     },
     "execution_count": 38,
     "metadata": {},
     "output_type": "execute_result"
    }
   ],
   "source": [
    "df_target.head()"
   ]
  },
  {
   "cell_type": "markdown",
   "metadata": {},
   "source": [
    "### Finalize"
   ]
  },
  {
   "cell_type": "code",
   "execution_count": 39,
   "metadata": {},
   "outputs": [
    {
     "data": {
      "text/html": [
       "<div>\n",
       "<style scoped>\n",
       "    .dataframe tbody tr th:only-of-type {\n",
       "        vertical-align: middle;\n",
       "    }\n",
       "\n",
       "    .dataframe tbody tr th {\n",
       "        vertical-align: top;\n",
       "    }\n",
       "\n",
       "    .dataframe thead th {\n",
       "        text-align: right;\n",
       "    }\n",
       "</style>\n",
       "<table border=\"1\" class=\"dataframe\">\n",
       "  <thead>\n",
       "    <tr style=\"text-align: right;\">\n",
       "      <th></th>\n",
       "      <th>id</th>\n",
       "      <th>source</th>\n",
       "      <th>chart-type</th>\n",
       "      <th>plot-bb</th>\n",
       "      <th>text</th>\n",
       "      <th>axes</th>\n",
       "      <th>data-series</th>\n",
       "      <th>visual-elements</th>\n",
       "      <th>plot_x0</th>\n",
       "      <th>plot_y0</th>\n",
       "      <th>...</th>\n",
       "      <th>plot_w</th>\n",
       "      <th>x_axis</th>\n",
       "      <th>y_axis</th>\n",
       "      <th>x_ticks_type</th>\n",
       "      <th>x_values_type</th>\n",
       "      <th>y_ticks_type</th>\n",
       "      <th>y_values_type</th>\n",
       "      <th>x_ticks</th>\n",
       "      <th>y_ticks</th>\n",
       "      <th>elements_type</th>\n",
       "    </tr>\n",
       "  </thead>\n",
       "  <tbody>\n",
       "    <tr>\n",
       "      <th>0</th>\n",
       "      <td>8941f843bb04</td>\n",
       "      <td>generated</td>\n",
       "      <td>dot</td>\n",
       "      <td>{'height': 210, 'width': 413, 'x0': 77, 'y0': 34}</td>\n",
       "      <td>[{'id': 0, 'polygon': {'x0': 100, 'x1': 381, 'x2': 381, 'x3': 100, 'y0': 7, 'y1': 7, 'y2': 21, '...</td>\n",
       "      <td>{'x-axis': {'ticks': [{'id': 14, 'tick_pt': {'x': 111, 'y': 244}}, {'id': 15, 'tick_pt': {'x': 1...</td>\n",
       "      <td>[{'x': '1-10', 'y': 4}, {'x': '11-20', 'y': 9}, {'x': '21-30', 'y': 3}, {'x': '31-40', 'y': 6}, ...</td>\n",
       "      <td>[{'x': 111.16666666666667, 'y': 231.69999999999996}, {'x': 111.16666666666667, 'y': 211.19999999...</td>\n",
       "      <td>77</td>\n",
       "      <td>34</td>\n",
       "      <td>...</td>\n",
       "      <td>413</td>\n",
       "      <td>{'ticks': [{'id': 14, 'tick_pt': {'x': 111, 'y': 244}}, {'id': 15, 'tick_pt': {'x': 181, 'y': 24...</td>\n",
       "      <td>{'ticks': [{'id': 3, 'tick_pt': {'x': 77, 'y': 34}}, {'id': 4, 'tick_pt': {'x': 77, 'y': 55}}, {...</td>\n",
       "      <td>markers</td>\n",
       "      <td>categorical</td>\n",
       "      <td>markers</td>\n",
       "      <td>numerical</td>\n",
       "      <td>[{'id': 14, 'tick_pt': {'x': 111, 'y': 244}}, {'id': 15, 'tick_pt': {'x': 181, 'y': 244}}, {'id'...</td>\n",
       "      <td>[{'id': 3, 'tick_pt': {'x': 77, 'y': 34}}, {'id': 4, 'tick_pt': {'x': 77, 'y': 55}}, {'id': 5, '...</td>\n",
       "      <td>dot points</td>\n",
       "    </tr>\n",
       "  </tbody>\n",
       "</table>\n",
       "<p>1 rows × 21 columns</p>\n",
       "</div>"
      ],
      "text/plain": [
       "             id     source chart-type                                            plot-bb                                                                                                 text                                                                                                 axes                                                                                          data-series                                                                                      visual-elements  \\\n",
       "0  8941f843bb04  generated        dot  {'height': 210, 'width': 413, 'x0': 77, 'y0': 34}  [{'id': 0, 'polygon': {'x0': 100, 'x1': 381, 'x2': 381, 'x3': 100, 'y0': 7, 'y1': 7, 'y2': 21, '...  {'x-axis': {'ticks': [{'id': 14, 'tick_pt': {'x': 111, 'y': 244}}, {'id': 15, 'tick_pt': {'x': 1...  [{'x': '1-10', 'y': 4}, {'x': '11-20', 'y': 9}, {'x': '21-30', 'y': 3}, {'x': '31-40', 'y': 6}, ...  [{'x': 111.16666666666667, 'y': 231.69999999999996}, {'x': 111.16666666666667, 'y': 211.19999999...   \n",
       "\n",
       "   plot_x0  plot_y0  ...  plot_w                                                                                               x_axis                                                                                               y_axis x_ticks_type x_values_type y_ticks_type y_values_type                                                                                              x_ticks                                                                                              y_ticks  \\\n",
       "0       77       34  ...     413  {'ticks': [{'id': 14, 'tick_pt': {'x': 111, 'y': 244}}, {'id': 15, 'tick_pt': {'x': 181, 'y': 24...  {'ticks': [{'id': 3, 'tick_pt': {'x': 77, 'y': 34}}, {'id': 4, 'tick_pt': {'x': 77, 'y': 55}}, {...      markers   categorical      markers     numerical  [{'id': 14, 'tick_pt': {'x': 111, 'y': 244}}, {'id': 15, 'tick_pt': {'x': 181, 'y': 244}}, {'id'...  [{'id': 3, 'tick_pt': {'x': 77, 'y': 34}}, {'id': 4, 'tick_pt': {'x': 77, 'y': 55}}, {'id': 5, '...   \n",
       "\n",
       "  elements_type  \n",
       "0    dot points  \n",
       "\n",
       "[1 rows x 21 columns]"
      ]
     },
     "execution_count": 39,
     "metadata": {},
     "output_type": "execute_result"
    }
   ],
   "source": [
    "df.head(1)"
   ]
  },
  {
   "cell_type": "code",
   "execution_count": 40,
   "metadata": {},
   "outputs": [],
   "source": [
    "df = df.drop([\"plot-bb\", 'text', \"axes\", \"x_axis\", \"y_axis\", \"x_ticks\", \"y_ticks\", \"data-series\", \"visual-elements\"], axis=1)"
   ]
  },
  {
   "cell_type": "code",
   "execution_count": 41,
   "metadata": {},
   "outputs": [],
   "source": [
    "df.to_csv('./input/df_train.csv', index=False)\n",
    "df_text.to_csv('./input/texts.csv', index=False)\n",
    "df_target.to_csv('./input/y_train.csv', index=False)\n",
    "df_elt.to_csv('./input/elements.csv', index=False)"
   ]
  },
  {
   "cell_type": "code",
   "execution_count": null,
   "metadata": {},
   "outputs": [],
   "source": []
  },
  {
   "cell_type": "markdown",
   "metadata": {},
   "source": [
    "Done ! "
   ]
  }
 ],
 "metadata": {
  "kernelspec": {
   "display_name": "Python 3 (ipykernel)",
   "language": "python",
   "name": "python3"
  },
  "language_info": {
   "codemirror_mode": {
    "name": "ipython",
    "version": 3
   },
   "file_extension": ".py",
   "mimetype": "text/x-python",
   "name": "python",
   "nbconvert_exporter": "python",
   "pygments_lexer": "ipython3",
   "version": "3.8.17"
  },
  "vscode": {
   "interpreter": {
    "hash": "f7241b2af102f7e024509099765066b36197b195077f7bfac6e5bc041ba17c8c"
   }
  }
 },
 "nbformat": 4,
 "nbformat_minor": 4
}
